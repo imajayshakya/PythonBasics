{
 "cells": [
  {
   "cell_type": "code",
   "execution_count": 12,
   "metadata": {},
   "outputs": [
    {
     "data": {
      "text/plain": [
       "11"
      ]
     },
     "execution_count": 12,
     "metadata": {},
     "output_type": "execute_result"
    }
   ],
   "source": [
    "int('23',4)"
   ]
  },
  {
   "cell_type": "code",
   "execution_count": null,
   "metadata": {},
   "outputs": [
    {
     "name": "stdout",
     "output_type": "stream",
     "text": [
      "5 \n"
     ]
    }
   ],
   "source": [
    "m=int(input())\n",
    "n=list(map(int,input().strip().split()))\n",
    "su=sum(n)\n",
    "i=1\n",
    "while(x<su):\n",
    "    x=(i*i*i)\n",
    "if su<x:\n",
    "    print(x-su)\n",
    "elif su==i:\n",
    "    print(\"Yes\")"
   ]
  },
  {
   "cell_type": "code",
   "execution_count": 12,
   "metadata": {},
   "outputs": [
    {
     "data": {
      "text/plain": [
       "list"
      ]
     },
     "execution_count": 12,
     "metadata": {},
     "output_type": "execute_result"
    }
   ],
   "source": [
    "type(x)"
   ]
  },
  {
   "cell_type": "code",
   "execution_count": 8,
   "metadata": {},
   "outputs": [
    {
     "data": {
      "text/plain": [
       "[1, 8, 27, 64, 125, 216, 343, 512, 729, 1000]"
      ]
     },
     "execution_count": 8,
     "metadata": {},
     "output_type": "execute_result"
    }
   ],
   "source": [
    "x"
   ]
  },
  {
   "cell_type": "code",
   "execution_count": null,
   "metadata": {},
   "outputs": [],
   "source": []
  },
  {
   "cell_type": "code",
   "execution_count": null,
   "metadata": {},
   "outputs": [],
   "source": []
  },
  {
   "cell_type": "code",
   "execution_count": null,
   "metadata": {},
   "outputs": [],
   "source": [
    "N=int(input())\n",
    "x=int(input())\n",
    "if N%2==0:\n",
    "    pair=(N-2)/2\n",
    "else:\n",
    "    pair=(N-1)/2\n",
    "print(int(min((x//2),(pair-(x//2)+1))))"
   ]
  },
  {
   "cell_type": "code",
   "execution_count": 56,
   "metadata": {},
   "outputs": [
    {
     "name": "stdout",
     "output_type": "stream",
     "text": [
      "5 3\n",
      "5 2 6 4 1\n",
      "1 2 3 4 5\n",
      "5\n",
      "5 1\n",
      "4 4\n",
      "3 16\n",
      "1 16\n",
      "2 8\n",
      "YES\n",
      "YES\n",
      "NO\n",
      "YES\n",
      "YES\n"
     ]
    }
   ],
   "source": [
    "N,K=input().split()\n",
    "N=int(N)\n",
    "K=int(K)\n",
    "Candy=list(map(int,input().strip().split()))\n",
    "prior=list(map(int,input().strip().split()))\n",
    "# queris\n",
    "Q=int(input())\n",
    "q,q1,d=[],[],[]\n",
    "for i in range(Q):\n",
    "    q=q+input().split()\n",
    "for i in range(len(q)):\n",
    "    if i%2==0:\n",
    "        q1.append(int(q[i]))\n",
    "    else:\n",
    "        d.append(int(q[i]))\n",
    "\n",
    "for i in range(Q):\n",
    "    if q1[i] in Candy and prior[Candy.index(q1[i])] <= prior[-1]:\n",
    "        if  d[i]<= ((i+1)*K*d[i]):\n",
    "            print(\"YES\")\n",
    "    else:\n",
    "        print(\"NO\")"
   ]
  },
  {
   "cell_type": "code",
   "execution_count": null,
   "metadata": {},
   "outputs": [],
   "source": [
    "5 3\n",
    "5 2 6 4 1\n",
    "1 2 3 4 5\n",
    "5\n",
    "5 1\n",
    "4 4\n",
    "3 16\n",
    "1 16\n",
    "2 8\n",
    "[candy.index(q[i])] < prior[(candy.index(q[i]))+1]"
   ]
  },
  {
   "cell_type": "code",
   "execution_count": 93,
   "metadata": {},
   "outputs": [
    {
     "name": "stdout",
     "output_type": "stream",
     "text": [
      "90\n",
      "52\n"
     ]
    }
   ],
   "source": [
    "N =int(input())\n",
    "res=0\n",
    "if N<10:\n",
    "    res=N+1\n",
    "    print(res)\n",
    "elif N>=10 and N<=100:\n",
    "    for i in range(int(N/10),1,-1):\n",
    "        for j in range(i+1):\n",
    "            res+=1\n",
    "    print(res)\n",
    "elif N>100:\n",
    "    for i in range(((N%100)//10),0,-1):\n",
    "        for j in range(i+1):\n",
    "            res+=1\n",
    "    print(res+57)\n",
    "    \n",
    "    \n"
   ]
  },
  {
   "cell_type": "code",
   "execution_count": null,
   "metadata": {},
   "outputs": [],
   "source": [
    "String Re"
   ]
  },
  {
   "cell_type": "code",
   "execution_count": 7,
   "metadata": {},
   "outputs": [
    {
     "name": "stdout",
     "output_type": "stream",
     "text": [
      "Hello world\n",
      "world Hello\n"
     ]
    }
   ],
   "source": [
    "str1=input().split()\n",
    "lis=str1[::-1]\n",
    "res=\" \".join(lis)\n",
    "print(res)"
   ]
  },
  {
   "cell_type": "code",
   "execution_count": 13,
   "metadata": {},
   "outputs": [
    {
     "name": "stdout",
     "output_type": "stream",
     "text": [
      "3\n",
      "1\n",
      "2\n",
      "3\n",
      "9\n"
     ]
    }
   ],
   "source": [
    "n=int(input())\n",
    "s=[]\n",
    "for i in range(n):\n",
    "    s.append(int(input()))\n",
    "print(len(set(s))**2)"
   ]
  },
  {
   "cell_type": "markdown",
   "metadata": {},
   "source": [
    "# Mobile Phone"
   ]
  },
  {
   "cell_type": "code",
   "execution_count": 9,
   "metadata": {},
   "outputs": [
    {
     "name": "stdout",
     "output_type": "stream",
     "text": [
      "5\n",
      "40 56 20 10 8\n",
      "Maximum revenue------ 80            price---------- 40\n"
     ]
    }
   ],
   "source": [
    "n=int(input())\n",
    "survey=list(map(int,input().strip().split()))\n",
    "a=[]\n",
    "survey.sort()\n",
    "for i in range(len(survey)):\n",
    "    a.append(survey[i]*(len(survey)-i))\n",
    "    \n",
    "b=max(a)\n",
    "c=a.index(b)\n",
    "print(\"Maximum revenue------\",b,\"           price----------\",survey[c])\n"
   ]
  },
  {
   "cell_type": "markdown",
   "metadata": {},
   "source": [
    "# And-Or Game"
   ]
  },
  {
   "cell_type": "code",
   "execution_count": 32,
   "metadata": {},
   "outputs": [
    {
     "name": "stdout",
     "output_type": "stream",
     "text": [
      "1\n",
      "4 3\n",
      "1 3 5 6\n",
      "3 6 10\n",
      "{0, 1, 2, 3, 4, 5, 6, 7}\n",
      "8\n",
      "Execution time =  10.830984592437744\n"
     ]
    }
   ],
   "source": [
    "import time\n",
    " \n",
    "t=int(input())\n",
    "\n",
    "for i in range(t):\n",
    "    start = time.time()\n",
    "    x,y=input().split(' ')\n",
    "    a=list(map(int,input().strip().split()[:int(x)]))\n",
    "    b=list(map(int,input().strip().split()[:int(y)]))\n",
    "    res=[]\n",
    "    for l in range(int(x)):\n",
    "        for m in range(int(x)):\n",
    "            v=a[l]|a[m]\n",
    "            res.append(v)\n",
    "    for l in range(len(res)):\n",
    "        for m in range(int(y)):\n",
    "            v=res[l]&b[m]\n",
    "            res.append(v)\n",
    "    print(set(res))\n",
    "    print(len(set(res))+1)\n",
    "print(\"Execution time = \", time.time()-start)"
   ]
  },
  {
   "cell_type": "markdown",
   "metadata": {},
   "source": [
    "# Solution "
   ]
  },
  {
   "cell_type": "code",
   "execution_count": null,
   "metadata": {},
   "outputs": [],
   "source": [
    "t=int(input())\n",
    "for e in range(t):\n",
    "    n,m=map(int,input().split())\n",
    "    p=list(map(int,input().split()))\n",
    "    q=list(map(int,input().split()))\n",
    "    s=set()\n",
    "    l=[0]\n",
    "    while l!=[]:\n",
    "        a=l[-1]\n",
    "        l.pop()\n",
    "        for i in range(m):\n",
    "            b=q[i]\n",
    "            if a&b not in s:\n",
    "                s.add(a&b)\n",
    "                l.append(a&b)\n",
    "        for i in range(n):\n",
    "            b=p[i]\n",
    "            if a|b not in s:\n",
    "                s.add(a|b)\n",
    "                l.append(a|b)\n",
    "        \n",
    "    print(len(s))"
   ]
  },
  {
   "cell_type": "code",
   "execution_count": 42,
   "metadata": {},
   "outputs": [
    {
     "name": "stdout",
     "output_type": "stream",
     "text": [
      "1\n",
      "2 5 7\n",
      "20 36\n",
      "7\n"
     ]
    }
   ],
   "source": [
    "t=int(input())\n",
    "for i in range(t):\n",
    "    n,k,d=input().split(\" \")\n",
    "    lis=list(map(int,input().strip().split()[:int(n)]))\n",
    "    i=sum(lis)\n",
    "    if int(k)>i:\n",
    "        print(int(\"0\"))\n",
    "    else:\n",
    "        a=i//int(k)\n",
    "        if a<int(d):\n",
    "            print(a)\n",
    "        else:\n",
    "            print(int(d))"
   ]
  },
  {
   "cell_type": "code",
   "execution_count": 41,
   "metadata": {},
   "outputs": [
    {
     "name": "stdout",
     "output_type": "stream",
     "text": [
      "0\n"
     ]
    }
   ],
   "source": [
    "print(int(\"0\"))"
   ]
  },
  {
   "cell_type": "markdown",
   "metadata": {},
   "source": [
    "# task"
   ]
  },
  {
   "cell_type": "code",
   "execution_count": null,
   "metadata": {},
   "outputs": [],
   "source": [
    "t=int(input())\n",
    "\n",
    "for i in range(t):\n",
    "    x,y=input().split(' ')\n",
    "    a=list(map(int,input().strip().split()[:int(x)]))\n",
    "    b=list(map(int,input().strip().split()[:int(y)]))\n",
    "    v=0\n",
    "    res=[v]\n",
    "    for l in range(len(a)):\n",
    "        for m in range(len(a)):\n",
    "            v=a[l]|a[m]\n",
    "            res.append(v)\n",
    "    for l in range(len(res)):\n",
    "        for m in range(len(b)):\n",
    "            v=res[l]&b[m]\n",
    "            res.append(v)\n",
    "    print(len(set(res)))"
   ]
  },
  {
   "cell_type": "code",
   "execution_count": 38,
   "metadata": {},
   "outputs": [
    {
     "name": "stdout",
     "output_type": "stream",
     "text": [
      "1\n",
      "8\n",
      "00001111\n",
      "0 ['a', 'b', 'c', 'd', 'e', 'f', 'g', 'h']\n",
      "0 ['a', 'b', 'c', 'd']\n",
      "0 ['a', 'b']\n",
      "0 ['a']\n",
      "1 ['i', 'j', 'k', 'l', 'm', 'n', 'o', 'p']\n",
      "1 ['m', 'n', 'o', 'p']\n",
      "1 ['o', 'p']\n",
      "1 ['p']\n",
      "ap\n"
     ]
    }
   ],
   "source": [
    "test=int(input())\n",
    "str1=['a','b','c','d','e','f','g','h','i','j','k','l','m','n','o','p']\n",
    "\n",
    "for i in range(test):\n",
    "    x=int(input())\n",
    "    code=input()\n",
    "    res=[]\n",
    "    l=0\n",
    "    alph=str1\n",
    "    for i in range(1,(x//4)+1):\n",
    "        for j in range(4):\n",
    "            if int(code[l]) is 0:\n",
    "                alph=alph[:len(alph)//2]\n",
    "                print(\"0\",alph)\n",
    "                l+=1\n",
    "            elif int(code[l]) is 1:\n",
    "                alph=alph[(len(alph)//2):]\n",
    "                print(\"1\",alph)\n",
    "                l+=1\n",
    "            \n",
    "        res=res+alph\n",
    "        alph=str1\n",
    "    print(\"\".join(res))\n",
    "            \n",
    "\n"
   ]
  },
  {
   "cell_type": "code",
   "execution_count": 36,
   "metadata": {},
   "outputs": [
    {
     "data": {
      "text/plain": [
       "5"
      ]
     },
     "execution_count": 36,
     "metadata": {},
     "output_type": "execute_result"
    }
   ],
   "source": [
    "test=int(input())\n",
    "str1=['a','b','c','d','e','f','g','h','i','j','k','l','m','n','o','p']\n",
    "alph=str1\n",
    "for i in range(test):\n",
    "    x=int(input())\n",
    "    code=input()\n",
    "    res=[]\n",
    "    l=0\n",
    "    for i in range(1,(x//4)+1):\n",
    "        for j in range(4):\n",
    "            if int(code[l]) is 0:\n",
    "                alph=alph[:len(alph)//2]\n",
    "                l+=1\n",
    "            elif int(code[l]) is 1:\n",
    "                alph=alph[(len(alph)//2):]\n",
    "                l+=1   \n",
    "        res=res+alph\n",
    "        alph=str1\n",
    "    print(\"\".join(res))\n"
   ]
  },
  {
   "cell_type": "markdown",
   "metadata": {},
   "source": [
    "# Point Of Impact "
   ]
  },
  {
   "cell_type": "code",
   "execution_count": 12,
   "metadata": {},
   "outputs": [
    {
     "name": "stdout",
     "output_type": "stream",
     "text": [
      "2\n",
      "5 5 3 3\n",
      "5 5 5 4 3 2\n",
      "1 0 "
     ]
    }
   ],
   "source": [
    "test=int(input())\n",
    "for i in range(test):\n",
    "    n,k,x,y=input().split(\" \")\n",
    "    n,k,x,y=int(n),int(k),int(x),int(y)\n",
    "    res=[]\n",
    "    for i in range(1,5):\n",
    "        if i%2==0:\n",
    "            M=max(n-x,n-y)\n",
    "            if M==0:\n",
    "                x,y=0,0\n",
    "            else:\n",
    "                x,y=y,x\n",
    "        else:\n",
    "            m=min(n-x,n-y)\n",
    "            if m==0:\n",
    "                if x>y:\n",
    "                    x,y=x-y,m\n",
    "                else:\n",
    "                    x,y=m,y-x\n",
    "            else:\n",
    "                if x<n:\n",
    "                    x,y=x+m,y+m\n",
    "                else:\n",
    "                    x,y=m,y+m\n",
    "        \n",
    "        res.append((x,y))\n",
    "#     print(res)\n",
    "    if k<=4:\n",
    "        for i in res[k-1]:\n",
    "            print(i,end=\" \")\n",
    "    else:\n",
    "        k=k%4\n",
    "        for i in res[k-1]:\n",
    "            print(i,end=\" \")\n"
   ]
  },
  {
   "cell_type": "code",
   "execution_count": 2,
   "metadata": {},
   "outputs": [
    {
     "name": "stdout",
     "output_type": "stream",
     "text": [
      "2\n",
      "5 5 4 4\n",
      "5\n",
      "5\n",
      "5 4 4 2\n",
      "2\n",
      "0\n"
     ]
    }
   ],
   "source": [
    "test=int(input())\n",
    "for i in range(test):\n",
    "    n,k,x,y=input().split(\" \")\n",
    "    n,k,x,y=int(n),int(k),int(x),int(y)\n",
    "    res=[]\n",
    "    if n>=2:\n",
    "        for i in range(1,5):\n",
    "            if i%2==0:\n",
    "                M=max(n-x,n-y)\n",
    "                if M==0:\n",
    "                    x,y=0,0\n",
    "                else:\n",
    "                    x,y=y,x\n",
    "            else:\n",
    "                m=min(n-x,n-y)\n",
    "                if m==0:\n",
    "                    if x<y:\n",
    "                        x,y=0,y-x\n",
    "                    else:\n",
    "                        x,y=x-y,0\n",
    "                else:\n",
    "                    x,y=x+m,y+m\n",
    "            res.append((x,y))\n",
    "        if k<=4:\n",
    "            for i in res[k-1]:\n",
    "                print(i,end=\" \")\n",
    "        elif k<=10^7:\n",
    "            k=k%4\n",
    "            for i in res[k-1]:\n",
    "                print(i,end=\" \")\n"
   ]
  },
  {
   "cell_type": "code",
   "execution_count": 2,
   "metadata": {},
   "outputs": [
    {
     "data": {
      "text/plain": [
       "[(3, 5), (5, 3), (0, -2), (-2, 0)]"
      ]
     },
     "execution_count": 2,
     "metadata": {},
     "output_type": "execute_result"
    }
   ],
   "source": [
    "2\n",
    "5 5 4 4\n",
    "5 2 3 1"
   ]
  },
  {
   "cell_type": "markdown",
   "metadata": {},
   "source": [
    "# Solution OF POINT OF IMPACT "
   ]
  },
  {
   "cell_type": "code",
   "execution_count": 1,
   "metadata": {},
   "outputs": [
    {
     "name": "stdout",
     "output_type": "stream",
     "text": [
      "2\n",
      "5 5 4 4\n",
      "5 5\n",
      "5 2 3 1\n",
      "3 5\n"
     ]
    }
   ],
   "source": [
    "def getmod4(k,temp):\n",
    "    t=temp[(k-1)%4]\n",
    "    return t\n",
    "\n",
    "t=int(input())\n",
    "for i in range(t):\n",
    "    n,k,x,y=list(map(int,input().split()))\n",
    "    if x==y:\n",
    "        print(n,n)\n",
    "    else:\n",
    "        temp=[]\n",
    "        if x<y:\n",
    "            \n",
    "            temp=[[x+n-y,n],[n,n-y+x],[y-x,0],[0,y-x]] \n",
    "        else:\n",
    "            temp=[[n,y+n-x],[y+n-x,n],[0,x-y],[x-y,0]]\n",
    "        tdh=getmod4(k,temp)\n",
    "    \n",
    "        print(tdh[0],tdh[1])   \n"
   ]
  },
  {
   "cell_type": "code",
   "execution_count": 15,
   "metadata": {},
   "outputs": [
    {
     "name": "stdout",
     "output_type": "stream",
     "text": [
      "Text : helloworld\n",
      "Shift : 3\n",
      "Cipher: khoorzruog\n"
     ]
    }
   ],
   "source": [
    "#A python program to illustrate Caesar Cipher Technique \n",
    "def encrypt(text,s): \n",
    "\tresult = \"\" \n",
    "\n",
    "\t# traverse text \n",
    "\tfor i in range(len(text)): \n",
    "\t\tchar = text[i] \n",
    "\n",
    "\t\t# Encrypt uppercase characters \n",
    "\t\tif (char.isupper()): \n",
    "\t\t\tresult += chr((ord(char) + s-65) % 26 + 65) \n",
    "\n",
    "\t\t# Encrypt lowercase characters \n",
    "\t\telse: \n",
    "\t\t\tresult += chr((ord(char) + s - 97) % 26 + 97) \n",
    "\n",
    "\treturn result \n",
    "\n",
    "#check the above function \n",
    "text = \"helloworld\"\n",
    "s = 3\n",
    "print(\"Text : \" + text) \n",
    "print(\"Shift : \" + str(s)) \n",
    "print(\"Cipher: \" + encrypt(text,s))\n"
   ]
  },
  {
   "cell_type": "code",
   "execution_count": 20,
   "metadata": {},
   "outputs": [
    {
     "ename": "NameError",
     "evalue": "name 'ob' is not defined",
     "output_type": "error",
     "traceback": [
      "\u001b[1;31m---------------------------------------------------------------------------\u001b[0m",
      "\u001b[1;31mNameError\u001b[0m                                 Traceback (most recent call last)",
      "\u001b[1;32m<ipython-input-20-cb1807f85414>\u001b[0m in \u001b[0;36m<module>\u001b[1;34m\u001b[0m\n\u001b[0;32m      8\u001b[0m \u001b[0mob\u001b[0m\u001b[1;33m=\u001b[0m\u001b[0mEmp\u001b[0m\u001b[1;33m(\u001b[0m\u001b[1;33m)\u001b[0m\u001b[1;33m\u001b[0m\u001b[1;33m\u001b[0m\u001b[0m\n\u001b[0;32m      9\u001b[0m \u001b[1;32mdel\u001b[0m \u001b[0mob\u001b[0m\u001b[1;33m\u001b[0m\u001b[1;33m\u001b[0m\u001b[0m\n\u001b[1;32m---> 10\u001b[1;33m \u001b[0mob\u001b[0m\u001b[1;33m.\u001b[0m\u001b[0mhello\u001b[0m\u001b[1;33m(\u001b[0m\u001b[1;33m)\u001b[0m\u001b[1;33m\u001b[0m\u001b[1;33m\u001b[0m\u001b[0m\n\u001b[0m\u001b[0;32m     11\u001b[0m \u001b[1;33m\u001b[0m\u001b[0m\n",
      "\u001b[1;31mNameError\u001b[0m: name 'ob' is not defined"
     ]
    }
   ],
   "source": [
    "class Emp:\n",
    "    def __init__(self):\n",
    "        pass\n",
    "    def hello(self):\n",
    "        print('Hi')\n",
    "    def __del__(self):\n",
    "        pass\n",
    "ob=Emp()\n",
    "del ob\n",
    "ob.hello()\n",
    "    "
   ]
  },
  {
   "cell_type": "code",
   "execution_count": 4,
   "metadata": {},
   "outputs": [
    {
     "name": "stdout",
     "output_type": "stream",
     "text": [
      "5\n",
      "7\n"
     ]
    }
   ],
   "source": [
    "def fibonacci(k):\n",
    "    a=[]\n",
    "    num1 = 0\n",
    "    num2 = 1\n",
    "    series = 0\n",
    "    for i in range(k):\n",
    "        a.append(series)\n",
    "        num1 = num2;\n",
    "        num2 = series;\n",
    "        series = num1 + num2\n",
    "    print(sum(a))\n",
    "\n",
    "k = int(input())\n",
    "fibonacci(k)"
   ]
  },
  {
   "cell_type": "markdown",
   "metadata": {},
   "source": []
  }
 ],
 "metadata": {
  "kernelspec": {
   "display_name": "Python 3",
   "language": "python",
   "name": "python3"
  },
  "language_info": {
   "codemirror_mode": {
    "name": "ipython",
    "version": 3
   },
   "file_extension": ".py",
   "mimetype": "text/x-python",
   "name": "python",
   "nbconvert_exporter": "python",
   "pygments_lexer": "ipython3",
   "version": "3.7.6"
  }
 },
 "nbformat": 4,
 "nbformat_minor": 4
}
