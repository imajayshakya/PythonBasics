{
 "cells": [
  {
   "cell_type": "code",
   "execution_count": 11,
   "metadata": {},
   "outputs": [
    {
     "name": "stdout",
     "output_type": "stream",
     "text": [
      "Hello Ajay shakya! You just delved into python.\n"
     ]
    }
   ],
   "source": [
    "a=\"Ajay\"\n",
    "b=\"shakya\"\n",
    "str=\"Hello {} {}! You just delved into python.\"\n",
    "print(str.format(a,b))"
   ]
  },
  {
   "cell_type": "code",
   "execution_count": 51,
   "metadata": {},
   "outputs": [
    {
     "name": "stdout",
     "output_type": "stream",
     "text": [
      "Enter the no. of rows : 9\n",
      "1\t2\t3\t4\t5\t6\t7\t8\t9\t\n",
      "32\t33\t34\t35\t36\t37\t38\t39\t10\t\n",
      "31\t56\t57\t58\t59\t60\t61\t40\t11\t\n",
      "30\t55\t72\t73\t74\t75\t62\t41\t12\t\n",
      "29\t54\t71\t80\t81\t76\t63\t42\t13\t\n",
      "28\t53\t70\t79\t78\t77\t64\t43\t14\t\n",
      "27\t52\t69\t68\t67\t66\t65\t44\t15\t\n",
      "26\t51\t50\t49\t48\t47\t46\t45\t16\t\n",
      "25\t24\t23\t22\t21\t20\t19\t18\t17\t\n"
     ]
    }
   ],
   "source": [
    "num=int(input(\"Enter the no. of rows : \"))\n",
    "n_list=[[0 for x in range(num)]for y in range(num)]\n",
    "n=1\n",
    "low=0\n",
    "high=num-1\n",
    "count=int((num+1)/2)\n",
    "for i in range(count):\n",
    "    for j in range(low,high+1):\n",
    "        n_list[i][j]=n\n",
    "        n=n+1\n",
    "    for j in range(low+1,high+1):\n",
    "        n_list[j][high]=n\n",
    "        n=n+1\n",
    "    for j in range(high-1,low-1,-1):\n",
    "        n_list[high][j]=n\n",
    "        n=n+1\n",
    "    for j in range(high-1,low,-1):\n",
    "        n_list[j][low]=n\n",
    "        n=n+1\n",
    "    low=low+1\n",
    "    high=high-1\n",
    "for i in range(num):\n",
    "    for j in range(num):\n",
    "        print(n_list[i][j],end=\"\\t\")\n",
    "    print()\n",
    "    "
   ]
  },
  {
   "cell_type": "code",
   "execution_count": 1,
   "metadata": {},
   "outputs": [
    {
     "name": "stdout",
     "output_type": "stream",
     "text": [
      "Enter the no. of rows : 3\n",
      "3 3 3 3 3 \n",
      "3 2 2 2 3 \n",
      "3 2 1 2 3 \n",
      "3 2 2 2 3 \n",
      "3 3 3 3 3 \n"
     ]
    }
   ],
   "source": [
    "enum=int(input(\"Enter the no. of rows : \"))\n",
    "num=2*enum\n",
    "n_list=[[0 for x in range(num-1)]for y in range(num)]\n",
    "n=enum\n",
    "low=0\n",
    "high=num-2\n",
    "count=int((num+1)/2)\n",
    "for i in range(count):\n",
    "    for j in range(low,high+1):\n",
    "        n_list[i][j]=n\n",
    "    for j in range(low+1,high+1):\n",
    "        n_list[j][high]=n\n",
    "    for j in range(high-1,low-1,-1):\n",
    "        n_list[high][j]=n\n",
    "    for j in range(high-1,low,-1):\n",
    "        n_list[j][low]=n\n",
    "    n=n-1\n",
    "    low=low+1\n",
    "    high=high-1\n",
    "for i in range(num-1):\n",
    "    for j in range(num-1):\n",
    "        print(n_list[i][j],end=\" \")\n",
    "    print()"
   ]
  },
  {
   "cell_type": "code",
   "execution_count": 52,
   "metadata": {},
   "outputs": [
    {
     "name": "stdout",
     "output_type": "stream",
     "text": [
      "Enter the side of the square  : 10\n",
      "* * * * * * * * * * \n",
      "*                 * \n",
      "*                 * \n",
      "*                 * \n",
      "*                 * \n",
      "*                 * \n",
      "*                 * \n",
      "*                 * \n",
      "*                 * \n",
      "* * * * * * * * * * \n"
     ]
    }
   ],
   "source": [
    "length = int(input(\"Enter the side of the square  : \"))\n",
    "for i in range(length):\n",
    "    for j in range(length):\n",
    "        if(i == 0 or i == length - 1 or j == 0 or j == length - 1):\n",
    "            print('*', end = ' ')\n",
    "        else:\n",
    "            print(' ', end = ' ')\n",
    "    print()"
   ]
  },
  {
   "cell_type": "code",
   "execution_count": 2,
   "metadata": {},
   "outputs": [
    {
     "name": "stdout",
     "output_type": "stream",
     "text": [
      "Enter the no. of rows : 5\n",
      "[[0, 0, 0, 0, 0], [0, 0, 0, 0, 0], [0, 0, 0, 0, 0], [0, 0, 0, 0, 0], [0, 0, 0, 0, 0]]\n"
     ]
    }
   ],
   "source": [
    "num=int(input(\"Enter the no. of rows : \"))\n",
    "n_list=[[0 for x in range(num)]for y in range(num)]\n",
    "print(n_list)"
   ]
  },
  {
   "cell_type": "code",
   "execution_count": 23,
   "metadata": {},
   "outputs": [
    {
     "name": "stdout",
     "output_type": "stream",
     "text": [
      "hack\n",
      "2\n"
     ]
    }
   ],
   "source": [
    "from itertools import permutations\n",
    "h=input().split()\n",
    "n = int(input())\n",
    "res=permutations(list(sorted(h)),n)\n",
    "for i in res:\n",
    "    print(*i,sep='')"
   ]
  },
  {
   "cell_type": "code",
   "execution_count": 4,
   "metadata": {},
   "outputs": [],
   "source": [
    "def fun1(s):\n",
    "    if len(s)==0:\n",
    "        return s\n",
    "    else:\n",
    "        return fun1(s[1:]) + s[0]\n",
    "    "
   ]
  },
  {
   "cell_type": "code",
   "execution_count": 5,
   "metadata": {},
   "outputs": [
    {
     "data": {
      "text/plain": [
       "'cba'"
      ]
     },
     "execution_count": 5,
     "metadata": {},
     "output_type": "execute_result"
    }
   ],
   "source": [
    "s=\"abc\"\n",
    "fun1(s)"
   ]
  },
  {
   "cell_type": "code",
   "execution_count": 7,
   "metadata": {},
   "outputs": [
    {
     "name": "stdout",
     "output_type": "stream",
     "text": [
      "['a', 'b', 'cisdisnisnjf']\n"
     ]
    }
   ],
   "source": [
    "print(\"aisbiscisdisnisnjf\".split(\"is\",2))"
   ]
  },
  {
   "cell_type": "code",
   "execution_count": 31,
   "metadata": {},
   "outputs": [
    {
     "name": "stdout",
     "output_type": "stream",
     "text": [
      "1\n",
      "5 2\n",
      "1\n"
     ]
    }
   ],
   "source": [
    "# cook your dish here\n",
    "t=int(input())\n",
    "def gt(a,b):\n",
    "    if a<b or b==0 :\n",
    "        print(a)  \n",
    "    elif b<=a:\n",
    "        print(a%b)\n",
    "for i in range(t):\n",
    "    a,b=input().split()\n",
    "    a=int(a)\n",
    "    b=int(b)\n",
    "    gt(a,b)\n",
    "    \n",
    "# 3\n",
    "# 5 2\n",
    "# 4 4\n",
    "# 2 5"
   ]
  },
  {
   "cell_type": "markdown",
   "metadata": {},
   "source": [
    "Daanish as always is busy creating and solving his favourite and interesting graph problems. Chef assigns each problem a difficulty — an integer between 1 and 10. For each valid i, there are Ai problems with difficulty i.\n",
    "\n",
    "A participant hacked Daanish's account and got access to the problem proposal document. He can delete up to K problems from the document in order to reduce the difficulty of the contest for himself and his friends. Find the smallest possible value of the difficulty of the most difficult problem which remains after removing K problems."
   ]
  },
  {
   "cell_type": "code",
   "execution_count": 37,
   "metadata": {},
   "outputs": [
    {
     "name": "stdout",
     "output_type": "stream",
     "text": [
      "1\n",
      "2 0 1 0 0 0 0 0 0 10\n",
      "10\n",
      "3\n"
     ]
    }
   ],
   "source": [
    "t=int(input())\n",
    "for i in range(t):\n",
    "    a=list(map(int,input().strip().split()))\n",
    "    k=int(input())\n",
    "    su=sum(a)\n",
    "    re=su-k\n",
    "    ct=0\n",
    "    res=0\n",
    "    for i in a:\n",
    "        res+=i\n",
    "        ct+=1\n",
    "        if res>=re:\n",
    "            print(ct)\n",
    "            break"
   ]
  },
  {
   "cell_type": "markdown",
   "metadata": {},
   "source": [
    "You are given a sequence A1,A2,…,AN. You may perform the following operation any number of times: select any two adjacent elements Ai and Ai+1 and replace one of them with Ai+Ai+12 (a real number, i.e. without rounding). You may also select each pair of adjacent elements and each element to replace in multiple operations, i.e. any number of times.\n",
    "\n",
    "Is it possible to make the sequence strictly increasing in a finite number of operations?\n",
    "\n",
    "Example Input\n",
    "4\n",
    "2\n",
    "7 4\n",
    "3\n",
    "1 2 2\n",
    "5\n",
    "5 5 5 5 5\n",
    "8\n",
    "7 2 4 1 6 8 3 9\n",
    "Example Output\n",
    "No\n",
    "Yes\n",
    "No\n",
    "Yes\n",
    "Explanation\n",
    "Example case 1: Clearly, after any sequence of operations, A1>A2 holds, so it is impossible to make the sequence strictly increasing.\n",
    "\n",
    "Example case 2: Choose A1 and A2 and change A2 to 1+22. The sequence after this operation is [1,1.5,2], which is a strictly increasing sequence.\n",
    "\n",
    "There may also be other valid sequences of operations that give a strictly increasing sequence.\n",
    "\n",
    "Example case 3: No matter which pair of adjacent elements we choose, we can only change one of them to 5+52=5, so the sequence always remains [5,5,5,5,5].\n",
    "\n"
   ]
  },
  {
   "cell_type": "code",
   "execution_count": 9,
   "metadata": {},
   "outputs": [
    {
     "data": {
      "text/plain": [
       "[4.5, 2, 2.0, 1, 3.5, 4.375, 3, 6.0]"
      ]
     },
     "execution_count": 9,
     "metadata": {},
     "output_type": "execute_result"
    }
   ],
   "source": [
    "a"
   ]
  },
  {
   "cell_type": "code",
   "execution_count": 5,
   "metadata": {},
   "outputs": [
    {
     "name": "stdout",
     "output_type": "stream",
     "text": [
      "1\n",
      "8\n",
      "7 2 4 1 6 8 3 9\n"
     ]
    }
   ],
   "source": [
    "t=int(input())\n",
    "\n",
    "def check(a):\n",
    "    k=0\n",
    "    for i in range(len(a)-1):\n",
    "            if a[i]>a[i+1] and a[-1]<a[i]:\n",
    "                print(\"No\")\n",
    "                break\n",
    "            elif a[i]>a[i+1]and a[-1]>a[i]:\n",
    "                a[i]=(a[i]+a[i+1])/2\n",
    "            else:\n",
    "                a[i+1]=(a[i]+a[i+1])/2\n",
    "    if a==sorted(a):\n",
    "        print(\"Yes\")\n",
    "    elif a==a and a[-1]<a[0]:\n",
    "        pass\n",
    "    else:\n",
    "        check(a)\n",
    "        \n",
    "for i in range(t):\n",
    "    n=int(input())\n",
    "    a=list(map(int,input().strip().split()))\n",
    "    if n<2 or len(set(a))==1:\n",
    "        print(\"No\")\n",
    "    else:\n",
    "        check(a)\n",
    "        \n"
   ]
  },
  {
   "cell_type": "code",
   "execution_count": null,
   "metadata": {},
   "outputs": [],
   "source": []
  }
 ],
 "metadata": {
  "kernelspec": {
   "display_name": "Python 3",
   "language": "python",
   "name": "python3"
  },
  "language_info": {
   "codemirror_mode": {
    "name": "ipython",
    "version": 3
   },
   "file_extension": ".py",
   "mimetype": "text/x-python",
   "name": "python",
   "nbconvert_exporter": "python",
   "pygments_lexer": "ipython3",
   "version": "3.7.6"
  }
 },
 "nbformat": 4,
 "nbformat_minor": 2
}
