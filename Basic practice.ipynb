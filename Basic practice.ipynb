{
 "cells": [
  {
   "cell_type": "markdown",
   "metadata": {},
   "source": [
    "# Basic Practice"
   ]
  },
  {
   "cell_type": "markdown",
   "metadata": {},
   "source": [
    "# Reverse A Number"
   ]
  },
  {
   "cell_type": "code",
   "execution_count": 1,
   "metadata": {},
   "outputs": [
    {
     "name": "stdout",
     "output_type": "stream",
     "text": [
      "enter four digit number: 8763\n",
      "Enter number is :  8763\n",
      "reverse of  8763 is: 3 6 7 8\n"
     ]
    }
   ],
   "source": [
    "num=eval(input('enter four digit number: '))\n",
    "print(\"Enter number is : \",num)\n",
    "r1=num%10\n",
    "q1=num//10\n",
    "r2=q1%10\n",
    "q2=q1//10\n",
    "r3=q2%10\n",
    "q3=q2//10\n",
    "r4=q3%10\n",
    "print('reverse of ',num,'is:',r1,r2,r3,r4)"
   ]
  },
  {
   "cell_type": "markdown",
   "metadata": {},
   "source": [
    "# write a program to calculate the distance between two points."
   ]
  },
  {
   "cell_type": "code",
   "execution_count": 3,
   "metadata": {},
   "outputs": [
    {
     "name": "stdout",
     "output_type": "stream",
     "text": [
      "Point1\n",
      "Enter X1 coordinates: 4\n",
      "Enter Y1 coordinates: 6\n",
      "point2\n",
      "Enter X2 coordinates: 8\n",
      "Enter Y2 coordinates: 10\n",
      "Distance between two points is : \n",
      "( 4 8 ) ( 8 10 )= 5.656854249492381\n"
     ]
    }
   ],
   "source": [
    "# write a program to calculate the distance between two points.\n",
    "print('Point1')\n",
    "X1=eval(input(\"Enter X1 coordinates: \"))\n",
    "Y1=eval(input(\"Enter Y1 coordinates: \"))\n",
    "print('point2')\n",
    "X2=eval(input(\"Enter X2 coordinates: \"))\n",
    "Y2=eval(input(\"Enter Y2 coordinates: \"))\n",
    "L1=(X2-X1)**2 + (Y2-Y1)**2   \n",
    "Distance = L1**0.5\n",
    "print('Distance between two points is : ')\n",
    "print('(',X1,X2,')','(',X2,Y2,')=',Distance)\n"
   ]
  },
  {
   "cell_type": "code",
   "execution_count": 4,
   "metadata": {},
   "outputs": [
    {
     "name": "stdout",
     "output_type": "stream",
     "text": [
      "X \t Y \t X**Y\n",
      "10 \t 2 \t  100\n",
      "10 \t 3 \t  1000\n",
      "10 \t 4 \t  10000\n",
      "10 \t 5 \t  100000\n"
     ]
    }
   ],
   "source": [
    "# Write a program to display the following table \n",
    "print('X \\t Y \\t X**Y')\n",
    "print('10 \\t 2 \\t ',10**2)\n",
    "print('10 \\t 3 \\t ',10**3)\n",
    "print('10 \\t 4 \\t ',10**4)\n",
    "print('10 \\t 5 \\t ',10**5)"
   ]
  },
  {
   "cell_type": "markdown",
   "metadata": {},
   "source": [
    "# Area of Circle"
   ]
  },
  {
   "cell_type": "code",
   "execution_count": 9,
   "metadata": {},
   "outputs": [
    {
     "name": "stdout",
     "output_type": "stream",
     "text": [
      "Enter the radius of circle2\n",
      "Radius =  2\n",
      "Area of Circle is =  12.56\n"
     ]
    }
   ],
   "source": [
    "#write aprogram using compound assingnment operators to calculate the Area of a circle.\n",
    "radius= eval(input('Enter the radius of circle')) \n",
    "print('Radius = ',radius)\n",
    "area = 3.14\n",
    "radius **=2     #radius= radius **2\n",
    "area*=radius    #Area= Area *radius\n",
    "print('Area of Circle is = ',area)"
   ]
  },
  {
   "cell_type": "code",
   "execution_count": 10,
   "metadata": {},
   "outputs": [
    {
     "name": "stdout",
     "output_type": "stream",
     "text": [
      "The Capital letters A to Z are as follows: \n",
      "A B C D E F G H I J K L M N O P Q R S T U V W X Y Z "
     ]
    }
   ],
   "source": [
    "#  5&6\n",
    "# Display capital letters A to Z \n",
    "print('The Capital letters A to Z are as follows: ')\n",
    "for i in range(65,91,1):\n",
    "    print(chr(i),end=\" \")"
   ]
  },
  {
   "cell_type": "code",
   "execution_count": 15,
   "metadata": {},
   "outputs": [
    {
     "name": "stdout",
     "output_type": "stream",
     "text": [
      "Multiplication Table from 1 to 5\n",
      "   1    2    3    4    5 \n",
      "   2    4    6    8   10 \n",
      "   3    6    9   12   15 \n",
      "   4    8   12   16   20 \n",
      "   5   10   15   20   25 \n",
      "   6   12   18   24   30 \n",
      "   7   14   21   28   35 \n",
      "   8   16   24   32   40 \n",
      "   9   18   27   36   45 \n",
      "  10   20   30   40   50 \n",
      "End of program\n"
     ]
    }
   ],
   "source": [
    "# 1^3\n",
    "# Write a program to display multiplication tables from 1 to 5 \n",
    "print(\"Multiplication Table from 1 to 5\")\n",
    "for i in range(1,11,1):\n",
    "    for j in  range(1,6,1):\n",
    "        print(format(i*j,\"4d\"),end=\" \")\n",
    "    print()  \n",
    "print(\"End of program\")"
   ]
  },
  {
   "cell_type": "markdown",
   "metadata": {},
   "source": [
    "# Pattern Display"
   ]
  },
  {
   "cell_type": "code",
   "execution_count": 18,
   "metadata": {},
   "outputs": [
    {
     "name": "stdout",
     "output_type": "stream",
     "text": [
      "Star Pattern Display \n",
      "2\n",
      "* \n",
      "* * \n",
      "<<<<<<<Program Done>>>>>>>\n"
     ]
    }
   ],
   "source": [
    "# Write a program to display a pattern \n",
    "print(\"Star Pattern Display \")\n",
    "N=int(input())\n",
    "num=1 \n",
    "x=num\n",
    "for i in range(1,N+1,1):\n",
    "    num+=1;\n",
    "    for i in range(1,num,1):\n",
    "        print(\"*\",end=\" \")\n",
    "        x=num+1\n",
    "    print()\n",
    "print(\"<<<<<<<Program Done>>>>>>>\")"
   ]
  },
  {
   "cell_type": "code",
   "execution_count": 20,
   "metadata": {},
   "outputs": [
    {
     "name": "stdout",
     "output_type": "stream",
     "text": [
      "5\n",
      "1 \n",
      "1 2 \n",
      "1 2 3 \n",
      "1 2 3 4 \n",
      "1 2 3 4 5 \n",
      "<<<<<<<Program Done>>>>>>>\n"
     ]
    }
   ],
   "source": [
    "N=int(input())\n",
    "num=1 \n",
    "x=num\n",
    "for i in range(1,N+1,1):\n",
    "    num+=1;\n",
    "    for i in range(1,num,1):\n",
    "        print(i,end=\" \")\n",
    "        x=num+1\n",
    "    print()\n",
    "print(\"<<<<<<<Program Done>>>>>>>\")"
   ]
  },
  {
   "cell_type": "code",
   "execution_count": 10,
   "metadata": {},
   "outputs": [
    {
     "name": "stdout",
     "output_type": "stream",
     "text": [
      "2\n",
      "5\n",
      "1*\n",
      "2*3*\n",
      "4*5*6*\n",
      "7*8*9*10*\n",
      "11*12*13*14*15*\n",
      "3\n",
      "1*\n",
      "2*3*\n",
      "4*5*6*\n"
     ]
    }
   ],
   "source": [
    "t=int(input())\n",
    "lis=[]\n",
    "for j in range(t):\n",
    "    lis.append(int(input()))\n",
    "for i in lis:\n",
    "    N=i\n",
    "    num=1\n",
    "    for i in range(1,N+1,1):\n",
    "        for i in range(1,i+1,1):\n",
    "            print(num,end=\"*\")\n",
    "            num+=1\n",
    "        print()"
   ]
  },
  {
   "cell_type": "code",
   "execution_count": 18,
   "metadata": {},
   "outputs": [
    {
     "name": "stdout",
     "output_type": "stream",
     "text": [
      "****1\n",
      "***232\n",
      "**34543\n",
      "*4567654\n",
      "567898765\n"
     ]
    }
   ],
   "source": [
    "n = 5\n",
    "num = 1\n",
    "gap = n - 1\n",
    "for j in range(1, n + 1) : \n",
    "    num = j \n",
    "    for i in range(1, gap + 1) : \n",
    "        print(\"*\", end=\"\") \n",
    "    gap = gap - 1\n",
    "    \n",
    "          \n",
    "    for i in range(1, j + 1) : \n",
    "        print(num, end=\"\") \n",
    "        num = num + 1\n",
    "      \n",
    "    num = num - 2\n",
    "    for i in range(1, j) : \n",
    "        print(num, end=\"\") \n",
    "        num = num - 1\n",
    "      \n",
    "    print() "
   ]
  },
  {
   "cell_type": "code",
   "execution_count": null,
   "metadata": {},
   "outputs": [],
   "source": [
    "1*\n",
    "2*3*\n",
    "4*5*6*\n",
    "7*8*9*10*\n",
    "11*12*13*14*15*\n",
    "\n",
    "****1****\n",
    "***232***\n",
    "**34543**\n",
    "*4567654*\n",
    "567898765\n",
    "*****1*****\n",
    "****232****\n",
    "***34543***\n",
    "**4567654**\n",
    "*567898765*\n",
    "67891011109876"
   ]
  },
  {
   "cell_type": "code",
   "execution_count": 4,
   "metadata": {},
   "outputs": [
    {
     "name": "stdout",
     "output_type": "stream",
     "text": [
      "5\n",
      "1 \n",
      "1 2 \n",
      "1 2 3 \n",
      "1 2 3 4 \n",
      "1 2 3 4 5 \n",
      "<<<<<<<Program Done>>>>>>>\n"
     ]
    }
   ],
   "source": [
    "N=int(input())\n",
    "for i in range(1,N+1,1):\n",
    "    for j in range(1,i+1,1):\n",
    "        print(j,end=\" \")\n",
    "    print()\n",
    "print(\"<<<<<<<Program Done>>>>>>>\")"
   ]
  },
  {
   "cell_type": "code",
   "execution_count": 2,
   "metadata": {},
   "outputs": [
    {
     "name": "stdout",
     "output_type": "stream",
     "text": [
      "5\n",
      "1 \n",
      "1 2 \n",
      "1 2 3 \n",
      "1 2 3 4 \n",
      "1 2 3 4 5 \n",
      "1 2 3 4 \n",
      "1 2 3 \n",
      "1 2 \n",
      "1 \n",
      "<<<<<<<Program Done>>>>>>>\n"
     ]
    }
   ],
   "source": [
    "N=int(input())\n",
    "for i in range(1,N+1,1):\n",
    "    for i in range(1,i+1,1):\n",
    "        print(i,end=\" \")\n",
    "    print()\n",
    "for i in range(N-1,0,-1):\n",
    "    for i in range(1,i+1,1):\n",
    "        print(i,end=\" \")\n",
    "    print()\n",
    "print(\"<<<<<<<Program Done>>>>>>>\")"
   ]
  },
  {
   "cell_type": "code",
   "execution_count": 34,
   "metadata": {},
   "outputs": [
    {
     "name": "stdout",
     "output_type": "stream",
     "text": [
      "5\n",
      "1 \n",
      "2 3 \n",
      "4 5 6 \n",
      "7 8 9 10 \n",
      "11 12 13 14 15 \n",
      "<<<<<<<Program Done>>>>>>>\n"
     ]
    }
   ],
   "source": [
    "N=int(input())\n",
    "num=1\n",
    "for i in range(1,N+1,1):\n",
    "    for i in range(1,i+1,1):\n",
    "        print(num,end=\" \")\n",
    "        num+=1\n",
    "    print()\n",
    "print(\"<<<<<<<Program Done>>>>>>>\")"
   ]
  },
  {
   "cell_type": "markdown",
   "metadata": {},
   "source": [
    "# Prime Number"
   ]
  },
  {
   "cell_type": "code",
   "execution_count": 20,
   "metadata": {},
   "outputs": [
    {
     "name": "stdout",
     "output_type": "stream",
     "text": [
      "Enter the Number:12\n",
      "12 is not prime.\n",
      "Execution time =  1.4509575366973877\n"
     ]
    }
   ],
   "source": [
    "import time\n",
    "start=time.time()\n",
    "# check if the number is prime or not \n",
    "num=int(input(\"Enter the Number:\"))\n",
    "x=num\n",
    "for i in range(2,num):\n",
    "    if num%i==0:\n",
    "        flag=0\n",
    "        break\n",
    "        \n",
    "    else:\n",
    "        flag=1\n",
    "if(flag==1):\n",
    "    print(num,\"is prime\")\n",
    "else:\n",
    "    print(num,'is not prime.')\n",
    "print(\"Execution time = \", time.time()-start)"
   ]
  },
  {
   "cell_type": "code",
   "execution_count": 17,
   "metadata": {},
   "outputs": [
    {
     "name": "stdout",
     "output_type": "stream",
     "text": [
      "Enter the Number:78532567643\n",
      "78532567643 is prime\n",
      "Execution time =  10.989488124847412\n"
     ]
    }
   ],
   "source": [
    "import time\n",
    "start=time.time()\n",
    "num=int(input(\"Enter the Number:\"))\n",
    "x=num\n",
    "for i in range(2,int(num**(1/2))):\n",
    "    if num%i==0:\n",
    "        flag=0\n",
    "        break\n",
    "    else:\n",
    "        flag=1\n",
    "if(flag==0):\n",
    "    print(num,'is not prime.')\n",
    "else:\n",
    "    print(num,\"is prime\")\n",
    "print(\"Execution time = \", time.time()-start)"
   ]
  },
  {
   "cell_type": "code",
   "execution_count": 19,
   "metadata": {},
   "outputs": [
    {
     "name": "stdout",
     "output_type": "stream",
     "text": [
      "Enter the Number:78532567643\n",
      "78532567643 is prime\n",
      "Execution time =  2.724177360534668\n"
     ]
    }
   ],
   "source": [
    "import time\n",
    "start=time.time()\n",
    "num=int(input(\"Enter the Number:\"))\n",
    "x=num\n",
    "for i in range(2,int(num**(1/2))):\n",
    "    if i%2==0:\n",
    "        pass\n",
    "    else:\n",
    "        if num%i==0:\n",
    "            flag=0\n",
    "            break\n",
    "        else:\n",
    "            flag=1\n",
    "if(flag==0):\n",
    "    print(num,'is not prime.')\n",
    "else:\n",
    "    print(num,\"is prime\")\n",
    "print(\"Execution time = \", time.time()-start)"
   ]
  },
  {
   "cell_type": "markdown",
   "metadata": {},
   "source": [
    "# Formatting"
   ]
  },
  {
   "cell_type": "code",
   "execution_count": 42,
   "metadata": {},
   "outputs": [
    {
     "name": "stdout",
     "output_type": "stream",
     "text": [
      "D2\tD1\tT\tX\n",
      "---------------------------------------\n",
      "\t\t41\t0\n",
      "\t2\t43\t1\n",
      "2\t4\t47\t2\n",
      "2\t6\t53\t3\n",
      "2\t8\t61\t4\n"
     ]
    }
   ],
   "source": [
    "print('{}\\t{}\\t{}\\t{}'.format('D2','D1','T','X'))\n",
    "print('---------------------------------------')\n",
    "x=0;\n",
    "for i in range(0,5):\n",
    "    x=i\n",
    "    T = (x*x) + x + 41\n",
    "    if(i==0):\n",
    "        print('\\t\\t{}\\t{}'.format(T,i))\n",
    "    elif(i>0 and i<2):\n",
    "        a= ((x-1)*(x-1) + (x-1) + 41)\n",
    "        print('\\t{}\\t{}\\t{}'.format(T-(a),T,i))\n",
    "    else:\n",
    "        a = ((x-1)*(x-1)+(x-1)+41)\n",
    "        b = ((x-2)*(x-2)+(x-2)+41)\n",
    "        c = (T-a)-(a-b)\n",
    "        print('{}\\t{}\\t{}\\t{}'.format(c,(T-a),T,i))"
   ]
  },
  {
   "cell_type": "code",
   "execution_count": 3,
   "metadata": {},
   "outputs": [
    {
     "name": "stdout",
     "output_type": "stream",
     "text": [
      "\n",
      "Subtotal:  $ 1,599.36\n",
      "SalesTax:  $   103.96\n",
      "Total:     $ 1,703.32\n",
      "\n"
     ]
    }
   ],
   "source": [
    "#formatting\n",
    "unit_price=49.98\n",
    "quantity = 32\n",
    "sales_tax_rate = 0.065\n",
    "subtotal=quantity*unit_price\n",
    "sales_tax = sales_tax_rate*subtotal\n",
    "total = sales_tax+subtotal\n",
    "output=f'''\n",
    "Subtotal:  ${subtotal:>9,.2f}\n",
    "SalesTax:  ${sales_tax:>9,.2f}\n",
    "Total:     ${total:>9,.2f}\n",
    "'''\n",
    "print(output)"
   ]
  },
  {
   "cell_type": "code",
   "execution_count": 6,
   "metadata": {},
   "outputs": [
    {
     "name": "stdout",
     "output_type": "stream",
     "text": [
      "Enter the Principal Amount:10000\n",
      "Enter the rate of interest :5\n",
      "Enter Number of years:7\n",
      "StartBalance\t \tInterest\t \tEnding Balance\n",
      "10000.00\t\t500.00\t\t\t10500.00\t\n",
      "10500.00\t\t525.00\t\t\t11025.00\t\n",
      "11025.00\t\t551.25\t\t\t11576.25\t\n",
      "11576.25\t\t578.81\t\t\t12155.06\t\n",
      "12155.06\t\t607.75\t\t\t12762.82\t\n",
      "12762.82\t\t638.14\t\t\t13400.96\t\n",
      "13400.96\t\t670.05\t\t\t14071.00\t\n",
      "Total Interest Deposited:Rs4071.00\n"
     ]
    }
   ],
   "source": [
    "# Calculation of Compound interest and Yearly Analysis of interest and Principal Amount \n",
    "def Calculate_compound_interest(p,n,r):\n",
    "    print('StartBalance\\t','\\tInterest\\t','\\tEnding Balance')\n",
    "    tot = 0\n",
    "    x = r/100\n",
    "    for i in range(1,n+1):\n",
    "        z_new = p*(1+x)**i -p\n",
    "        z_old = p*(1+x)**(i-1) -p\n",
    "        tot+=(z_new -z_old)\n",
    "        if(i==1):\n",
    "            print('{0:.2f}\\t'.format(p),end=\"\")\n",
    "            print('\\t{0:.2f}\\t'.format(z_new - z_old),end=\"\")\n",
    "            print('\\t\\t{0:.2f}\\t'.format(z_new+p))\n",
    "        else:\n",
    "            print('{0:.2f}\\t'.format(p+z_old),end=\"\")\n",
    "            print('\\t{0:.2f}\\t'.format(z_new - z_old),end=\"\")\n",
    "            print('\\t\\t{0:.2f}\\t'.format(z_new+p))\n",
    "    print(\"Total Interest Deposited:Rs{0:.2f}\".format(tot))\n",
    "p=int(input(\"Enter the Principal Amount:\"))\n",
    "r=int(input('Enter the rate of interest :'))\n",
    "n=int(input('Enter Number of years:'))\n",
    "Calculate_compound_interest(p,n,r)"
   ]
  },
  {
   "cell_type": "code",
   "execution_count": 4,
   "metadata": {},
   "outputs": [
    {
     "name": "stdout",
     "output_type": "stream",
     "text": [
      "SARDAM-TII\n",
      "SARDAM-TI\n"
     ]
    }
   ],
   "source": [
    "# Some More Complex Examp;es of String slicing \n",
    "S=\"IIT-MADRAS\"\n",
    "# S[::]  #print the whole string\n",
    "print(S[::-1])    #Display the string in the reverse order\n",
    "print(S[-1:0:-1])   #Access the characters of a string from index -1\n"
   ]
  },
  {
   "cell_type": "code",
   "execution_count": 8,
   "metadata": {},
   "outputs": [
    {
     "data": {
      "text/plain": [
       "'4 plus 5 equals Nine'"
      ]
     },
     "execution_count": 8,
     "metadata": {},
     "output_type": "execute_result"
    }
   ],
   "source": [
    "# The String.format() method()\n",
    "# \"My Name is %s and I am from %s\"%(\"Ajay\",\"Etah\")    #old method\n",
    "'{} plus {} equals {}'.format(4,5,'Nine')"
   ]
  },
  {
   "cell_type": "code",
   "execution_count": 9,
   "metadata": {},
   "outputs": [
    {
     "data": {
      "text/plain": [
       "['4', 'plus', '5', 'equals', 'Nine']"
      ]
     },
     "execution_count": 9,
     "metadata": {},
     "output_type": "execute_result"
    }
   ],
   "source": [
    "s1='4 plus 5 equals Nine'\n",
    "s1.split()"
   ]
  },
  {
   "cell_type": "code",
   "execution_count": 16,
   "metadata": {},
   "outputs": [
    {
     "name": "stdout",
     "output_type": "stream",
     "text": [
      "I LOVE MY INDIA                         \n",
      "            I LOVE MY INDIA             \n",
      "                         I LOVE MY INDIA\n"
     ]
    }
   ],
   "source": [
    "s2='I LOVE MY INDIA'\n",
    "print(s2.ljust(40))\n",
    "print(s2.center(40))\n",
    "print(s2.rjust(40))"
   ]
  },
  {
   "cell_type": "code",
   "execution_count": 3,
   "metadata": {},
   "outputs": [
    {
     "name": "stdout",
     "output_type": "stream",
     "text": [
      "Word =  I Love Python Programming\n",
      "{'a': 1, 'e': 1, 'i': 2, 'o': 3, 'u': 0}\n"
     ]
    }
   ],
   "source": [
    "# write a program to count vowels\n",
    "def countVowels(word):\n",
    "    print(\"Word = \",word)\n",
    "    word = word.lower()\n",
    "    return{v:word.count(v) for v in 'aeiou'}\n",
    "print(countVowels(\"I Love Python Programming\"))"
   ]
  },
  {
   "cell_type": "markdown",
   "metadata": {},
   "source": [
    "# List Comprehension"
   ]
  },
  {
   "cell_type": "code",
   "execution_count": 2,
   "metadata": {},
   "outputs": [
    {
     "name": "stdout",
     "output_type": "stream",
     "text": [
      "content of List1\n",
      "[1, 2, 3, 4, 5]\n",
      "Even element from the List1\n",
      "[2, 4]\n"
     ]
    }
   ],
   "source": [
    "List1 = [1,2,3,4,5]\n",
    "print(\"content of List1\")\n",
    "print(List1)\n",
    "List1=[x for x in List1 if x%2==0]\n",
    "print(\"Even element from the List1\")\n",
    "print(List1)"
   ]
  },
  {
   "cell_type": "code",
   "execution_count": 4,
   "metadata": {},
   "outputs": [
    {
     "name": "stdout",
     "output_type": "stream",
     "text": [
      "List A =  [0, 1, 4, 9, 16, 25, 36, 49, 64, 81, 100]\n"
     ]
    }
   ],
   "source": [
    "print(\"List A = \",end=\" \")\n",
    "A=[x**2 for x in range(11)]\n",
    "print(A)"
   ]
  },
  {
   "cell_type": "code",
   "execution_count": 6,
   "metadata": {},
   "outputs": [
    {
     "name": "stdout",
     "output_type": "stream",
     "text": [
      "List with mixed Elements\n",
      "[1, 'x', 3, 5, 't', 6, 'g', 8, 0]\n",
      "List with only integers\n",
      "[1, 3, 5, 6, 8, 0]\n"
     ]
    }
   ],
   "source": [
    "print(\"List with mixed Elements\")\n",
    "L1 = [1,'x',3,5,'t',6,'g',8,0]\n",
    "print(L1)\n",
    "print('List with only integers' )\n",
    "L2 = [e for e in L1 if type(e)==int]\n",
    "print(L2)                            "
   ]
  },
  {
   "cell_type": "code",
   "execution_count": 8,
   "metadata": {},
   "outputs": [
    {
     "name": "stdout",
     "output_type": "stream",
     "text": [
      "enter element to add to the list : 665\n",
      "enter element to add to the list : 234\n",
      "enter element to add to the list : 213\n",
      "enter element to add to the list : 908\n",
      "element of list are as follows :\n",
      "[665, 234, 213, 908]\n",
      "Maximum Element from list :  908\n",
      "Minimum Element of List :  213\n"
     ]
    }
   ],
   "source": [
    "# write a program that prompts a user to enter the element of a list and add the element to a list.\n",
    "# find the maximum and minimum number from the list\n",
    "lst=[]\n",
    "for i in range(0,4):\n",
    "    x=input(\"enter element to add to the list : \")\n",
    "    x=int(x)\n",
    "    lst.append(x)\n",
    "print('element of list are as follows :')\n",
    "print(lst)\n",
    "def maximum(lst):\n",
    "    myMax=lst[0]\n",
    "    for num in lst:\n",
    "        if myMax<num:\n",
    "            myMax=num\n",
    "    return myMax\n",
    "def minimum(lst):\n",
    "    myMin=lst[0]\n",
    "    for num in lst:\n",
    "        if myMin>num:\n",
    "            myMin=num\n",
    "    return myMin\n",
    "#Sample Test\n",
    "y = maximum(lst)\n",
    "print('Maximum Element from list : ',y)\n",
    "y = minimum(lst)\n",
    "print('Minimum Element of List : ',y)\n",
    "\n"
   ]
  },
  {
   "cell_type": "markdown",
   "metadata": {},
   "source": [
    "# List Processing:Searching and Sorting "
   ]
  },
  {
   "cell_type": "code",
   "execution_count": 11,
   "metadata": {},
   "outputs": [
    {
     "name": "stdout",
     "output_type": "stream",
     "text": [
      "\n",
      "Enter the numbers : 23 34 5 6 7 5 12 89\n",
      "Contents of list are as follows :\n",
      "[23, 34, 5, 6, 7, 5, 12, 89]\n",
      "enter the number to be searched: 4\n",
      "4 is not present in the list\n"
     ]
    }
   ],
   "source": [
    "# write a program to search a element from a list \n",
    "def Linear_Search(My_List,key):\n",
    "    for i in range(len(My_List)):\n",
    "        if(My_List[i]==key):\n",
    "            return i\n",
    "            break\n",
    "    return -1\n",
    "# My_List = [12,23,45,67,89]\n",
    "\n",
    "My_List = list(map(int,input(\"\\nEnter the numbers : \").strip().split()))\n",
    "\n",
    "print(\"Contents of list are as follows :\")\n",
    "print(My_List)\n",
    "key = int(input(\"enter the number to be searched: \"))\n",
    "L1 = Linear_Search(My_List,key)\n",
    "if(L1!=-1):\n",
    "    print(key,\" is found at position \",L1+1)\n",
    "else:\n",
    "    print(key,\"is not present in the list\")"
   ]
  },
  {
   "cell_type": "markdown",
   "metadata": {},
   "source": [
    "# Taking input in List"
   ]
  },
  {
   "cell_type": "code",
   "execution_count": 22,
   "metadata": {},
   "outputs": [
    {
     "name": "stdout",
     "output_type": "stream",
     "text": [
      "\n",
      "Enter your Numbers : 4 5 6 7 8 9 0 4 3 2 6\n",
      "[4, 5, 6, 7, 8]\n"
     ]
    }
   ],
   "source": [
    "list1=list(map(int,input(\"\\nEnter your Numbers : \").strip().split()[:5]))\n",
    "print(list1)"
   ]
  },
  {
   "cell_type": "code",
   "execution_count": 1,
   "metadata": {},
   "outputs": [
    {
     "data": {
      "text/plain": [
       "9"
      ]
     },
     "execution_count": 1,
     "metadata": {},
     "output_type": "execute_result"
    }
   ],
   "source": [
    "n=\"1001\"\n",
    "int(n,2)"
   ]
  },
  {
   "cell_type": "code",
   "execution_count": 20,
   "metadata": {},
   "outputs": [
    {
     "data": {
      "text/plain": [
       "121"
      ]
     },
     "execution_count": 20,
     "metadata": {},
     "output_type": "execute_result"
    }
   ],
   "source": [
    "ord(\"y\")"
   ]
  },
  {
   "cell_type": "code",
   "execution_count": 1,
   "metadata": {},
   "outputs": [
    {
     "data": {
      "text/plain": [
       "'HEy prabhu &&&& Kya h **** o rha hai Samajh nhi ^^ aa rha hai'"
      ]
     },
     "execution_count": 1,
     "metadata": {},
     "output_type": "execute_result"
    }
   ],
   "source": [
    "geint= \"*******HEy prabhu &&&& Kya h **** o rha hai Samajh nhi ^^ aa rha hai***\"\n",
    "# p=list(geint).remove(\"*\")\n",
    "# print(p)\n",
    "p= geint.strip(\"*\")\n",
    "# geint.strip(\"&\")\n",
    "p"
   ]
  },
  {
   "cell_type": "code",
   "execution_count": 4,
   "metadata": {},
   "outputs": [
    {
     "name": "stdout",
     "output_type": "stream",
     "text": [
      "[10, 20, 30, 34, 56, 78, 89, 90]\n",
      "Enter the number for search : 30\n",
      "The Element 30 is found at position  3\n"
     ]
    }
   ],
   "source": [
    "# Write a program for binary search\n",
    "def Binary_Search(My_List,key):\n",
    "    low=0\n",
    "    high=len(My_List)-1\n",
    "    while low<=high:\n",
    "        mid=(low+high)//2\n",
    "        if My_List[mid]==key:\n",
    "            return mid\n",
    "        elif key>My_List[mid]:\n",
    "            low=mid+1\n",
    "        else:\n",
    "            high=mid-1\n",
    "    return -1\n",
    "My_List=[10,20,30,34,56,78,89,90]\n",
    "print(My_List)\n",
    "key = eval(input(\"Enter the number for search : \"))\n",
    "x= Binary_Search(My_List,key)\n",
    "if(x==-1):\n",
    "    print(key,'is not present in the List')\n",
    "else:\n",
    "    print('The Element',key,'is found at position ',x+1)"
   ]
  },
  {
   "cell_type": "code",
   "execution_count": 5,
   "metadata": {},
   "outputs": [
    {
     "name": "stdout",
     "output_type": "stream",
     "text": [
      "Element of list Before Sorting :  [30, 50, 45, 1, 6, 3, 20, 90, 78]\n",
      "Elements of list after Sorting : [1, 3, 6, 20, 30, 45, 50, 78, 90]\n"
     ]
    }
   ],
   "source": [
    "# Bubble Sort program\n",
    "def Bubble_Sort(MyList):\n",
    "    for i in range(len(MyList)-1,0,-1):\n",
    "        for j in range(i):\n",
    "            if MyList[j]>MyList[j+1]:\n",
    "                temp,MyList[j]=MyList[j],MyList[j+1]\n",
    "                MyList[j+1] = temp\n",
    "MyList = [30,50,45,1,6,3,20,90,78]\n",
    "print('Element of list Before Sorting : ',MyList)\n",
    "Bubble_Sort(MyList)\n",
    "print('Elements of list after Sorting : ',end=\"\")\n",
    "print(MyList)"
   ]
  },
  {
   "cell_type": "code",
   "execution_count": 8,
   "metadata": {},
   "outputs": [
    {
     "name": "stdout",
     "output_type": "stream",
     "text": [
      "Elements before sorting : \n",
      "[12, 34, 2, 7, 45, 90, 89, 9, 1]\n",
      "Elements after sorting in the List : \n",
      "[1, 2, 7, 9, 12, 34, 45, 89, 90]\n"
     ]
    }
   ],
   "source": [
    "# Selection Sort Program \n",
    "def Selection_Sort(My_List):\n",
    "    #i - outer Loop\n",
    "    #j - inner Loop\n",
    "    #k - index of the smaller element\n",
    "    for i in range(len(My_List)-1):\n",
    "        k=i    #i is the element assumed to be smallest\n",
    "        for j in range(i+1,len(My_List)):\n",
    "            if (My_List[j]<My_List[k]):\n",
    "                k=j\n",
    "        if(k!=1):\n",
    "            temp=My_List[i]\n",
    "            My_List[i]=My_List[k]\n",
    "            My_List[k]=temp\n",
    "My_List=[12,34,2,7,45,90,89,9,1]\n",
    "print('Elements before sorting : ')\n",
    "print(My_List)\n",
    "Selection_Sort(My_List)\n",
    "print('Elements after sorting in the List : ')\n",
    "print(My_List)"
   ]
  },
  {
   "cell_type": "code",
   "execution_count": 2,
   "metadata": {},
   "outputs": [
    {
     "ename": "SyntaxError",
     "evalue": "invalid syntax (<ipython-input-2-96ad1c19cad6>, line 1)",
     "output_type": "error",
     "traceback": [
      "\u001b[1;36m  File \u001b[1;32m\"<ipython-input-2-96ad1c19cad6>\"\u001b[1;36m, line \u001b[1;32m1\u001b[0m\n\u001b[1;33m    sum(float(28 38.5 23))\u001b[0m\n\u001b[1;37m                    ^\u001b[0m\n\u001b[1;31mSyntaxError\u001b[0m\u001b[1;31m:\u001b[0m invalid syntax\n"
     ]
    }
   ],
   "source": [
    "sum(float(28 38.5 23))"
   ]
  },
  {
   "cell_type": "code",
   "execution_count": 49,
   "metadata": {},
   "outputs": [
    {
     "name": "stdout",
     "output_type": "stream",
     "text": [
      "abcd 9\n",
      "A\n",
      "AB\n",
      "ABC\n",
      "ABCD\n",
      "ABCD"
     ]
    },
    {
     "ename": "IndexError",
     "evalue": "string index out of range",
     "output_type": "error",
     "traceback": [
      "\u001b[1;31m---------------------------------------------------------------------------\u001b[0m",
      "\u001b[1;31mIndexError\u001b[0m                                Traceback (most recent call last)",
      "\u001b[1;32m<ipython-input-49-7fd27d9b1050>\u001b[0m in \u001b[0;36m<module>\u001b[1;34m\u001b[0m\n\u001b[0;32m      4\u001b[0m \u001b[1;32mfor\u001b[0m \u001b[0m_\u001b[0m \u001b[1;32min\u001b[0m \u001b[0mrange\u001b[0m\u001b[1;33m(\u001b[0m\u001b[1;36m1\u001b[0m\u001b[1;33m,\u001b[0m\u001b[0mn\u001b[0m\u001b[1;33m+\u001b[0m\u001b[1;36m1\u001b[0m\u001b[1;33m,\u001b[0m\u001b[1;36m1\u001b[0m\u001b[1;33m)\u001b[0m\u001b[1;33m:\u001b[0m\u001b[1;33m\u001b[0m\u001b[1;33m\u001b[0m\u001b[0m\n\u001b[0;32m      5\u001b[0m     \u001b[1;32mfor\u001b[0m \u001b[0mi\u001b[0m \u001b[1;32min\u001b[0m \u001b[0mrange\u001b[0m\u001b[1;33m(\u001b[0m\u001b[0m_\u001b[0m\u001b[1;33m)\u001b[0m\u001b[1;33m:\u001b[0m\u001b[1;33m\u001b[0m\u001b[1;33m\u001b[0m\u001b[0m\n\u001b[1;32m----> 6\u001b[1;33m         \u001b[0mprint\u001b[0m\u001b[1;33m(\u001b[0m\u001b[0matr\u001b[0m\u001b[1;33m[\u001b[0m\u001b[0mi\u001b[0m\u001b[1;33m]\u001b[0m\u001b[1;33m,\u001b[0m\u001b[0mend\u001b[0m\u001b[1;33m=\u001b[0m\u001b[1;34m\"\"\u001b[0m\u001b[1;33m)\u001b[0m\u001b[1;33m\u001b[0m\u001b[1;33m\u001b[0m\u001b[0m\n\u001b[0m\u001b[0;32m      7\u001b[0m     \u001b[0mprint\u001b[0m\u001b[1;33m(\u001b[0m\u001b[1;33m)\u001b[0m\u001b[1;33m\u001b[0m\u001b[1;33m\u001b[0m\u001b[0m\n",
      "\u001b[1;31mIndexError\u001b[0m: string index out of range"
     ]
    }
   ],
   "source": [
    "strig,k= input().split()\n",
    "atr=strig.upper()\n",
    "n=int(k)\n",
    "for _ in range(1,n+1,1):\n",
    "    for i in range(_):\n",
    "        print(atr[i],end=\"\")\n",
    "    print()"
   ]
  },
  {
   "cell_type": "code",
   "execution_count": 3,
   "metadata": {},
   "outputs": [
    {
     "name": "stdout",
     "output_type": "stream",
     "text": [
      "abcd 3\n",
      "<itertools.combinations object at 0x000002885916F958>\n",
      "<itertools.combinations object at 0x00000288591724F8>\n",
      "<itertools.combinations object at 0x000002885916F958>\n"
     ]
    }
   ],
   "source": []
  },
  {
   "cell_type": "code",
   "execution_count": 2,
   "metadata": {},
   "outputs": [
    {
     "name": "stdout",
     "output_type": "stream",
     "text": [
      "5\n",
      "    *    \n",
      "   ***   \n",
      "  *****  \n",
      " ******* \n",
      "*********\n",
      "  *****               *****             \n",
      "  *****               *****             \n",
      "  *****               *****             \n",
      "  *****               *****             \n",
      "  *****               *****             \n",
      "  *****               *****             \n",
      "  *************************   \n",
      "  *************************   \n",
      "  *************************   \n",
      "  *****               *****             \n",
      "  *****               *****             \n",
      "  *****               *****             \n",
      "  *****               *****             \n",
      "  *****               *****             \n",
      "  *****               *****             \n",
      "                    ********* \n",
      "                     *******  \n",
      "                      *****   \n",
      "                       ***    \n",
      "                        *     \n"
     ]
    }
   ],
   "source": [
    "thickness = int(input()) #This must be an odd number\n",
    "c = 'H'\n",
    "\n",
    "#Top Cone\n",
    "for i in range(thickness):\n",
    "    print((c*i).rjust(thickness-1)+c+(c*i).ljust(thickness-1))\n",
    "\n",
    "#Top Pillars\n",
    "for i in range(thickness+1):\n",
    "    print((c*thickness).center(thickness*2)+(c*thickness).center(thickness*6))\n",
    "\n",
    "#Middle Belt\n",
    "for i in range((thickness+1)//2):\n",
    "    print((c*thickness*5).center(thickness*6))    \n",
    "\n",
    "#Bottom Pillars\n",
    "for i in range(thickness+1):\n",
    "    print((c*thickness).center(thickness*2)+(c*thickness).center(thickness*6))    \n",
    "\n",
    "#Bottom Cone\n",
    "for i in range(thickness):\n",
    "    print(((c*(thickness-i-1)).rjust(thickness)+c+(c*(thickness-i-1)).ljust(thickness)).rjust(thickness*6))"
   ]
  },
  {
   "cell_type": "code",
   "execution_count": 1,
   "metadata": {},
   "outputs": [
    {
     "name": "stdout",
     "output_type": "stream",
     "text": [
      "5\n",
      "--------e--------\n",
      "------e-d-e------\n",
      "----e-d-c-d-e----\n",
      "--e-d-c-b-c-d-e--\n",
      "e-d-c-b-a-b-c-d-e\n",
      "--e-d-c-b-c-d-e--\n",
      "----e-d-c-d-e----\n",
      "------e-d-e------\n",
      "--------e--------\n"
     ]
    }
   ],
   "source": [
    "import string\n",
    "alpha = string.ascii_lowercase\n",
    "\n",
    "n = int(input())\n",
    "L = []\n",
    "for i in range(n):\n",
    "    s = \"-\".join(alpha[i:n])\n",
    "    L.append((s[::-1]+s[1:]).center(4*n-3, \"-\"))\n",
    "print('\\n'.join(L[:0:-1]+L))"
   ]
  },
  {
   "cell_type": "code",
   "execution_count": 31,
   "metadata": {},
   "outputs": [
    {
     "name": "stdout",
     "output_type": "stream",
     "text": [
      "--------e--------\n",
      "------e-d-e------\n",
      "----e-d-c-d-e----\n",
      "--e-d-c-b-c-d-e--\n",
      "e-d-c-b-a-b-c-d-e\n",
      "--e-d-c-b-c-d-e--\n",
      "----e-d-c-d-e----\n",
      "------e-d-e------\n",
      "--------e--------\n"
     ]
    }
   ],
   "source": [
    "def print_rangoli(size):\n",
    "    myStr = 'abcdefghijklmnopqrstuvwxyz'[0:size]\n",
    "    \n",
    "    for i in range(size-1, -size, -1):\n",
    "        x = abs(i)\n",
    "#         print(x)\n",
    "        if x >= 0:\n",
    "            line = myStr[size:x:-1]+myStr[x:size]\n",
    "#             print(line)\n",
    "            print (\"--\"*x+ '-'.join(line)+\"--\"*x)\n",
    "print_rangoli(5)"
   ]
  },
  {
   "cell_type": "code",
   "execution_count": 7,
   "metadata": {},
   "outputs": [
    {
     "name": "stdout",
     "output_type": "stream",
     "text": [
      "5\n",
      "1 \n",
      "2 6 \n",
      "3 7 10 \n",
      "4 8 11 13 \n",
      "5 9 12 14 15 \n"
     ]
    }
   ],
   "source": [
    "N=int(input())\n",
    "num=1\n",
    "for i in range(1,N+1,1):\n",
    "    p=i\n",
    "    for j in range(1,i+1,1):\n",
    "        print(p,end=\" \")\n",
    "        p=p+N-j\n",
    "    print()"
   ]
  },
  {
   "cell_type": "markdown",
   "metadata": {},
   "source": [
    "# write a program left 0s and right 1's"
   ]
  },
  {
   "cell_type": "code",
   "execution_count": 10,
   "metadata": {},
   "outputs": [
    {
     "name": "stdout",
     "output_type": "stream",
     "text": [
      "0 1 0 1 0 1\n",
      "0 0 0 1 1 1 "
     ]
    }
   ],
   "source": [
    "# write a program left 0s and right 1's\n",
    "L1=list(map(int,input().strip().split()))\n",
    "def ZerosAndones(List1) : \n",
    "    a = 0 \n",
    "    for i in range(0, len(List1)) : \n",
    "        if (List1[i] == 0) : \n",
    "            a+=1\n",
    "    for i in range(0, a) : \n",
    "        List1[i] = 0\n",
    "    for i in range(a, len(List1)) : \n",
    "        List1[i] = 1\n",
    "          \n",
    "def Zeroprint(List1) :\n",
    "    for i in range(0,len(List1)) : \n",
    "        print(List1[i] , end = \" \")\n",
    "\n",
    "ZerosAndones(L1)\n",
    "Zeroprint(L1)\n",
    "          "
   ]
  },
  {
   "cell_type": "markdown",
   "metadata": {},
   "source": [
    "# seperate individual digit from a number"
   ]
  },
  {
   "cell_type": "code",
   "execution_count": 9,
   "metadata": {},
   "outputs": [
    {
     "name": "stdout",
     "output_type": "stream",
     "text": [
      "1 5 3\n"
     ]
    }
   ],
   "source": [
    "N=153\n",
    "a=N//100\n",
    "b=(N%100)//10\n",
    "c=N%10\n",
    "print(a,b,c)"
   ]
  },
  {
   "cell_type": "code",
   "execution_count": 23,
   "metadata": {},
   "outputs": [
    {
     "name": "stdout",
     "output_type": "stream",
     "text": [
      "1234\n",
      "1 2 3 4\n"
     ]
    }
   ],
   "source": [
    "N=int(input())\n",
    "if N<100:\n",
    "    a=N//10\n",
    "    b=N%10\n",
    "    print(a,b)    \n",
    "elif N<1000 and N>99:\n",
    "    a=N//100\n",
    "    b=(N%100)//10\n",
    "    c=N%10\n",
    "    print(a,b,c)\n",
    "elif N<10000 and N>999:\n",
    "    a=N//1000\n",
    "    b=(N%1000)//100\n",
    "    c=(N%100)//10\n",
    "    d=N%10\n",
    "    print(a,b,c,d)"
   ]
  },
  {
   "cell_type": "markdown",
   "metadata": {},
   "source": [
    "# MASTER CODE by AJAYSHAKYA (for seperation of digits from a Number)"
   ]
  },
  {
   "cell_type": "code",
   "execution_count": 50,
   "metadata": {},
   "outputs": [
    {
     "name": "stdout",
     "output_type": "stream",
     "text": [
      "78653424567\n",
      "7 8 6 5 3 4 2 4 5 6 7 "
     ]
    }
   ],
   "source": [
    "# without using list and string\n",
    "N=int(input())\n",
    "\n",
    "for i in range((len(str(N))-1),-1,-1):\n",
    "\n",
    "    A=(N%(10**(i+1)))//(10**i)\n",
    "\n",
    "    print(A,end=\" \")"
   ]
  },
  {
   "cell_type": "markdown",
   "metadata": {},
   "source": [
    "# Date formating"
   ]
  },
  {
   "cell_type": "code",
   "execution_count": 1,
   "metadata": {},
   "outputs": [
    {
     "name": "stdout",
     "output_type": "stream",
     "text": [
      "11 may 2020\n",
      "(2020, 5, 11)\n",
      "(11, 5, 2020)\n"
     ]
    }
   ],
   "source": [
    "# 20 july 2020 ==== yyyy/mm/dd\n",
    "month2mm={'jan':1,'feb':2,'mar':3,'apr':4,'may':5,'jun':6,'jul':7,'aug':8,'sep':9,'oct':10,'nov':11,'dec':12}\n",
    "date=input()\n",
    "date=date.replace(\",\",\" \")\n",
    "day,month,year = date.split()\n",
    "dd,yyyy =int(day),int(year)\n",
    "mon=month[:3].lower()\n",
    "mm=month2mm[mon]\n",
    "print((yyyy,mm,dd))\n",
    "print((dd,mm,yyyy))"
   ]
  },
  {
   "cell_type": "markdown",
   "metadata": {},
   "source": [
    "# Set"
   ]
  },
  {
   "cell_type": "code",
   "execution_count": 13,
   "metadata": {},
   "outputs": [
    {
     "name": "stdout",
     "output_type": "stream",
     "text": [
      "union {1, 2, 3, 4, 5, 6, 7, 8, 9, 45, 18}\n",
      "difference {9, 18, 45}\n",
      "intersectin {2, 4, 5, 7}\n",
      "symmetric difference {1, 3, 6, 8, 9, 18, 45}\n"
     ]
    }
   ],
   "source": [
    "L=set([1,2,3,4,5,6,7,8])\n",
    "M=set([2,7,9,7,4,5,18,45])\n",
    "# union\n",
    "u =L|M\n",
    "print(\"union\", u)\n",
    "# difference\n",
    "x=M-L\n",
    "print('difference',x)\n",
    "# intersection\n",
    "i=L&M\n",
    "print(\"intersectin\",i)\n",
    "# symmetric difference\n",
    "sd=L^M\n",
    "print(\"symmetric difference\",sd)"
   ]
  },
  {
   "cell_type": "markdown",
   "metadata": {},
   "source": [
    "# Count each words count in a string"
   ]
  },
  {
   "cell_type": "code",
   "execution_count": 14,
   "metadata": {},
   "outputs": [
    {
     "data": {
      "text/plain": [
       "Counter({'d': 2, 'q': 5, 'w': 3, 'f': 2, 'g': 2})"
      ]
     },
     "execution_count": 14,
     "metadata": {},
     "output_type": "execute_result"
    }
   ],
   "source": [
    "import collections\n",
    "results = collections.Counter(\"dqdwqfwqfggqwq\")\n",
    "results\n",
    "# Counter({'q': 5, 'w': 3, 'g': 2, 'd': 2, 'f': 2})"
   ]
  },
  {
   "cell_type": "code",
   "execution_count": 15,
   "metadata": {},
   "outputs": [
    {
     "name": "stdout",
     "output_type": "stream",
     "text": [
      "ajaykumar\n",
      "a 3\n",
      "j 1\n",
      "k 1\n",
      "m 1\n",
      "r 1\n",
      "u 1\n",
      "y 1\n"
     ]
    }
   ],
   "source": [
    "text =input().lower()\n",
    "m={}\n",
    "for i in text:\n",
    "  if i in m:\n",
    "    m[i]+=1\n",
    "  else:\n",
    "    m[i]=1\n",
    "for i in sorted(m):\n",
    "  print(i,m[i])"
   ]
  },
  {
   "cell_type": "code",
   "execution_count": 5,
   "metadata": {},
   "outputs": [
    {
     "name": "stdout",
     "output_type": "stream",
     "text": [
      "hello\n",
      "['o', 'l', 'l', 'e', 'h']\n"
     ]
    }
   ],
   "source": [
    "txt=input().lower()\n",
    "a=[]\n",
    "for i in range(len(txt),0,-1):\n",
    "    a.append(txt[i-1])\n",
    "#   print(txt[i-1],end=\"\")\n",
    "print(a)"
   ]
  },
  {
   "cell_type": "code",
   "execution_count": 13,
   "metadata": {},
   "outputs": [
    {
     "name": "stdout",
     "output_type": "stream",
     "text": [
      "hello\n",
      "['e', 'h', 'l', 'o']\n"
     ]
    }
   ],
   "source": [
    "txt=input().lower()\n",
    "a=[]\n",
    "for i in range(len(txt)):\n",
    "    if txt[i] not in a:\n",
    "        a.append(txt[i])\n",
    "a.sort()\n",
    "print(a)"
   ]
  },
  {
   "cell_type": "markdown",
   "metadata": {},
   "source": [
    "# Exception handling"
   ]
  },
  {
   "cell_type": "code",
   "execution_count": 2,
   "metadata": {},
   "outputs": [
    {
     "name": "stdout",
     "output_type": "stream",
     "text": [
      "1\n",
      "Input at least 2 values\n",
      "x,y\n",
      "Invalid input, try again...\n",
      "1,2\n"
     ]
    }
   ],
   "source": [
    "while True:\n",
    "    try:\n",
    "        data = input()\n",
    "        x = int(data.split(',')[1])\n",
    "        break\n",
    "    except IndexError:\n",
    "        print(\"Input at least 2 values\")\n",
    "    except ValueError:\n",
    "        print(\"Invalid input, try again...\")"
   ]
  },
  {
   "cell_type": "code",
   "execution_count": 3,
   "metadata": {},
   "outputs": [
    {
     "name": "stdout",
     "output_type": "stream",
     "text": [
      "x,y\n",
      "Input at least 2 values , Try again...\n",
      "1\n",
      "Input at least 2 values , Try again...\n",
      "1,2\n"
     ]
    }
   ],
   "source": [
    "while True:\n",
    "    try:\n",
    "        data = input()\n",
    "        x = int(data.split(',')[1])\n",
    "        break\n",
    "    except (IndexError,ValueError):\n",
    "        print(\"Input at least 2 values , Try again...\")\n",
    "    "
   ]
  },
  {
   "cell_type": "code",
   "execution_count": 4,
   "metadata": {},
   "outputs": [
    {
     "name": "stdout",
     "output_type": "stream",
     "text": [
      "1\n",
      "Input at least 2 values , Try again...\n",
      "1,2\n",
      "All is well\n"
     ]
    }
   ],
   "source": [
    "while True:\n",
    "    try:\n",
    "        data = input()\n",
    "        x = int(data.split(',')[1])\n",
    "    except (IndexError,ValueError):\n",
    "        print(\"Input at least 2 values , Try again...\")\n",
    "    else:\n",
    "        print(\"All is well\")\n",
    "        break"
   ]
  },
  {
   "cell_type": "code",
   "execution_count": 7,
   "metadata": {},
   "outputs": [
    {
     "name": "stdout",
     "output_type": "stream",
     "text": [
      "Enter a number (Q to Quit)Q\n",
      "Exiting ...\n"
     ]
    }
   ],
   "source": [
    "prompt =\"Enter a number (Q to Quit)\"\n",
    "a=input(prompt)\n",
    "try:\n",
    "    num = int(a)\n",
    "    print(num)\n",
    "except:\n",
    "    if a=='Q':\n",
    "        print(\"Exiting ...\")\n",
    "    else:\n",
    "        print(\"Wrong input ...\")"
   ]
  },
  {
   "cell_type": "code",
   "execution_count": 1,
   "metadata": {},
   "outputs": [
    {
     "ename": "ValueError",
     "evalue": "it own value error",
     "output_type": "error",
     "traceback": [
      "\u001b[1;31m---------------------------------------------------------------------------\u001b[0m",
      "\u001b[1;31mValueError\u001b[0m                                Traceback (most recent call last)",
      "\u001b[1;32m<ipython-input-1-22433bad9c0a>\u001b[0m in \u001b[0;36m<module>\u001b[1;34m\u001b[0m\n\u001b[1;32m----> 1\u001b[1;33m \u001b[1;32mraise\u001b[0m \u001b[0mValueError\u001b[0m\u001b[1;33m(\u001b[0m\u001b[1;34m\"it own value error\"\u001b[0m\u001b[1;33m)\u001b[0m\u001b[1;33m\u001b[0m\u001b[1;33m\u001b[0m\u001b[0m\n\u001b[0m",
      "\u001b[1;31mValueError\u001b[0m: it own value error"
     ]
    }
   ],
   "source": [
    "raise ValueError(\"it own value error\")"
   ]
  },
  {
   "cell_type": "code",
   "execution_count": 9,
   "metadata": {},
   "outputs": [
    {
     "name": "stdout",
     "output_type": "stream",
     "text": [
      "Enter a number (Q to Quit)Q\n",
      "Invalid number,try again...\n",
      "all is well\n",
      "Enter a number (Q to Quit)h\n",
      "Invalid number,try again...\n",
      "all is well\n",
      "Enter a number (Q to Quit)5\n",
      "all is well\n"
     ]
    }
   ],
   "source": [
    "while True:\n",
    "    try:\n",
    "        x=int(input(prompt))\n",
    "        break\n",
    "    except ValueError:\n",
    "        print(\"Invalid number,try again...\")\n",
    "    finally:\n",
    "        print(\"all is well\")"
   ]
  },
  {
   "cell_type": "markdown",
   "metadata": {},
   "source": [
    "# Functions"
   ]
  },
  {
   "cell_type": "code",
   "execution_count": 10,
   "metadata": {},
   "outputs": [],
   "source": [
    "\n",
    "def largest(f):\n",
    "    res = -1e20\n",
    "    for line in f:\n",
    "        for field in line.split():\n",
    "            res = max(res,float(field))\n",
    "    return res"
   ]
  },
  {
   "cell_type": "code",
   "execution_count": 11,
   "metadata": {},
   "outputs": [],
   "source": [
    "\n",
    "def largest(f):\n",
    "    data=[]\n",
    "    for line in f:\n",
    "        for field in line.split():\n",
    "            data.append(float(field)) \n",
    "    return max(data)"
   ]
  },
  {
   "cell_type": "code",
   "execution_count": null,
   "metadata": {},
   "outputs": [],
   "source": [
    "def read_file():\n",
    "    f=open(\"pendulum.txt\",'r')\n",
    "    out=open(\"col2.txt\",'w')\n",
    "    \n"
   ]
  },
  {
   "cell_type": "code",
   "execution_count": 37,
   "metadata": {},
   "outputs": [],
   "source": [
    "f=open(\"pendulum.txt\")\n",
    "out = open('col2.txt','w')\n",
    "for line in f:\n",
    "    fields= line.split()\n",
    "    out.write(fields[1] +'\\n')\n",
    "#     print(fields[1],file=out)\n",
    "f.close()\n",
    "out.close()"
   ]
  },
  {
   "cell_type": "code",
   "execution_count": null,
   "metadata": {},
   "outputs": [],
   "source": [
    "def my_sum(txt):\n",
    "  m=0\n",
    "  for i in txt.split():\n",
    "    try:\n",
    "      m+=int(i)\n",
    "    except ValueError:\n",
    "      pass\n",
    "  return m"
   ]
  },
  {
   "cell_type": "code",
   "execution_count": 13,
   "metadata": {},
   "outputs": [],
   "source": [
    "def safe_run(f, x):\n",
    "    try:\n",
    "      f(x)\n",
    "    except ValueError:\n",
    "      return 'ValueError'\n",
    "    except TypeError:\n",
    "      return 'TypeError'\n",
    "    else:\n",
    "      return 'OK'"
   ]
  },
  {
   "cell_type": "code",
   "execution_count": 16,
   "metadata": {},
   "outputs": [
    {
     "data": {
      "text/plain": [
       "'ValueError'"
      ]
     },
     "execution_count": 16,
     "metadata": {},
     "output_type": "execute_result"
    }
   ],
   "source": [
    "safe_run(float,\"a\")"
   ]
  },
  {
   "cell_type": "code",
   "execution_count": null,
   "metadata": {},
   "outputs": [],
   "source": []
  },
  {
   "cell_type": "code",
   "execution_count": 23,
   "metadata": {},
   "outputs": [
    {
     "ename": "TypeError",
     "evalue": "bad operand type for abs(): 'str'",
     "output_type": "error",
     "traceback": [
      "\u001b[1;31m---------------------------------------------------------------------------\u001b[0m",
      "\u001b[1;31mTypeError\u001b[0m                                 Traceback (most recent call last)",
      "\u001b[1;32m<ipython-input-23-9b148372cb25>\u001b[0m in \u001b[0;36m<module>\u001b[1;34m\u001b[0m\n\u001b[0;32m      7\u001b[0m     \u001b[1;32mexcept\u001b[0m\u001b[1;33m:\u001b[0m\u001b[1;33m\u001b[0m\u001b[1;33m\u001b[0m\u001b[0m\n\u001b[0;32m      8\u001b[0m         \u001b[1;32mraise\u001b[0m \u001b[0mTypeError\u001b[0m\u001b[1;33m\u001b[0m\u001b[1;33m\u001b[0m\u001b[0m\n\u001b[1;32m----> 9\u001b[1;33m \u001b[0mfunc\u001b[0m\u001b[1;33m(\u001b[0m\u001b[0ma\u001b[0m\u001b[1;33m)\u001b[0m\u001b[1;33m\u001b[0m\u001b[1;33m\u001b[0m\u001b[0m\n\u001b[0m",
      "\u001b[1;32m<ipython-input-23-9b148372cb25>\u001b[0m in \u001b[0;36mfunc\u001b[1;34m(x)\u001b[0m\n\u001b[0;32m      1\u001b[0m \u001b[1;32mdef\u001b[0m \u001b[0mfunc\u001b[0m\u001b[1;33m(\u001b[0m\u001b[0mx\u001b[0m\u001b[1;33m)\u001b[0m\u001b[1;33m:\u001b[0m\u001b[1;33m\u001b[0m\u001b[1;33m\u001b[0m\u001b[0m\n\u001b[1;32m----> 2\u001b[1;33m   \u001b[1;32mif\u001b[0m \u001b[0mx\u001b[0m\u001b[1;33m!=\u001b[0m\u001b[0mabs\u001b[0m\u001b[1;33m(\u001b[0m\u001b[0mx\u001b[0m\u001b[1;33m)\u001b[0m\u001b[1;33m:\u001b[0m\u001b[1;33m\u001b[0m\u001b[1;33m\u001b[0m\u001b[0m\n\u001b[0m\u001b[0;32m      3\u001b[0m     \u001b[1;32mraise\u001b[0m \u001b[0mValueError\u001b[0m\u001b[1;33m\u001b[0m\u001b[1;33m\u001b[0m\u001b[0m\n\u001b[0;32m      4\u001b[0m   \u001b[1;32melse\u001b[0m\u001b[1;33m:\u001b[0m\u001b[1;33m\u001b[0m\u001b[1;33m\u001b[0m\u001b[0m\n\u001b[0;32m      5\u001b[0m     \u001b[1;32mtry\u001b[0m\u001b[1;33m:\u001b[0m\u001b[1;33m\u001b[0m\u001b[1;33m\u001b[0m\u001b[0m\n",
      "\u001b[1;31mTypeError\u001b[0m: bad operand type for abs(): 'str'"
     ]
    }
   ],
   "source": [
    "def func(x):\n",
    "  if x!=abs(x):\n",
    "    raise ValueError\n",
    "  else:\n",
    "    try:\n",
    "      x=int(x)\n",
    "    except: \n",
    "        raise TypeError\n",
    "func(a)"
   ]
  },
  {
   "cell_type": "code",
   "execution_count": 25,
   "metadata": {},
   "outputs": [
    {
     "name": "stdout",
     "output_type": "stream",
     "text": [
      "aeiou\n",
      "5\n"
     ]
    }
   ],
   "source": [
    "x=input().lower()\n",
    "vowels=['a','e','i','o','u']\n",
    "count=0\n",
    "for j in x:\n",
    "    if j in vowels:\n",
    "        count+=1\n",
    "print(count)"
   ]
  },
  {
   "cell_type": "code",
   "execution_count": 39,
   "metadata": {},
   "outputs": [
    {
     "name": "stdout",
     "output_type": "stream",
     "text": [
      "3\n",
      "8\n",
      "15\n",
      "(15, 12)\n"
     ]
    }
   ],
   "source": [
    "def odd_even_sum(start, stop):\n",
    "    su=0\n",
    "    osu=0\n",
    "    for i in range(start,stop+1,1):\n",
    "        if i%2==0:\n",
    "            su+=i\n",
    "        else:\n",
    "            osu+=i\n",
    "            print(osu)\n",
    "    m=[]\n",
    "    m.insert(0,osu)\n",
    "    m.append(su)\n",
    "    print(tuple(m))\n",
    "odd_even_sum(2,7)"
   ]
  },
  {
   "cell_type": "code",
   "execution_count": 32,
   "metadata": {},
   "outputs": [],
   "source": [
    "def odd_even_sum(start, stop):\n",
    "  su=0\n",
    "  osu=0\n",
    "  for i in range(start,stop+1,1):\n",
    "    if (i%2==0):\n",
    "      su=su+i\n",
    "    else:\n",
    "      osu+=i\n",
    "  m=[]\n",
    "  m.insert(0,osu)\n",
    "  m.append(su)\n",
    "  print(m)"
   ]
  },
  {
   "cell_type": "markdown",
   "metadata": {},
   "source": [
    "# Armstrong Number"
   ]
  },
  {
   "cell_type": "code",
   "execution_count": 35,
   "metadata": {},
   "outputs": [
    {
     "data": {
      "text/plain": [
       "False"
      ]
     },
     "execution_count": 35,
     "metadata": {},
     "output_type": "execute_result"
    }
   ],
   "source": [
    "def is_armstrong(x):\n",
    "  sum = 0\n",
    "  temp = x\n",
    "  while temp > 0:\n",
    "      digit = temp % 10\n",
    "      sum += digit ** 3\n",
    "      temp //= 10\n",
    "  if x == sum:\n",
    "    return True\n",
    "  else:\n",
    "    return False\n",
    "is_armstrong(123)"
   ]
  },
  {
   "cell_type": "code",
   "execution_count": 40,
   "metadata": {},
   "outputs": [],
   "source": [
    "def cat_dog_count(arg):\n",
    "  cot=0\n",
    "  dot=0\n",
    "  for i in arg.split():\n",
    "    if i=='cat':\n",
    "      cot=cot+1\n",
    "    elif i=='dog':\n",
    "      dot+=1\n",
    "  if cot==dot:\n",
    "    return True\n",
    "  else:\n",
    "    return False"
   ]
  },
  {
   "cell_type": "markdown",
   "metadata": {},
   "source": [
    "Write a function called is_armstrong(x) which is given an n-digit integer (n>1) and returns True or False if it is an Armstrong number. For a two digit number, it is an armstrong if the number equals the sum of the squares of its digits. For a three digit number it is armstrong if it is the cube of its digits. For example:\n",
    "\n",
    ">>> is_armstrong(123)\n",
    "False\n",
    ">>> is_armstrong(153)\n",
    "True"
   ]
  },
  {
   "cell_type": "code",
   "execution_count": 42,
   "metadata": {},
   "outputs": [
    {
     "data": {
      "text/plain": [
       "True"
      ]
     },
     "execution_count": 42,
     "metadata": {},
     "output_type": "execute_result"
    }
   ],
   "source": [
    "\n",
    "def is_armstrong(x):\n",
    "    sum = 0\n",
    "    for i in range((len(str(x))-1),-1,-1):\n",
    "\n",
    "        A=(x%(10**(i+1)))//(10**i)\n",
    "        sum+=(A**len(str(x))) \n",
    "   \n",
    "    if (x == sum) or (x==asum):\n",
    "        return True\n",
    "    else:\n",
    "        return False\n",
    "is_armstrong(153)"
   ]
  },
  {
   "cell_type": "code",
   "execution_count": 13,
   "metadata": {
    "scrolled": true
   },
   "outputs": [],
   "source": [
    "# 1\n",
    "# 10\n",
    "# 2 4 5 5 6 7 8 8 9\n",
    "# 1 2 2 4 4 5 6 6 7 "
   ]
  },
  {
   "cell_type": "code",
   "execution_count": 12,
   "metadata": {},
   "outputs": [
    {
     "name": "stdout",
     "output_type": "stream",
     "text": [
      "1\n",
      "10\n",
      "3 6 7 5 3 5 6 2 9 1\n",
      "2 7 0 9 3 6 0 6 2 6\n",
      "7\n"
     ]
    }
   ],
   "source": [
    "\n",
    "def main():\n",
    "    T=int(input()) \n",
    "    N=int(input()) \n",
    "    teamG = [int(x) for x in input().split()] \n",
    "    teamB = [int(x) for x in input().split()] \n",
    "    teamG.sort() \n",
    "    teamB.sort() \n",
    "    count=0\n",
    "    for i in range(N): \n",
    "        while(len(teamG)!=0): \n",
    "            mine = teamG.pop(0) \n",
    "            if(mine>teamB[0]): \n",
    "                count+=1 \n",
    "                teamB.pop(0)\n",
    "    print(count//T)\n",
    " # Write code here \n",
    "\n",
    "main()\n",
    "# 3 6 7 5 3 5 6 2 9 1\n",
    "# 2 7 0 9 3 6 0 6 2 6\n"
   ]
  },
  {
   "cell_type": "code",
   "execution_count": 10,
   "metadata": {},
   "outputs": [
    {
     "name": "stdout",
     "output_type": "stream",
     "text": [
      "1\n",
      "3\n",
      "20 30 50\n",
      "60 40 25\n",
      "50\n",
      "[30, 50]\n",
      "[40, 25]\n",
      "2\n"
     ]
    }
   ],
   "source": [
    "def main():\n",
    "    T=int(input()) \n",
    "    N=int(input()) \n",
    "    teamG = [int(x) for x in input().split()] \n",
    "    teamB = [int(x) for x in input().split()] \n",
    "    teamG.sort() \n",
    "    teamB.sort(reverse=True) \n",
    "    print(max(teamG))\n",
    "    count=0\n",
    "    for i in range(N):\n",
    "        if max(teamG)>max(teamB):\n",
    "            count+=1\n",
    "            teamG.remove(max(teamG))\n",
    "            teamB.remove(max(teamB))\n",
    "        else:\n",
    "            teamG.remove(min(teamG))\n",
    "            teamB.remove(max(teamB))\n",
    "            print(teamG)\n",
    "            print(teamB)\n",
    "    print(count//T)\n",
    "main()"
   ]
  },
  {
   "cell_type": "code",
   "execution_count": 10,
   "metadata": {},
   "outputs": [
    {
     "name": "stdout",
     "output_type": "stream",
     "text": [
      "1\n",
      "3\n",
      "3 4 7\n",
      "2 0 0\n",
      "3\n"
     ]
    }
   ],
   "source": [
    "def main():\n",
    "     \n",
    "    N=int(input()) \n",
    "    teamG = [int(x) for x in input().split()] \n",
    "    teamB = [int(x) for x in input().split()] \n",
    "    count=0\n",
    "    teamG.sort()\n",
    "    for i in range(N):\n",
    "        if min(teamB)<teamG[0]:\n",
    "            teamB.remove(min(teamB))\n",
    "            teamG.remove(teamG[0])\n",
    "            count+=1\n",
    "        elif teamG==[]:\n",
    "            break\n",
    "        else:\n",
    "            teamG.remove(teamG[0])\n",
    "    print(count)\n",
    "    \n",
    "    \n",
    "T=int(input())\n",
    "for j in range(T):\n",
    "    main()\n"
   ]
  },
  {
   "cell_type": "code",
   "execution_count": null,
   "metadata": {},
   "outputs": [],
   "source": [
    "************************\n",
    "def main():\n",
    "     \n",
    "    N=int(input()) \n",
    "    teamG = [int(x) for x in input().split()] \n",
    "    teamB = [int(x) for x in input().split()] \n",
    "    count=0\n",
    "    teamG.sort()\n",
    "    for i in range(N):\n",
    "        if min(teamB)<teamG[0]:\n",
    "            teamB.remove(min(teamB))\n",
    "            teamG.remove(teamG[0])\n",
    "            count+=1\n",
    "        elif teamG==[]:\n",
    "            break\n",
    "        else:\n",
    "            teamG.remove(teamG[0])   \n",
    "    print(count)\n",
    "    \n",
    "    \n",
    "T=int(input())\n",
    "for j in range(T):\n",
    "    main()"
   ]
  },
  {
   "cell_type": "code",
   "execution_count": null,
   "metadata": {},
   "outputs": [],
   "source": []
  },
  {
   "cell_type": "code",
   "execution_count": 6,
   "metadata": {},
   "outputs": [
    {
     "name": "stdout",
     "output_type": "stream",
     "text": [
      "1\n",
      "3\n",
      "20 30 50\n",
      "60 40 25\n",
      "0\n"
     ]
    }
   ],
   "source": [
    "def main(): \n",
    "    N=int(input()) \n",
    "    G=list(map(int,input().split())) \n",
    "    O=list(map(int,input().split())) \n",
    "    G.sort() \n",
    "    O.sort() \n",
    "    c1,c2=0,[] \n",
    "    for i,j in zip(G,O):\n",
    "        if i>j: \n",
    "            c1+=1 \n",
    "        elif i==j: \n",
    "            c2.append(j) \n",
    "    for l in G: \n",
    "        for k in c2: \n",
    "            if l>k: \n",
    "                c1+=1 \n",
    "                break \n",
    "        \n",
    "    print(c1)\n",
    "T=int(input())\n",
    "for i in range(T): \n",
    "    main()"
   ]
  },
  {
   "cell_type": "markdown",
   "metadata": {},
   "source": [
    "# Bridge jump minimum\n"
   ]
  },
  {
   "cell_type": "code",
   "execution_count": null,
   "metadata": {},
   "outputs": [],
   "source": [
    "N=int(input())\n",
    "x=int(input())\n",
    "if N%2==0:\n",
    "    pair=(N-2)/2\n",
    "else:\n",
    "    pair=(N-1)/2\n",
    "print(int(min((x//2),(pair-(x//2)+1))))"
   ]
  },
  {
   "cell_type": "code",
   "execution_count": 3,
   "metadata": {},
   "outputs": [
    {
     "name": "stdout",
     "output_type": "stream",
     "text": [
      "enter a stringajay\n",
      "Original String: ajay\n",
      "Replace string: $j$y\n"
     ]
    }
   ],
   "source": [
    "str1 = input(\"enter a string\")\n",
    "print(\"Original String:\",str1)\n",
    "char =str1[0]\n",
    "str2 = str.replace(str1,char,'$')\n",
    "# str3 =  char + str[1:]\n",
    "print(\"Replace string:\" ,str2)"
   ]
  },
  {
   "cell_type": "code",
   "execution_count": 4,
   "metadata": {},
   "outputs": [
    {
     "name": "stdout",
     "output_type": "stream",
     "text": [
      "[1 0]\n",
      "[2 3 1 0]\n",
      "0\n",
      "0\n"
     ]
    }
   ],
   "source": [
    "import numpy as np\n",
    "\n",
    "my_array = np.array([[2, 5], \n",
    "                        [3, 7],\n",
    "                        [1, 3],\n",
    "                        [4, 0]])\n",
    "\n",
    "print(np.min(my_array, axis = 0))         #Output : [1 0]\n",
    "print(np.min(my_array, axis = 1))     #Output : [2 3 1 0]\n",
    "print(np.min(my_array, axis = None))      #Output : 0\n",
    "print(np.min(my_array))      "
   ]
  },
  {
   "cell_type": "code",
   "execution_count": 5,
   "metadata": {},
   "outputs": [
    {
     "name": "stdout",
     "output_type": "stream",
     "text": [
      "4 2\n",
      "2 5\n",
      "3 7\n",
      "1 3\n",
      "4 0\n",
      "3\n"
     ]
    }
   ],
   "source": [
    "print(np.max(np.min(np.array([input().split() for _ in range(int(input().split()[0]))],int),axis=1)))"
   ]
  },
  {
   "cell_type": "code",
   "execution_count": 6,
   "metadata": {},
   "outputs": [
    {
     "name": "stdout",
     "output_type": "stream",
     "text": [
      "The Gcd of the given no's is :  12\n"
     ]
    }
   ],
   "source": [
    "# GCD Number Program\n",
    "def Gcd(a,b):\n",
    "    if (b==0):\n",
    "        return a\n",
    "    else:\n",
    "        return Gcd(b,a%b)\n",
    "a=60\n",
    "b=48\n",
    "\n",
    "print(\"The Gcd of the given no's is : \",Gcd(a,b))"
   ]
  },
  {
   "cell_type": "code",
   "execution_count": 7,
   "metadata": {},
   "outputs": [
    {
     "name": "stdout",
     "output_type": "stream",
     "text": [
      "GCD :  12\n"
     ]
    }
   ],
   "source": [
    "# GCD using loops \n",
    "def computegcd(x,y):\n",
    "    if(x>y):\n",
    "        small =y\n",
    "    else:\n",
    "        small= x\n",
    "    for i in range(1,small+1):\n",
    "        if((x%i==0) and (y%i==0)):\n",
    "            gcd=i\n",
    "    return gcd\n",
    "a=60\n",
    "b=72\n",
    "\n",
    "print(\"GCD : \",computegcd(a,b))"
   ]
  },
  {
   "cell_type": "code",
   "execution_count": 8,
   "metadata": {},
   "outputs": [
    {
     "data": {
      "text/plain": [
       "12"
      ]
     },
     "execution_count": 8,
     "metadata": {},
     "output_type": "execute_result"
    }
   ],
   "source": [
    "import math\n",
    "math.gcd(60,48)"
   ]
  },
  {
   "cell_type": "code",
   "execution_count": 9,
   "metadata": {},
   "outputs": [
    {
     "name": "stdout",
     "output_type": "stream",
     "text": [
      "5\n"
     ]
    },
    {
     "data": {
      "text/plain": [
       "120"
      ]
     },
     "execution_count": 9,
     "metadata": {},
     "output_type": "execute_result"
    }
   ],
   "source": [
    "facto=lambda a:1 if a==0 else a*facto(a-1)\n",
    "facto(int(input()))"
   ]
  },
  {
   "cell_type": "code",
   "execution_count": 4,
   "metadata": {},
   "outputs": [
    {
     "name": "stdout",
     "output_type": "stream",
     "text": [
      "7\n",
      "8\n"
     ]
    }
   ],
   "source": [
    "N=int(input())\n",
    "a=[1]\n",
    "for i in range(1,N+100):\n",
    "    if i%2==0 or i%3==0 or i%5==0:\n",
    "        a.append(i)\n",
    "print(a[N-1])"
   ]
  },
  {
   "cell_type": "code",
   "execution_count": 18,
   "metadata": {},
   "outputs": [
    {
     "name": "stdout",
     "output_type": "stream",
     "text": [
      "100\n",
      "200\n",
      "153\n"
     ]
    }
   ],
   "source": [
    "l=int(input())\n",
    "u=int(input())\n",
    "\n",
    "def arm1(n):\n",
    "    su=0\n",
    "    for i in str(n):\n",
    "        su+=int(i)**3\n",
    "    if su==int(n):\n",
    "        print(n)\n",
    "    else:\n",
    "        pass\n",
    "\n",
    "if l>u or l<0 or u<0:\n",
    "    print(\"Wrong input\")\n",
    "else:\n",
    "    for j in range(l,u):\n",
    "        arm1(j)"
   ]
  },
  {
   "cell_type": "code",
   "execution_count": null,
   "metadata": {},
   "outputs": [],
   "source": []
  }
 ],
 "metadata": {
  "kernelspec": {
   "display_name": "Python 3",
   "language": "python",
   "name": "python3"
  },
  "language_info": {
   "codemirror_mode": {
    "name": "ipython",
    "version": 3
   },
   "file_extension": ".py",
   "mimetype": "text/x-python",
   "name": "python",
   "nbconvert_exporter": "python",
   "pygments_lexer": "ipython3",
   "version": "3.7.6"
  }
 },
 "nbformat": 4,
 "nbformat_minor": 2
}
