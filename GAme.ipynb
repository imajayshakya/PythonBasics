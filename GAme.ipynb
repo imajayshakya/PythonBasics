{
 "cells": [
  {
   "cell_type": "code",
   "execution_count": null,
   "metadata": {},
   "outputs": [],
   "source": [
    "import random\n",
    "# l=input(\"what is your name ? \")\n",
    "print(\"Hi shikha We Play a Guessing number Game so write your no. between 0-10\")\n",
    "N=int(input(\"\"))\n",
    "x=random.randint(0,10)\n",
    "print(\"computer no.=\", x)\n",
    "if x==N:\n",
    "    print(\"You Are Right,You Won!\")\n",
    "else:\n",
    "    print(\"Sorry,Better luck next Time!\")"
   ]
  },
  {
   "cell_type": "code",
   "execution_count": 1,
   "metadata": {},
   "outputs": [
    {
     "name": "stdout",
     "output_type": "stream",
     "text": [
      "Enter numbers: 12345\n",
      "You entered: 12345 & You wanted: 15234\n"
     ]
    }
   ],
   "source": [
    "#How will you print next immediate integer that should have all number of input...\n",
    "# Ex :\n",
    "# Input : 2586\n",
    "# Output : 2658\n",
    "n = input(\"Enter numbers: \")\n",
    "li = []\n",
    "for i in n:\n",
    "    li.append(int(i))\n",
    "x = li[-1]\n",
    "del li[-1]\n",
    "li.insert(1, x)\n",
    "y = int(\"\".join(map(str,li)))\n",
    "print(f\"You entered: {n} & You wanted: {y}\")"
   ]
  },
  {
   "cell_type": "code",
   "execution_count": null,
   "metadata": {},
   "outputs": [],
   "source": []
  }
 ],
 "metadata": {
  "kernelspec": {
   "display_name": "Python 3",
   "language": "python",
   "name": "python3"
  },
  "language_info": {
   "codemirror_mode": {
    "name": "ipython",
    "version": 3
   },
   "file_extension": ".py",
   "mimetype": "text/x-python",
   "name": "python",
   "nbconvert_exporter": "python",
   "pygments_lexer": "ipython3",
   "version": "3.7.4"
  }
 },
 "nbformat": 4,
 "nbformat_minor": 2
}
