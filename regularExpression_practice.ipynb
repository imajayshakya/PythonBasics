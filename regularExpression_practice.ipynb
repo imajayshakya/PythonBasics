{
 "cells": [
  {
   "cell_type": "markdown",
   "metadata": {},
   "source": [
    "^\tMatches the beginning of a line\n",
    "\n",
    "$\tMatches the end of the line\n",
    "\n",
    ".\tMatches any character\n",
    "\n",
    "\\s\tMatches whitespace\n",
    "\n",
    "\\S\tMatches any non-whitespace character\n",
    "\n",
    "*\tRepeats a character zero or more times\n",
    "\n",
    "*?\tRepeats a character zero or more times (non-greedy)\n",
    "\n",
    "+\tRepeats a character one or more times\n",
    "\n",
    "+?\tRepeats a character one or more times (non-greedy)\n",
    "\n",
    "[aeiou]\tMatches a single character in the listed set\n",
    "\n",
    "[^XYZ]\tMatches a single character not in the listed set\n",
    "\n",
    "[a-z0-9]\tThe set of characters can include a range\n",
    "\n",
    "(\tIndicates where string extraction is to start\n",
    "\n",
    ")\tIndicates where string extraction is to end"
   ]
  },
  {
   "cell_type": "code",
   "execution_count": 6,
   "metadata": {},
   "outputs": [
    {
     "name": "stdout",
     "output_type": "stream",
     "text": [
      "['From: Using the :']\n"
     ]
    }
   ],
   "source": [
    "import re\n",
    "x = 'From: Using the : character'\n",
    "y = re.findall('^F.+:', x)\n",
    "print(y)"
   ]
  },
  {
   "cell_type": "code",
   "execution_count": 7,
   "metadata": {},
   "outputs": [
    {
     "name": "stdout",
     "output_type": "stream",
     "text": [
      "['stephen.marquard@uct.ac.za']\n"
     ]
    }
   ],
   "source": [
    "\n",
    "h=\"From stephen.marquard@uct.ac.za Sat Jan  5 09:14:16 2008\" \n",
    "k = re.findall('\\S+?@\\S+', h)\n",
    "print(k)"
   ]
  },
  {
   "cell_type": "markdown",
   "metadata": {},
   "source": [
    "according to me practice"
   ]
  },
  {
   "cell_type": "code",
   "execution_count": 1,
   "metadata": {},
   "outputs": [
    {
     "name": "stdout",
     "output_type": "stream",
     "text": [
      "['gmail.com']\n",
      "['ajay.shakya@gmail.com']\n",
      "['a@g']\n",
      "['gmail.com']\n"
     ]
    }
   ],
   "source": [
    "import re\n",
    "\n",
    "s=\"From ajay.shakya@gmail.com SAT JAN 5 09:14:16 2020\"\n",
    "x=re.findall('@([^ ]*)',s)        #\"[]\" mathes non blank character and \"*\" matches many of them\n",
    "y = re.findall('\\S+@\\S+',s)    # \\S is for all character till whitespace \"\"+\"\" is continuous add more  \"GREEDY\"\n",
    "z=re.findall('\\S@\\S',s)             #NON GREEDY\n",
    "ax= re.findall('^From .*@([^ ]*)',s)\n",
    "print(x)\n",
    "print(y)\n",
    "print(z)\n",
    "print(ax)"
   ]
  },
  {
   "cell_type": "code",
   "execution_count": 12,
   "metadata": {},
   "outputs": [
    {
     "ename": "ValueError",
     "evalue": "max() arg is an empty sequence",
     "output_type": "error",
     "traceback": [
      "\u001b[1;31m---------------------------------------------------------------------------\u001b[0m",
      "\u001b[1;31mValueError\u001b[0m                                Traceback (most recent call last)",
      "\u001b[1;32m<ipython-input-12-fb3883212c8b>\u001b[0m in \u001b[0;36m<module>\u001b[1;34m\u001b[0m\n\u001b[0;32m      9\u001b[0m     \u001b[0mnum\u001b[0m\u001b[1;33m=\u001b[0m\u001b[0mfloat\u001b[0m\u001b[1;33m(\u001b[0m\u001b[0mstuff\u001b[0m\u001b[1;33m[\u001b[0m\u001b[1;36m0\u001b[0m\u001b[1;33m]\u001b[0m\u001b[1;33m)\u001b[0m\u001b[1;33m\u001b[0m\u001b[1;33m\u001b[0m\u001b[0m\n\u001b[0;32m     10\u001b[0m     \u001b[0mnumlist\u001b[0m\u001b[1;33m.\u001b[0m\u001b[0mappend\u001b[0m\u001b[1;33m(\u001b[0m\u001b[0mnum\u001b[0m\u001b[1;33m)\u001b[0m\u001b[1;33m\u001b[0m\u001b[1;33m\u001b[0m\u001b[0m\n\u001b[1;32m---> 11\u001b[1;33m \u001b[0mprint\u001b[0m\u001b[1;33m(\u001b[0m\u001b[0mmax\u001b[0m\u001b[1;33m(\u001b[0m\u001b[0mnumlist\u001b[0m\u001b[1;33m)\u001b[0m\u001b[1;33m)\u001b[0m\u001b[1;33m\u001b[0m\u001b[1;33m\u001b[0m\u001b[0m\n\u001b[0m",
      "\u001b[1;31mValueError\u001b[0m: max() arg is an empty sequence"
     ]
    }
   ],
   "source": [
    "import re\n",
    "hand = open('iirs programme.txt')\n",
    "numlist=list()\n",
    "for line in hand:\n",
    "    line = line.rstrip()\n",
    "    stuff = re.findall('^X-DSPAM-Confidance: ([0-9.],+)',line)\n",
    "    if len(stuff)!=1:\n",
    "        continue\n",
    "    num=float(stuff[0])\n",
    "    numlist.append(num)\n",
    "print(max(numlist))"
   ]
  },
  {
   "cell_type": "code",
   "execution_count": 2,
   "metadata": {},
   "outputs": [
    {
     "ename": "TypeError",
     "evalue": "expected string or bytes-like object",
     "output_type": "error",
     "traceback": [
      "\u001b[1;31m---------------------------------------------------------------------------\u001b[0m",
      "\u001b[1;31mTypeError\u001b[0m                                 Traceback (most recent call last)",
      "\u001b[1;32m<ipython-input-2-9b19f5ab9224>\u001b[0m in \u001b[0;36m<module>\u001b[1;34m\u001b[0m\n\u001b[0;32m      1\u001b[0m \u001b[1;32mimport\u001b[0m \u001b[0mre\u001b[0m\u001b[1;33m\u001b[0m\u001b[1;33m\u001b[0m\u001b[0m\n\u001b[0;32m      2\u001b[0m \u001b[0mhand\u001b[0m \u001b[1;33m=\u001b[0m \u001b[0mopen\u001b[0m\u001b[1;33m(\u001b[0m\u001b[1;34m'iirs programme.txt'\u001b[0m\u001b[1;33m)\u001b[0m\u001b[1;33m\u001b[0m\u001b[1;33m\u001b[0m\u001b[0m\n\u001b[1;32m----> 3\u001b[1;33m \u001b[0mstuff\u001b[0m\u001b[1;33m=\u001b[0m\u001b[0mre\u001b[0m\u001b[1;33m.\u001b[0m\u001b[0mfindall\u001b[0m\u001b[1;33m(\u001b[0m\u001b[1;34m'@([^ ]*)'\u001b[0m\u001b[1;33m,\u001b[0m\u001b[0mhand\u001b[0m\u001b[1;33m)\u001b[0m\u001b[1;33m\u001b[0m\u001b[1;33m\u001b[0m\u001b[0m\n\u001b[0m\u001b[0;32m      4\u001b[0m \u001b[0mprint\u001b[0m\u001b[1;33m(\u001b[0m\u001b[0mstuff\u001b[0m\u001b[1;33m)\u001b[0m\u001b[1;33m\u001b[0m\u001b[1;33m\u001b[0m\u001b[0m\n",
      "\u001b[1;32m~\\anaconda3\\lib\\re.py\u001b[0m in \u001b[0;36mfindall\u001b[1;34m(pattern, string, flags)\u001b[0m\n\u001b[0;32m    221\u001b[0m \u001b[1;33m\u001b[0m\u001b[0m\n\u001b[0;32m    222\u001b[0m     Empty matches are included in the result.\"\"\"\n\u001b[1;32m--> 223\u001b[1;33m     \u001b[1;32mreturn\u001b[0m \u001b[0m_compile\u001b[0m\u001b[1;33m(\u001b[0m\u001b[0mpattern\u001b[0m\u001b[1;33m,\u001b[0m \u001b[0mflags\u001b[0m\u001b[1;33m)\u001b[0m\u001b[1;33m.\u001b[0m\u001b[0mfindall\u001b[0m\u001b[1;33m(\u001b[0m\u001b[0mstring\u001b[0m\u001b[1;33m)\u001b[0m\u001b[1;33m\u001b[0m\u001b[1;33m\u001b[0m\u001b[0m\n\u001b[0m\u001b[0;32m    224\u001b[0m \u001b[1;33m\u001b[0m\u001b[0m\n\u001b[0;32m    225\u001b[0m \u001b[1;32mdef\u001b[0m \u001b[0mfinditer\u001b[0m\u001b[1;33m(\u001b[0m\u001b[0mpattern\u001b[0m\u001b[1;33m,\u001b[0m \u001b[0mstring\u001b[0m\u001b[1;33m,\u001b[0m \u001b[0mflags\u001b[0m\u001b[1;33m=\u001b[0m\u001b[1;36m0\u001b[0m\u001b[1;33m)\u001b[0m\u001b[1;33m:\u001b[0m\u001b[1;33m\u001b[0m\u001b[1;33m\u001b[0m\u001b[0m\n",
      "\u001b[1;31mTypeError\u001b[0m: expected string or bytes-like object"
     ]
    }
   ],
   "source": [
    "import re\n",
    "hand = open('iirs programme.txt')\n",
    "stuff=re.findall('@([^ ]*)',hand)\n",
    "print(stuff)\n"
   ]
  },
  {
   "cell_type": "code",
   "execution_count": 3,
   "metadata": {},
   "outputs": [
    {
     "name": "stdout",
     "output_type": "stream",
     "text": [
      "['$100.00']\n"
     ]
    }
   ],
   "source": [
    "import re\n",
    "xtr= \"we have just received $100.00 for cookies\"\n",
    "yt=re.findall('\\$[0-9.]+',xtr)\n",
    "print(yt)"
   ]
  },
  {
   "cell_type": "code",
   "execution_count": 15,
   "metadata": {},
   "outputs": [
    {
     "ename": "ValueError",
     "evalue": "could not convert string to float: '.'",
     "output_type": "error",
     "traceback": [
      "\u001b[1;31m---------------------------------------------------------------------------\u001b[0m",
      "\u001b[1;31mValueError\u001b[0m                                Traceback (most recent call last)",
      "\u001b[1;32m<ipython-input-15-f5deb6e5d358>\u001b[0m in \u001b[0;36m<module>\u001b[1;34m\u001b[0m\n\u001b[0;32m      7\u001b[0m     \u001b[1;32mif\u001b[0m \u001b[0mlen\u001b[0m\u001b[1;33m(\u001b[0m\u001b[0mstuff\u001b[0m\u001b[1;33m)\u001b[0m\u001b[1;33m!=\u001b[0m\u001b[1;36m1\u001b[0m\u001b[1;33m:\u001b[0m\u001b[1;33m\u001b[0m\u001b[1;33m\u001b[0m\u001b[0m\n\u001b[0;32m      8\u001b[0m         \u001b[1;32mcontinue\u001b[0m\u001b[1;33m\u001b[0m\u001b[1;33m\u001b[0m\u001b[0m\n\u001b[1;32m----> 9\u001b[1;33m     \u001b[0mnum\u001b[0m\u001b[1;33m=\u001b[0m\u001b[0mfloat\u001b[0m\u001b[1;33m(\u001b[0m\u001b[0mstuff\u001b[0m\u001b[1;33m[\u001b[0m\u001b[1;36m0\u001b[0m\u001b[1;33m]\u001b[0m\u001b[1;33m)\u001b[0m\u001b[1;33m\u001b[0m\u001b[1;33m\u001b[0m\u001b[0m\n\u001b[0m\u001b[0;32m     10\u001b[0m     \u001b[0mnumlist\u001b[0m\u001b[1;33m.\u001b[0m\u001b[0mappend\u001b[0m\u001b[1;33m(\u001b[0m\u001b[0mnum\u001b[0m\u001b[1;33m)\u001b[0m\u001b[1;33m\u001b[0m\u001b[1;33m\u001b[0m\u001b[0m\n\u001b[0;32m     11\u001b[0m \u001b[0mprint\u001b[0m\u001b[1;33m(\u001b[0m\u001b[0msum\u001b[0m\u001b[1;33m(\u001b[0m\u001b[0mnumlist\u001b[0m\u001b[1;33m)\u001b[0m\u001b[1;33m)\u001b[0m\u001b[1;33m\u001b[0m\u001b[1;33m\u001b[0m\u001b[0m\n",
      "\u001b[1;31mValueError\u001b[0m: could not convert string to float: '.'"
     ]
    }
   ],
   "source": [
    "import re\n",
    "hand = open('regex_sum_42.txt')\n",
    "numlist=list()\n",
    "for line in hand:\n",
    "    line = line.rstrip()\n",
    "    stuff = re.findall('[0-9.]',line)\n",
    "    if len(stuff)!=1:\n",
    "        continue\n",
    "    num=float(stuff[0])\n",
    "    numlist.append(num)\n",
    "print(sum(numlist))"
   ]
  },
  {
   "cell_type": "code",
   "execution_count": 48,
   "metadata": {},
   "outputs": [
    {
     "name": "stdout",
     "output_type": "stream",
     "text": [
      "['7449', '7114', '6482', '9634', '2834', '7221', '2981', '5415', '6872', '4806', '3538', '4509', '4', '8877', '279', '918', '8687', '8824', '5', '2572', '8402', '42']\n",
      "107465\n"
     ]
    }
   ],
   "source": [
    "import re\n",
    "hand = open('regex_sum_42.txt')\n",
    "numlist=[]\n",
    "for line in hand:\n",
    "    line = line.rstrip()\n",
    "    stuff = re.findall('[0-9]+',line)\n",
    "    num=list(stuff)\n",
    "    \n",
    "    if len(stuff)!=1:\n",
    "        continue\n",
    "#     print(stuff)\n",
    "    numlist+=num\n",
    "print(numlist)\n",
    "summ=0\n",
    "for i in numlist:\n",
    "    summ+=int(i)\n",
    "print(summ)"
   ]
  },
  {
   "cell_type": "code",
   "execution_count": 39,
   "metadata": {},
   "outputs": [
    {
     "name": "stdout",
     "output_type": "stream",
     "text": [
      "['7746', '12', '1929', '8827', '7', '8837', '128']\n",
      "27486\n"
     ]
    }
   ],
   "source": [
    "x=\"Why should you learn to write programs? 7746 12 1929 8827 Writing programs (or programming) is a very creative 7 and rewarding activity.  You can write programs for many reasons, ranging from making your living to solving 8837 a difficult data analysis problem to having fun to helping 128 someone else solve a problem.  This book assumes that everyone needs to know how to program ...\"\n",
    "\n",
    "\n",
    "out=re.findall('[0-9]+',x)\n",
    "num=list(out)\n",
    "summ=0\n",
    "for i in num:\n",
    "    summ+=int(i)\n",
    "print(num)\n",
    "print(summ)"
   ]
  },
  {
   "cell_type": "code",
   "execution_count": 5,
   "metadata": {},
   "outputs": [
    {
     "name": "stdout",
     "output_type": "stream",
     "text": [
      "['5190', '7295', '3500', '8490', '8280', '4697', '1605', '7348', '4854', '8756', '6452', '503', '2799', '6385', '1641', '3558', '8326', '8822', '8378', '9651', '3315', '1844', '9811', '5025', '6731', '5724', '6651', '646', '4991', '6463', '4729', '4656', '5863', '5878', '5424', '3086', '8612', '7326', '4', '3563', '5770', '1719', '6828', '5892', '8468', '2747', '9557', '9018', '6744', '7845', '9916', '797', '3692', '1220', '4450', '4827', '1717', '9013', '5208', '2233', '6757', '415', '8275', '5646', '8338', '7041', '3229', '1241', '2698', '106', '5034', '9485', '2156', '4', '3', '42']\n",
      "385003\n"
     ]
    }
   ],
   "source": [
    "import re\n",
    "hand = open('regex_sum_622161.txt')\n",
    "numlist=[]\n",
    "for line in hand:\n",
    "    line = line.rstrip()\n",
    "    stuff = re.findall('[0-9]+',line)\n",
    "    num=list(stuff)\n",
    "    if len(stuff)==0:\n",
    "        continue\n",
    "        \n",
    "    numlist+=num\n",
    "\n",
    "summ=0\n",
    "for i in numlist:\n",
    "    summ+=int(i)\n",
    "print(summ)"
   ]
  },
  {
   "cell_type": "code",
   "execution_count": null,
   "metadata": {},
   "outputs": [],
   "source": [
    "import re\n",
    "print( sum( [ ****** *** * in ********('[0-9]+',regex_sum_622161.txt.read()) ] ) )"
   ]
  },
  {
   "cell_type": "code",
   "execution_count": 5,
   "metadata": {},
   "outputs": [
    {
     "name": "stdout",
     "output_type": "stream",
     "text": [
      "['http://www.dr-chuck.com\">here</a></p>']\n",
      "['<p>Please click <a href=\"http://www.dr-chuck.com\">here</a></p>']\n"
     ]
    }
   ],
   "source": [
    "import re\n",
    "\n",
    "x='<p>Please click <a href=\"http://www.dr-chuck.com\">here</a></p>'\n",
    "\n",
    "st=re.findall('http://.*',x)\n",
    "st1=re.findall(\"<.*>\",x)\n",
    "print(st)\n",
    "print(st1)"
   ]
  },
  {
   "cell_type": "code",
   "execution_count": 13,
   "metadata": {},
   "outputs": [
    {
     "name": "stdout",
     "output_type": "stream",
     "text": [
      "105\n"
     ]
    }
   ],
   "source": [
    "print(ord('i'))"
   ]
  },
  {
   "cell_type": "code",
   "execution_count": 30,
   "metadata": {},
   "outputs": [
    {
     "name": "stdout",
     "output_type": "stream",
     "text": [
      "Contents: ['99']\n",
      "Contents: ['97']\n",
      "Contents: ['96']\n",
      "Contents: ['96']\n",
      "Contents: ['95']\n",
      "Contents: ['95']\n",
      "Contents: ['91']\n",
      "Contents: ['90']\n",
      "Contents: ['90']\n",
      "Contents: ['87']\n",
      "Contents: ['81']\n",
      "Contents: ['79']\n",
      "Contents: ['75']\n",
      "Contents: ['74']\n",
      "Contents: ['73']\n",
      "Contents: ['73']\n",
      "Contents: ['60']\n",
      "Contents: ['60']\n",
      "Contents: ['60']\n",
      "Contents: ['60']\n",
      "Contents: ['59']\n",
      "Contents: ['55']\n",
      "Contents: ['52']\n",
      "Contents: ['52']\n",
      "Contents: ['52']\n",
      "Contents: ['50']\n",
      "Contents: ['49']\n",
      "Contents: ['48']\n",
      "Contents: ['48']\n",
      "Contents: ['47']\n",
      "Contents: ['46']\n",
      "Contents: ['46']\n",
      "Contents: ['45']\n",
      "Contents: ['41']\n",
      "Contents: ['39']\n",
      "Contents: ['37']\n",
      "Contents: ['33']\n",
      "Contents: ['31']\n",
      "Contents: ['31']\n",
      "Contents: ['30']\n",
      "Contents: ['30']\n",
      "Contents: ['30']\n",
      "Contents: ['30']\n",
      "Contents: ['27']\n",
      "Contents: ['24']\n",
      "Contents: ['10']\n",
      "Contents: ['8']\n",
      "Contents: ['4']\n",
      "Contents: ['3']\n",
      "Contents: ['3']\n",
      "2691\n"
     ]
    }
   ],
   "source": [
    "from urllib.request import urlopen\n",
    "from bs4 import BeautifulSoup\n",
    "import ssl\n",
    "\n",
    "# Ignore SSL certificate errors\n",
    "ctx = ssl.create_default_context()\n",
    "ctx.check_hostname = False\n",
    "ctx.verify_mode = ssl.CERT_NONE\n",
    "\n",
    "url = 'http://py4e-data.dr-chuck.net/comments_622163.html'\n",
    "html = urlopen(url, context=ctx).read()\n",
    "soup = BeautifulSoup(html, \"html.parser\")\n",
    "\n",
    "# Retrieve all of the anchor tags\n",
    "tags = soup('span',{\"class\":\"comments\"})\n",
    "a=[]\n",
    "summ=0\n",
    "for tag in tags:\n",
    "    # Look at the parts of a tag\n",
    "#     print('TAG:', tag)\n",
    "#     print('URL:', tag.get('href', None))\n",
    "#     print('Contents:', tag.contents)\n",
    "#     print('Attrs:', tag.attrs)\n",
    "    a=a+tag.contents\n",
    "for i in a:\n",
    "    summ+=int(i)\n",
    "print(summ)"
   ]
  },
  {
   "cell_type": "markdown",
   "metadata": {},
   "source": [
    "# Actual problem: Start at: http://py4e-data.dr-chuck.net/known_by_Amber.html\n",
    "Find the link at position 18 (the first name is 1). Follow that link. Repeat this process 7 times. The answer is the last name that you retrieve.\n",
    "Hint: The first character of the name of the last page that you will load is: S"
   ]
  },
  {
   "cell_type": "code",
   "execution_count": 6,
   "metadata": {},
   "outputs": [
    {
     "name": "stdout",
     "output_type": "stream",
     "text": [
      "http://py4e-data.dr-chuck.net/known_by_Alihaider.html\n",
      "http://py4e-data.dr-chuck.net/known_by_Rayyan.html\n",
      "http://py4e-data.dr-chuck.net/known_by_Kynan.html\n",
      "http://py4e-data.dr-chuck.net/known_by_Kayam.html\n",
      "http://py4e-data.dr-chuck.net/known_by_Renia.html\n",
      "http://py4e-data.dr-chuck.net/known_by_Duriel.html\n",
      "http://py4e-data.dr-chuck.net/known_by_Stewart.html\n"
     ]
    }
   ],
   "source": [
    "import urllib.request, urllib.parse, urllib.error\n",
    "import urllib\n",
    "from bs4 import BeautifulSoup\n",
    "\n",
    "url = 'http://py4e-data.dr-chuck.net/known_by_Amber.html'\n",
    "html = urllib.request.urlopen(url).read()\n",
    "soup = BeautifulSoup(html, 'html.parser')\n",
    "count = 8\n",
    "position = 18\n",
    "tags_lst = []\n",
    "\n",
    "for x in range(count-1):\n",
    "    tags = soup('a')\n",
    "    my_tags = tags[position-1]\n",
    "    needed_tag = my_tags.get('href', None)\n",
    "    tags_lst.append(needed_tag)\n",
    "    url = str(needed_tag)\n",
    "    html = urllib.request.urlopen(url).read()\n",
    "    soup = BeautifulSoup(html, 'html.parser')\n",
    "    print(url)"
   ]
  },
  {
   "cell_type": "code",
   "execution_count": null,
   "metadata": {},
   "outputs": [],
   "source": []
  },
  {
   "cell_type": "code",
   "execution_count": 6,
   "metadata": {},
   "outputs": [
    {
     "name": "stdout",
     "output_type": "stream",
     "text": [
      "http://py4e-data.dr-chuck.net/known_by_Laaibah.html\n",
      "http://py4e-data.dr-chuck.net/known_by_Clayton.html\n",
      "http://py4e-data.dr-chuck.net/known_by_Stella.html\n",
      "http://py4e-data.dr-chuck.net/known_by_Iniobong.html\n",
      "http://py4e-data.dr-chuck.net/known_by_Ahoua.html\n",
      "http://py4e-data.dr-chuck.net/known_by_Tabbitha.html\n",
      "http://py4e-data.dr-chuck.net/known_by_Conrad.html\n",
      "http://py4e-data.dr-chuck.net/known_by_McLay.html\n",
      "http://py4e-data.dr-chuck.net/known_by_Rholmark.html\n",
      "http://py4e-data.dr-chuck.net/known_by_Todd.html\n",
      "http://py4e-data.dr-chuck.net/known_by_Piper.html\n",
      "http://py4e-data.dr-chuck.net/known_by_Harri.html\n",
      "http://py4e-data.dr-chuck.net/known_by_Tanisha.html\n",
      "http://py4e-data.dr-chuck.net/known_by_Sharilee.html\n",
      "http://py4e-data.dr-chuck.net/known_by_Raine.html\n",
      "http://py4e-data.dr-chuck.net/known_by_Neave.html\n",
      "http://py4e-data.dr-chuck.net/known_by_Alyas.html\n",
      "http://py4e-data.dr-chuck.net/known_by_Alihaider.html\n",
      "http://py4e-data.dr-chuck.net/known_by_Caden.html\n",
      "http://py4e-data.dr-chuck.net/known_by_Teagan.html\n",
      "http://py4e-data.dr-chuck.net/known_by_Richard.html\n",
      "http://py4e-data.dr-chuck.net/known_by_Christopher.html\n",
      "http://py4e-data.dr-chuck.net/known_by_Ahmad.html\n",
      "http://py4e-data.dr-chuck.net/known_by_Aodhan.html\n",
      "http://py4e-data.dr-chuck.net/known_by_Hollyanne.html\n",
      "http://py4e-data.dr-chuck.net/known_by_Amiee.html\n",
      "http://py4e-data.dr-chuck.net/known_by_Keigan.html\n",
      "http://py4e-data.dr-chuck.net/known_by_Amrit.html\n",
      "http://py4e-data.dr-chuck.net/known_by_Queen.html\n",
      "http://py4e-data.dr-chuck.net/known_by_Lexine.html\n",
      "http://py4e-data.dr-chuck.net/known_by_Leyna.html\n",
      "http://py4e-data.dr-chuck.net/known_by_Elisa.html\n",
      "http://py4e-data.dr-chuck.net/known_by_Shayaan.html\n",
      "http://py4e-data.dr-chuck.net/known_by_Temilade.html\n",
      "http://py4e-data.dr-chuck.net/known_by_Jools.html\n",
      "http://py4e-data.dr-chuck.net/known_by_Sharon.html\n",
      "http://py4e-data.dr-chuck.net/known_by_Kiara.html\n",
      "http://py4e-data.dr-chuck.net/known_by_Caolan.html\n",
      "http://py4e-data.dr-chuck.net/known_by_Frank.html\n",
      "http://py4e-data.dr-chuck.net/known_by_Fraser.html\n",
      "http://py4e-data.dr-chuck.net/known_by_Kasi.html\n",
      "http://py4e-data.dr-chuck.net/known_by_Benny.html\n",
      "http://py4e-data.dr-chuck.net/known_by_Flora.html\n",
      "http://py4e-data.dr-chuck.net/known_by_Rebekah.html\n",
      "http://py4e-data.dr-chuck.net/known_by_Tisloh.html\n",
      "http://py4e-data.dr-chuck.net/known_by_Kurt.html\n",
      "http://py4e-data.dr-chuck.net/known_by_Remigiusz.html\n",
      "http://py4e-data.dr-chuck.net/known_by_Ivar.html\n",
      "http://py4e-data.dr-chuck.net/known_by_Zechariah.html\n",
      "http://py4e-data.dr-chuck.net/known_by_Deecan.html\n",
      "http://py4e-data.dr-chuck.net/known_by_Kasey.html\n",
      "http://py4e-data.dr-chuck.net/known_by_Nikiya.html\n",
      "http://py4e-data.dr-chuck.net/known_by_Rehaan.html\n",
      "http://py4e-data.dr-chuck.net/known_by_Zunaira.html\n",
      "http://py4e-data.dr-chuck.net/known_by_Safa.html\n",
      "http://py4e-data.dr-chuck.net/known_by_Malak.html\n",
      "http://py4e-data.dr-chuck.net/known_by_Ammar.html\n",
      "http://py4e-data.dr-chuck.net/known_by_Camille.html\n",
      "http://py4e-data.dr-chuck.net/known_by_Zion.html\n",
      "http://py4e-data.dr-chuck.net/known_by_Davie.html\n",
      "http://py4e-data.dr-chuck.net/known_by_Kavita.html\n",
      "http://py4e-data.dr-chuck.net/known_by_Raina.html\n",
      "http://py4e-data.dr-chuck.net/known_by_Shwetika.html\n",
      "http://py4e-data.dr-chuck.net/known_by_Kayla.html\n",
      "http://py4e-data.dr-chuck.net/known_by_Sonneey.html\n",
      "http://py4e-data.dr-chuck.net/known_by_Bryson.html\n",
      "http://py4e-data.dr-chuck.net/known_by_Leyre.html\n",
      "http://py4e-data.dr-chuck.net/known_by_Dennie.html\n",
      "http://py4e-data.dr-chuck.net/known_by_Meriem.html\n",
      "http://py4e-data.dr-chuck.net/known_by_Murdina.html\n",
      "http://py4e-data.dr-chuck.net/known_by_Katriona.html\n",
      "http://py4e-data.dr-chuck.net/known_by_Clark.html\n",
      "http://py4e-data.dr-chuck.net/known_by_Reuben.html\n",
      "http://py4e-data.dr-chuck.net/known_by_Romany.html\n",
      "http://py4e-data.dr-chuck.net/known_by_Reese.html\n",
      "http://py4e-data.dr-chuck.net/known_by_Rhyan.html\n",
      "http://py4e-data.dr-chuck.net/known_by_Kyron.html\n",
      "http://py4e-data.dr-chuck.net/known_by_Fenella.html\n",
      "http://py4e-data.dr-chuck.net/known_by_Marius.html\n",
      "http://py4e-data.dr-chuck.net/known_by_Nodoka.html\n",
      "http://py4e-data.dr-chuck.net/known_by_Missy.html\n",
      "http://py4e-data.dr-chuck.net/known_by_Dione.html\n",
      "http://py4e-data.dr-chuck.net/known_by_Asif.html\n",
      "http://py4e-data.dr-chuck.net/known_by_Lorne.html\n",
      "http://py4e-data.dr-chuck.net/known_by_Ashton.html\n",
      "http://py4e-data.dr-chuck.net/known_by_Alanna.html\n",
      "http://py4e-data.dr-chuck.net/known_by_Kiya.html\n",
      "http://py4e-data.dr-chuck.net/known_by_Arron.html\n",
      "http://py4e-data.dr-chuck.net/known_by_Ronan.html\n",
      "http://py4e-data.dr-chuck.net/known_by_Tione.html\n",
      "http://py4e-data.dr-chuck.net/known_by_Magnus.html\n",
      "http://py4e-data.dr-chuck.net/known_by_Norrie.html\n",
      "http://py4e-data.dr-chuck.net/known_by_Raza.html\n",
      "http://py4e-data.dr-chuck.net/known_by_Caryn.html\n",
      "http://py4e-data.dr-chuck.net/known_by_Abhinav.html\n",
      "http://py4e-data.dr-chuck.net/known_by_Masood.html\n",
      "http://py4e-data.dr-chuck.net/known_by_Ethan.html\n",
      "http://py4e-data.dr-chuck.net/known_by_Ferne.html\n",
      "http://py4e-data.dr-chuck.net/known_by_Aiman.html\n",
      "http://py4e-data.dr-chuck.net/known_by_Jomana.html\n"
     ]
    }
   ],
   "source": [
    "#Retrieving links \n",
    "\n",
    "import urllib.request, urllib.parse, urllib.error\n",
    "from bs4 import BeautifulSoup\n",
    "import ssl\n",
    "\n",
    "# Ignore SSL certificate errors\n",
    "ctx = ssl.create_default_context()\n",
    "ctx.check_hostname = False\n",
    "ctx.verify_mode = ssl.CERT_NONE\n",
    "\n",
    "\n",
    "\n",
    "url = \"http://py4e-data.dr-chuck.net/known_by_Amber.html\"\n",
    "\n",
    "\n",
    "html = urllib.request.urlopen(url, context=ctx).read()\n",
    "soup = BeautifulSoup(html, 'html.parser')\n",
    "\n",
    "# Retrieve all of the anchor tags\n",
    "links = soup.find_all(\"a\")\n",
    "count=0\n",
    "\n",
    "for link in links:\n",
    "    print(link.get('href', None))\n",
    "    count+=1\n",
    "#     if count==19:\n",
    "#         url1=link.get('href',None)\n",
    "#         break\n",
    "# print(url1)\n",
    "   \n",
    "\n",
    "\n",
    "\n",
    "        \n",
    "# print(funjoy(url1))"
   ]
  },
  {
   "cell_type": "code",
   "execution_count": null,
   "metadata": {},
   "outputs": [],
   "source": []
  }
 ],
 "metadata": {
  "kernelspec": {
   "display_name": "Python 3",
   "language": "python",
   "name": "python3"
  },
  "language_info": {
   "codemirror_mode": {
    "name": "ipython",
    "version": 3
   },
   "file_extension": ".py",
   "mimetype": "text/x-python",
   "name": "python",
   "nbconvert_exporter": "python",
   "pygments_lexer": "ipython3",
   "version": "3.7.6"
  }
 },
 "nbformat": 4,
 "nbformat_minor": 4
}
