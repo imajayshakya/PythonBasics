{
 "cells": [
  {
   "cell_type": "code",
   "execution_count": 27,
   "metadata": {},
   "outputs": [
    {
     "name": "stdout",
     "output_type": "stream",
     "text": [
      "22.2\n",
      "Error\n"
     ]
    }
   ],
   "source": [
    "s = float(input())\n",
    "\n",
    "if (s>0.0 and s<1.1):\n",
    "    try:\n",
    "        if s>=0.9:\n",
    "            print(\"A\")\n",
    "        elif s>=0.8:\n",
    "            print(\"B\")\n",
    "        elif s>=0.7:\n",
    "            print(\"C\")\n",
    "        elif s>=0.6:\n",
    "            print(\"D\")\n",
    "        elif s<0.6:\n",
    "            print(\"F\")\n",
    "    except:\n",
    "        raise ValueError(\"it is not valid input\")\n",
    "else:\n",
    "    print(\"Error\")\n",
    "            "
   ]
  },
  {
   "cell_type": "code",
   "execution_count": 28,
   "metadata": {},
   "outputs": [
    {
     "name": "stdout",
     "output_type": "stream",
     "text": [
      "2.2\n",
      "Error\n"
     ]
    }
   ],
   "source": [
    "s = float(input())\n",
    "\n",
    "if s>0.0 and s<1.1:\n",
    "    if s>=0.9:\n",
    "        print(\"A\")\n",
    "    elif s>=0.8:\n",
    "        print(\"B\")\n",
    "    elif s>=0.7:\n",
    "        print(\"C\")\n",
    "    elif s>=0.6:\n",
    "        print(\"D\")\n",
    "    elif s<0.6:\n",
    "        print(\"F\")\n",
    "        \n",
    "else:\n",
    "    print(\"Error\")"
   ]
  },
  {
   "cell_type": "code",
   "execution_count": 29,
   "metadata": {},
   "outputs": [
    {
     "name": "stdout",
     "output_type": "stream",
     "text": [
      "Hey bro! Enter your Name : Ajay Kumar\n",
      "Hello Dear Ajay Kumar\n"
     ]
    }
   ],
   "source": [
    "scan = input(\"Hey bro! Enter your Name : \")\n",
    "print(\"Hello Dear\",scan)"
   ]
  },
  {
   "cell_type": "code",
   "execution_count": 1,
   "metadata": {},
   "outputs": [
    {
     "name": "stdout",
     "output_type": "stream",
     "text": [
      "Enter a number: 7\n",
      "Enter a number: 8\n",
      "Enter a number: bob\n",
      "Invalid input\n",
      "Enter a number: 56\n",
      "Enter a number: 9\n",
      "Enter a number: done\n",
      "Maximum is 56\n",
      "Minimum is 7\n"
     ]
    }
   ],
   "source": [
    "res=[]\n",
    "while True:\n",
    "    num = input(\"Enter a number: \")\n",
    "    if num == \"done\" : break\n",
    "    try:\n",
    "        num=int(num)\n",
    "        res.append(num)\n",
    "    except:\n",
    "        print(\"Invalid input\")\n",
    "   \n",
    "    \n",
    "largest=max(res)\n",
    "smallest=min(res)\n",
    "   \n",
    "print(\"Maximum is\", largest)\n",
    "print (\"Minimum is\", smallest)\n",
    "inputs 4,2,bob,7,10,2"
   ]
  },
  {
   "cell_type": "code",
   "execution_count": 1,
   "metadata": {},
   "outputs": [
    {
     "name": "stdout",
     "output_type": "stream",
     "text": [
      "Bonjour Michael\n"
     ]
    }
   ],
   "source": [
    "def greet(lang):\n",
    "    if lang == 'es':\n",
    "        return 'Hola'\n",
    "    elif lang == 'fr':\n",
    "        return 'Bonjour'\n",
    "    else:\n",
    "        return 'Hello'\n",
    "\n",
    "print(greet('fr'),'Michael')"
   ]
  },
  {
   "cell_type": "code",
   "execution_count": 2,
   "metadata": {},
   "outputs": [
    {
     "name": "stdout",
     "output_type": "stream",
     "text": [
      "2\n"
     ]
    }
   ],
   "source": [
    "def addtwo(a, b):\n",
    "    added = a + b\n",
    "    return a\n",
    "\n",
    "x = addtwo(2, 7)\n",
    "print(x)"
   ]
  },
  {
   "cell_type": "code",
   "execution_count": 3,
   "metadata": {},
   "outputs": [
    {
     "name": "stdout",
     "output_type": "stream",
     "text": [
      "5\n"
     ]
    }
   ],
   "source": [
    "tot = 0 \n",
    "for i in [5, 4, 3, 2, 1] :\n",
    "    tot = tot + 1\n",
    "print(tot)"
   ]
  },
  {
   "cell_type": "code",
   "execution_count": 4,
   "metadata": {},
   "outputs": [
    {
     "name": "stdout",
     "output_type": "stream",
     "text": [
      "Happy New Year: Joseph\n",
      "Happy New Year: Glenn\n",
      "Happy New Year: Sally\n",
      "Done!\n"
     ]
    }
   ],
   "source": [
    "friends = ['Joseph', 'Glenn', 'Sally']\n",
    "for friend in friends :\n",
    "     print('Happy New Year:',  friend)\n",
    "print('Done!')"
   ]
  },
  {
   "cell_type": "code",
   "execution_count": 5,
   "metadata": {},
   "outputs": [
    {
     "name": "stdout",
     "output_type": "stream",
     "text": [
      "After 154\n"
     ]
    }
   ],
   "source": [
    "zork = 0\n",
    "for thing in [9, 41, 12, 3, 74, 15] :\n",
    "    zork = zork + thing\n",
    "print('After', zork)"
   ]
  },
  {
   "cell_type": "code",
   "execution_count": 6,
   "metadata": {},
   "outputs": [
    {
     "name": "stdout",
     "output_type": "stream",
     "text": [
      "-1\n"
     ]
    }
   ],
   "source": [
    "smallest_so_far = -1\n",
    "for the_num in [9, 41, 12, 3, 74, 15] :\n",
    "   if the_num < smallest_so_far :\n",
    "      smallest_so_far = the_num\n",
    "print(smallest_so_far)"
   ]
  },
  {
   "cell_type": "code",
   "execution_count": 7,
   "metadata": {},
   "outputs": [
    {
     "name": "stdout",
     "output_type": "stream",
     "text": [
      "Dry off!\n"
     ]
    }
   ],
   "source": [
    "n = 0\n",
    "while n > 0 :\n",
    "    print('Lather')\n",
    "    print('Rinse')\n",
    "print('Dry off!')"
   ]
  },
  {
   "cell_type": "code",
   "execution_count": 8,
   "metadata": {},
   "outputs": [
    {
     "name": "stdout",
     "output_type": "stream",
     "text": [
      "Hellothere\n"
     ]
    }
   ],
   "source": [
    "str1 = \"Hello\"\n",
    "str2 = 'there'\n",
    "bob = str1 + str2\n",
    "print(bob)"
   ]
  },
  {
   "cell_type": "code",
   "execution_count": 9,
   "metadata": {},
   "outputs": [
    {
     "name": "stdout",
     "output_type": "stream",
     "text": [
      "42\n"
     ]
    }
   ],
   "source": [
    "x = '40'\n",
    "y = int(x) + 2\n",
    "print(y)"
   ]
  },
  {
   "cell_type": "code",
   "execution_count": 10,
   "metadata": {},
   "outputs": [
    {
     "name": "stdout",
     "output_type": "stream",
     "text": [
      "b\n",
      "a\n",
      "n\n",
      "a\n",
      "n\n",
      "a\n"
     ]
    }
   ],
   "source": [
    "for letter in 'banana' :\n",
    "    print(letter)"
   ]
  },
  {
   "cell_type": "code",
   "execution_count": 2,
   "metadata": {},
   "outputs": [
    {
     "name": "stdout",
     "output_type": "stream",
     "text": [
      "12\n",
      ".ma\n"
     ]
    }
   ],
   "source": [
    "data = 'From stephen.marquard@uct.ac.za Sat Jan  5 09:14:16 2008'\n",
    "pos = data.find('.')\n",
    "print(pos)\n",
    "print(data[pos:pos+3])"
   ]
  },
  {
   "cell_type": "code",
   "execution_count": 19,
   "metadata": {},
   "outputs": [
    {
     "name": "stdout",
     "output_type": "stream",
     "text": [
      "6\n",
      "0.8475\n"
     ]
    }
   ],
   "source": [
    "text = \"X-DSPAM-Confidence:    0.8475\"\n",
    "d=text.index(\"M\")\n",
    "print(d)\n",
    "x=text[23:]\n",
    "print(x)"
   ]
  },
  {
   "cell_type": "code",
   "execution_count": 22,
   "metadata": {},
   "outputs": [
    {
     "name": "stdout",
     "output_type": "stream",
     "text": [
      "0.8475\n"
     ]
    }
   ],
   "source": [
    "text = \"X-DSPAM-Confidence:    0.8475\"\n",
    "y=text.find(\"0\")\n",
    "x=text[int(y):]\n",
    "print(x)"
   ]
  },
  {
   "cell_type": "code",
   "execution_count": 4,
   "metadata": {},
   "outputs": [
    {
     "name": "stdout",
     "output_type": "stream",
     "text": [
      "Enter file name: pendulum.txt\n",
      "<_io.TextIOWrapper name='pendulum.txt' mode='r' encoding='cp1252'>\n",
      "1 11SDDD\n",
      "2 12SFFFFFFFFSLJFLKJL;FJ;J;FHHFPHER\n",
      "3 13\n",
      "4 14\n",
      "5 15\n",
      "6 16\n",
      "7 17\n",
      "8 18\n",
      "9 19\n",
      "10 20\n"
     ]
    }
   ],
   "source": [
    "# Use words.txt as the file name\n",
    "fname = input(\"Enter file name: \")\n",
    "fh = open(fname)\n",
    "\n",
    "for st in fh:\n",
    "    st=st.upper().rstrip()\n",
    "    print(st)"
   ]
  },
  {
   "cell_type": "code",
   "execution_count": 24,
   "metadata": {},
   "outputs": [
    {
     "name": "stdout",
     "output_type": "stream",
     "text": [
      "Enter file name: mbox-short.txt\n",
      "Average spam confidence: 0.750718518519\n"
     ]
    }
   ],
   "source": [
    "# Use the file name mbox-short.txt as the file name\n",
    "fname = input(\"Enter file name: \")\n",
    "fh = open(fname)\n",
    "count=0\n",
    "out=0\n",
    "a=[]\n",
    "for line in fh:\n",
    "    if not line.startswith(\"X-DSPAM-Confidence:\") : continue\n",
    "    a.append(line[20:].rstrip())\n",
    "#     print(line.rstrip())\n",
    "    count+=1\n",
    "for i in a:\n",
    "    out+=float(i)\n",
    "res=round(out/count,12)\n",
    "print(\"Average spam confidence:\",res)\n",
    "# print(\"Done\",count)\n",
    "# print(a)\n",
    "\n",
    "#mbox-short.txt"
   ]
  },
  {
   "cell_type": "code",
   "execution_count": 11,
   "metadata": {},
   "outputs": [
    {
     "name": "stdout",
     "output_type": "stream",
     "text": [
      "0.8475\n"
     ]
    }
   ],
   "source": [
    "x=\"X-DSPAM-Confidence: 0.8475\"\n",
    "print(x[20:])"
   ]
  },
  {
   "cell_type": "code",
   "execution_count": 35,
   "metadata": {},
   "outputs": [
    {
     "name": "stdout",
     "output_type": "stream",
     "text": [
      "Enter file name: romeo.txt\n"
     ]
    },
    {
     "ename": "AttributeError",
     "evalue": "'_io.TextIOWrapper' object has no attribute 'spilt'",
     "output_type": "error",
     "traceback": [
      "\u001b[1;31m---------------------------------------------------------------------------\u001b[0m",
      "\u001b[1;31mAttributeError\u001b[0m                            Traceback (most recent call last)",
      "\u001b[1;32m<ipython-input-35-a864face27ee>\u001b[0m in \u001b[0;36m<module>\u001b[1;34m\u001b[0m\n\u001b[0;32m      2\u001b[0m \u001b[0mfh\u001b[0m \u001b[1;33m=\u001b[0m \u001b[0mopen\u001b[0m\u001b[1;33m(\u001b[0m\u001b[0mfname\u001b[0m\u001b[1;33m)\u001b[0m\u001b[1;33m\u001b[0m\u001b[1;33m\u001b[0m\u001b[0m\n\u001b[0;32m      3\u001b[0m \u001b[0mlst\u001b[0m \u001b[1;33m=\u001b[0m \u001b[0mlist\u001b[0m\u001b[1;33m(\u001b[0m\u001b[1;33m)\u001b[0m\u001b[1;33m\u001b[0m\u001b[1;33m\u001b[0m\u001b[0m\n\u001b[1;32m----> 4\u001b[1;33m \u001b[0my\u001b[0m\u001b[1;33m=\u001b[0m\u001b[0mfh\u001b[0m\u001b[1;33m.\u001b[0m\u001b[0mspilt\u001b[0m\u001b[1;33m(\u001b[0m\u001b[1;33m)\u001b[0m\u001b[1;33m\u001b[0m\u001b[1;33m\u001b[0m\u001b[0m\n\u001b[0m\u001b[0;32m      5\u001b[0m \u001b[1;31m# line=line.split()\u001b[0m\u001b[1;33m\u001b[0m\u001b[1;33m\u001b[0m\u001b[1;33m\u001b[0m\u001b[0m\n\u001b[0;32m      6\u001b[0m \u001b[1;31m# if line not in lst:\u001b[0m\u001b[1;33m\u001b[0m\u001b[1;33m\u001b[0m\u001b[1;33m\u001b[0m\u001b[0m\n",
      "\u001b[1;31mAttributeError\u001b[0m: '_io.TextIOWrapper' object has no attribute 'spilt'"
     ]
    }
   ],
   "source": [
    "fname = input(\"Enter file name: \")\n",
    "fh = open(fname)\n",
    "lst = list()\n",
    "y=fh.spilt()\n",
    "# line=line.split()\n",
    "# if line not in lst:\n",
    "# lst=lst+line\n",
    "\n",
    "print(y)\n"
   ]
  },
  {
   "cell_type": "code",
   "execution_count": 5,
   "metadata": {},
   "outputs": [
    {
     "name": "stdout",
     "output_type": "stream",
     "text": [
      "Enter file name: romeo.txt\n",
      "[['But', 'soft', 'what', 'light', 'through', 'yonder', 'window', 'breaks'], ['It', 'is', 'the', 'east', 'and', 'Juliet', 'is', 'the', 'sun'], ['Arise', 'fair', 'sun', 'and', 'kill', 'the', 'envious', 'moon'], ['Who', 'is', 'already', 'sick', 'and', 'pale', 'with', 'grief']]\n",
      "['Arise', 'But', 'It', 'Juliet', 'Who', 'already', 'and', 'breaks', 'east', 'envious', 'fair', 'grief', 'is', 'kill', 'light', 'moon', 'pale', 'sick', 'soft', 'sun', 'the', 'through', 'what', 'window', 'with', 'yonder']\n"
     ]
    }
   ],
   "source": [
    "fname = input(\"Enter file name: \")\n",
    "fh = open(fname)\n",
    "lst = list()\n",
    "for line in fh:\n",
    "    line=line.split()\n",
    "    if line not in lst:\n",
    "        lst.append(line)\n",
    "s=[]\n",
    "# print(lst)\n",
    "for i in lst:\n",
    "    s=s+i\n",
    "    \n",
    "\n",
    "q=set(s)\n",
    "res=list(q)\n",
    "res.sort()\n",
    "\n",
    "print(res)\n",
    "\n"
   ]
  },
  {
   "cell_type": "raw",
   "metadata": {},
   "source": [
    "Open the file mbox-short.txt and read it line by line. When you find a line that starts with 'From ' like the following line:\n",
    "From stephen.marquard@uct.ac.za Sat Jan  5 09:14:16 2008\n",
    "You will parse the From line using split() and print out the second word in the line (i.e. the entire address of the person who sent the message). Then print out a count at the end.\n",
    "Hint: make sure not to include the lines that start with 'From:'.\n",
    "\n",
    "You can download the sample data at http://www.py4e.com/code3/mbox-short.txt"
   ]
  },
  {
   "cell_type": "code",
   "execution_count": 62,
   "metadata": {},
   "outputs": [
    {
     "name": "stdout",
     "output_type": "stream",
     "text": [
      "Enter file name: mbox-short.txt\n",
      "stephen.marquard@uct.ac.za\n",
      "louis@media.berkeley.edu\n",
      "zqian@umich.edu\n",
      "rjlowe@iupui.edu\n",
      "zqian@umich.edu\n",
      "rjlowe@iupui.edu\n",
      "cwen@iupui.edu\n",
      "cwen@iupui.edu\n",
      "gsilver@umich.edu\n",
      "gsilver@umich.edu\n",
      "zqian@umich.edu\n",
      "gsilver@umich.edu\n",
      "wagnermr@iupui.edu\n",
      "zqian@umich.edu\n",
      "antranig@caret.cam.ac.uk\n",
      "gopal.ramasammycook@gmail.com\n",
      "david.horwitz@uct.ac.za\n",
      "david.horwitz@uct.ac.za\n",
      "david.horwitz@uct.ac.za\n",
      "david.horwitz@uct.ac.za\n",
      "stephen.marquard@uct.ac.za\n",
      "louis@media.berkeley.edu\n",
      "louis@media.berkeley.edu\n",
      "ray@media.berkeley.edu\n",
      "cwen@iupui.edu\n",
      "cwen@iupui.edu\n",
      "cwen@iupui.edu\n",
      "There were 27 lines in the file with From as the first word\n"
     ]
    }
   ],
   "source": [
    "fname = input(\"Enter file name: \")\n",
    "if len(fname) < 1 : fname = \"mbox-short.txt\"\n",
    "\n",
    "fh = open(fname)\n",
    "count = 0\n",
    "\n",
    "for line in fh:\n",
    "    if not line.startswith(\"From:\") : continue\n",
    "    line=line.split()\n",
    "#     print(line)\n",
    "    count+=1\n",
    "    print(line[1])\n",
    "\n",
    "print(\"There were\", count, \"lines in the file with From as the first word\")\n"
   ]
  },
  {
   "cell_type": "code",
   "execution_count": 3,
   "metadata": {},
   "outputs": [
    {
     "name": "stdout",
     "output_type": "stream",
     "text": [
      "Hi\n",
      "Mike\n"
     ]
    }
   ],
   "source": [
    "x=1\n",
    "\n",
    "if(x!=1):\n",
    "\n",
    "    print('Hello')\n",
    "\n",
    "else:\n",
    "\n",
    "    print('Hi')\n",
    "\n",
    "print('Mike')"
   ]
  },
  {
   "cell_type": "code",
   "execution_count": 4,
   "metadata": {},
   "outputs": [
    {
     "data": {
      "text/html": [
       "<div>\n",
       "<style scoped>\n",
       "    .dataframe tbody tr th:only-of-type {\n",
       "        vertical-align: middle;\n",
       "    }\n",
       "\n",
       "    .dataframe tbody tr th {\n",
       "        vertical-align: top;\n",
       "    }\n",
       "\n",
       "    .dataframe thead th {\n",
       "        text-align: right;\n",
       "    }\n",
       "</style>\n",
       "<table border=\"1\" class=\"dataframe\">\n",
       "  <thead>\n",
       "    <tr style=\"text-align: right;\">\n",
       "      <th></th>\n",
       "      <th>a</th>\n",
       "      <th>b</th>\n",
       "    </tr>\n",
       "  </thead>\n",
       "  <tbody>\n",
       "    <tr>\n",
       "      <th>0</th>\n",
       "      <td>11</td>\n",
       "      <td>21</td>\n",
       "    </tr>\n",
       "    <tr>\n",
       "      <th>1</th>\n",
       "      <td>21</td>\n",
       "      <td>22</td>\n",
       "    </tr>\n",
       "    <tr>\n",
       "      <th>2</th>\n",
       "      <td>31</td>\n",
       "      <td>23</td>\n",
       "    </tr>\n",
       "  </tbody>\n",
       "</table>\n",
       "</div>"
      ],
      "text/plain": [
       "    a   b\n",
       "0  11  21\n",
       "1  21  22\n",
       "2  31  23"
      ]
     },
     "execution_count": 4,
     "metadata": {},
     "output_type": "execute_result"
    }
   ],
   "source": [
    "import pandas as banana\n",
    "\n",
    "df=banana.DataFrame({'a':[11,21,31],'b':[21,22,23]})\n",
    "\n",
    "df.head()"
   ]
  },
  {
   "cell_type": "code",
   "execution_count": 6,
   "metadata": {},
   "outputs": [
    {
     "data": {
      "text/plain": [
       "0     True\n",
       "1    False\n",
       "2     True\n",
       "Name: a, dtype: bool"
      ]
     },
     "execution_count": 6,
     "metadata": {},
     "output_type": "execute_result"
    }
   ],
   "source": [
    "import pandas as pd\n",
    "df=pd.DataFrame({'a':[1,2,1],'b':[1,1,1]})\n",
    "df['a']==1"
   ]
  },
  {
   "cell_type": "code",
   "execution_count": 11,
   "metadata": {},
   "outputs": [
    {
     "ename": "ValueError",
     "evalue": "shapes (4,2) and (3,3) not aligned: 2 (dim 1) != 3 (dim 0)",
     "output_type": "error",
     "traceback": [
      "\u001b[1;31m---------------------------------------------------------------------------\u001b[0m",
      "\u001b[1;31mValueError\u001b[0m                                Traceback (most recent call last)",
      "\u001b[1;32m<ipython-input-11-32a235caa246>\u001b[0m in \u001b[0;36m<module>\u001b[1;34m\u001b[0m\n\u001b[0;32m      7\u001b[0m \u001b[0mB\u001b[0m\u001b[1;33m=\u001b[0m\u001b[0mnp\u001b[0m\u001b[1;33m.\u001b[0m\u001b[0marray\u001b[0m\u001b[1;33m(\u001b[0m\u001b[1;33m[\u001b[0m\u001b[1;33m[\u001b[0m\u001b[1;36m1\u001b[0m\u001b[1;33m,\u001b[0m\u001b[1;36m2\u001b[0m\u001b[1;33m,\u001b[0m\u001b[1;36m3\u001b[0m\u001b[1;33m]\u001b[0m\u001b[1;33m,\u001b[0m\u001b[1;33m[\u001b[0m\u001b[1;36m4\u001b[0m\u001b[1;33m,\u001b[0m\u001b[1;36m5\u001b[0m\u001b[1;33m,\u001b[0m\u001b[1;36m6\u001b[0m\u001b[1;33m]\u001b[0m\u001b[1;33m,\u001b[0m\u001b[1;33m[\u001b[0m\u001b[1;36m7\u001b[0m\u001b[1;33m,\u001b[0m\u001b[1;36m8\u001b[0m\u001b[1;33m,\u001b[0m\u001b[1;36m9\u001b[0m\u001b[1;33m]\u001b[0m\u001b[1;33m]\u001b[0m\u001b[1;33m)\u001b[0m\u001b[1;33m\u001b[0m\u001b[1;33m\u001b[0m\u001b[0m\n\u001b[0;32m      8\u001b[0m \u001b[1;33m\u001b[0m\u001b[0m\n\u001b[1;32m----> 9\u001b[1;33m \u001b[0mnp\u001b[0m\u001b[1;33m.\u001b[0m\u001b[0mdot\u001b[0m\u001b[1;33m(\u001b[0m\u001b[0mA\u001b[0m\u001b[1;33m,\u001b[0m\u001b[0mB\u001b[0m\u001b[1;33m)\u001b[0m\u001b[1;33m\u001b[0m\u001b[1;33m\u001b[0m\u001b[0m\n\u001b[0m\u001b[0;32m     10\u001b[0m \u001b[1;33m\u001b[0m\u001b[0m\n\u001b[0;32m     11\u001b[0m \u001b[1;33m\u001b[0m\u001b[0m\n",
      "\u001b[1;32m<__array_function__ internals>\u001b[0m in \u001b[0;36mdot\u001b[1;34m(*args, **kwargs)\u001b[0m\n",
      "\u001b[1;31mValueError\u001b[0m: shapes (4,2) and (3,3) not aligned: 2 (dim 1) != 3 (dim 0)"
     ]
    }
   ],
   "source": [
    "import numpy as np\n",
    "# np.array([1,-1])*np.array([1,1])\n",
    "# np.dot(np.array([1,-1]),np.array([1,1]))\n",
    "# A=np.array([[1,2],[3,4],[5,6],[7,8]])\n",
    "A=np.array([[1,2],[3,4],[5,6],[7,8]])\n",
    "\n",
    "B=np.array([[1,2,3],[4,5,6],[7,8,9]])\n",
    "\n",
    "np.dot(A,B)\n",
    "\n",
    "\n"
   ]
  },
  {
   "cell_type": "code",
   "execution_count": 14,
   "metadata": {},
   "outputs": [
    {
     "data": {
      "text/plain": [
       "array([11, 11, 11, 11, 11])"
      ]
     },
     "execution_count": 14,
     "metadata": {},
     "output_type": "execute_result"
    }
   ],
   "source": [
    "import numpy as np\n",
    "a=np.array([1,1,1,1,1])\n",
    "\n",
    "a+10"
   ]
  },
  {
   "cell_type": "code",
   "execution_count": 15,
   "metadata": {},
   "outputs": [
    {
     "data": {
      "text/plain": [
       "'246'"
      ]
     },
     "execution_count": 15,
     "metadata": {},
     "output_type": "execute_result"
    }
   ],
   "source": [
    "A='1234567'\n",
    "A[1::2]"
   ]
  },
  {
   "cell_type": "code",
   "execution_count": 16,
   "metadata": {},
   "outputs": [
    {
     "data": {
      "text/plain": [
       "5"
      ]
     },
     "execution_count": 16,
     "metadata": {},
     "output_type": "execute_result"
    }
   ],
   "source": [
    "Name=\"Michael Jackson\"\n",
    "Name.find('el')"
   ]
  },
  {
   "cell_type": "code",
   "execution_count": 17,
   "metadata": {},
   "outputs": [
    {
     "data": {
      "text/plain": [
       "'C'"
      ]
     },
     "execution_count": 17,
     "metadata": {},
     "output_type": "execute_result"
    }
   ],
   "source": [
    "tuple1=(\"A\",\"B\",\"C\" )\n",
    "tuple1[-1]"
   ]
  },
  {
   "cell_type": "code",
   "execution_count": 18,
   "metadata": {},
   "outputs": [
    {
     "data": {
      "text/plain": [
       "12"
      ]
     },
     "execution_count": 18,
     "metadata": {},
     "output_type": "execute_result"
    }
   ],
   "source": [
    "A=((11,12),[21,22])\n",
    "A[0][1]"
   ]
  },
  {
   "cell_type": "code",
   "execution_count": 19,
   "metadata": {},
   "outputs": [
    {
     "data": {
      "text/plain": [
       "['1', '2', '3', '4']"
      ]
     },
     "execution_count": 19,
     "metadata": {},
     "output_type": "execute_result"
    }
   ],
   "source": [
    "'1,2,3,4'.split(',')"
   ]
  },
  {
   "cell_type": "code",
   "execution_count": 21,
   "metadata": {},
   "outputs": [
    {
     "data": {
      "text/plain": [
       "{'A', 'B', 'C'}"
      ]
     },
     "execution_count": 21,
     "metadata": {},
     "output_type": "execute_result"
    }
   ],
   "source": [
    "V={'A','B'}\n",
    "V.add('C')\n",
    "V"
   ]
  },
  {
   "cell_type": "code",
   "execution_count": 22,
   "metadata": {},
   "outputs": [
    {
     "data": {
      "text/plain": [
       "{'A', 'B', 'C'}"
      ]
     },
     "execution_count": 22,
     "metadata": {},
     "output_type": "execute_result"
    }
   ],
   "source": [
    "V.add('C')\n",
    "V"
   ]
  },
  {
   "cell_type": "code",
   "execution_count": 23,
   "metadata": {},
   "outputs": [
    {
     "name": "stdout",
     "output_type": "stream",
     "text": [
      "Go \n",
      "Mike\n"
     ]
    }
   ],
   "source": [
    "x=\"Go\"\n",
    "\n",
    "if(x!=\"Go\"):\n",
    "\n",
    "    print('Stop')\n",
    "\n",
    "else:\n",
    "\n",
    "    print('Go ')\n",
    "\n",
    "print('Mike')"
   ]
  },
  {
   "cell_type": "code",
   "execution_count": 25,
   "metadata": {},
   "outputs": [
    {
     "name": "stdout",
     "output_type": "stream",
     "text": [
      "11\n",
      "22\n",
      "33\n"
     ]
    }
   ],
   "source": [
    "A=['1','2','3']\n",
    "\n",
    "for a in A:\n",
    "\n",
    "    print(2*a)"
   ]
  },
  {
   "cell_type": "code",
   "execution_count": 27,
   "metadata": {},
   "outputs": [
    {
     "data": {
      "text/plain": [
       "'1'"
      ]
     },
     "execution_count": 27,
     "metadata": {},
     "output_type": "execute_result"
    }
   ],
   "source": [
    "def Add(x,y):\n",
    "\n",
    "    z=y+x\n",
    "\n",
    "    return(y)\n",
    "Add('1','1')"
   ]
  },
  {
   "cell_type": "code",
   "execution_count": 30,
   "metadata": {},
   "outputs": [
    {
     "name": "stdout",
     "output_type": "stream",
     "text": [
      "x= 2  y= 2\n"
     ]
    }
   ],
   "source": [
    "class Points(object):\n",
    "\n",
    "    def __init__(self,x,y):\n",
    "\n",
    "        self.x=x\n",
    "\n",
    "        self.y=y\n",
    "\n",
    "    def print_point(self):\n",
    "\n",
    "        print('x=',self.x,' y=',self.y)\n",
    "\n",
    "p2=Points(1,2)\n",
    "\n",
    "# p1.print_point()\n",
    "p2.x=2\n",
    "\n",
    "p2.print_point()"
   ]
  },
  {
   "cell_type": "code",
   "execution_count": 2,
   "metadata": {},
   "outputs": [
    {
     "name": "stdout",
     "output_type": "stream",
     "text": [
      "Enter the text: \n",
      "AjayShakya AjAy Shakya Ajay Kumar Anshu Ajay Shikhashakya Shikha Shakya\n",
      "words:  ['AjayShakya', 'AjAy', 'Shakya', 'Ajay', 'Kumar', 'Anshu', 'Ajay', 'Shikhashakya', 'Shikha', 'Shakya']\n",
      "Counts: {'AjayShakya': 1, 'AjAy': 1, 'Shakya': 2, 'Ajay': 2, 'Kumar': 1, 'Anshu': 1, 'Shikhashakya': 1, 'Shikha': 1}\n"
     ]
    }
   ],
   "source": [
    "counts= dict()\n",
    "print(\"Enter the text: \")\n",
    "line = input()\n",
    "words = line.split()\n",
    "\n",
    "print(\"words: \",words)\n",
    "\n",
    "for word in words:\n",
    "    counts[word]=counts.get(word,0)+1\n",
    "print(\"Counts:\",counts)\n",
    "\n"
   ]
  },
  {
   "cell_type": "code",
   "execution_count": 3,
   "metadata": {},
   "outputs": [
    {
     "name": "stdout",
     "output_type": "stream",
     "text": [
      "['AjayShakya', 'AjAy', 'Shakya', 'Ajay', 'Kumar', 'Anshu', 'Shikhashakya', 'Shikha']\n"
     ]
    }
   ],
   "source": [
    "print(list(counts))"
   ]
  },
  {
   "cell_type": "code",
   "execution_count": 4,
   "metadata": {},
   "outputs": [
    {
     "name": "stdout",
     "output_type": "stream",
     "text": [
      "dict_keys(['AjayShakya', 'AjAy', 'Shakya', 'Ajay', 'Kumar', 'Anshu', 'Shikhashakya', 'Shikha'])\n"
     ]
    }
   ],
   "source": [
    "print(counts.keys())   # returns list "
   ]
  },
  {
   "cell_type": "code",
   "execution_count": 5,
   "metadata": {},
   "outputs": [
    {
     "name": "stdout",
     "output_type": "stream",
     "text": [
      "dict_values([1, 1, 2, 2, 1, 1, 1, 1])\n"
     ]
    }
   ],
   "source": [
    "print(counts.values())  # returns list "
   ]
  },
  {
   "cell_type": "code",
   "execution_count": 6,
   "metadata": {},
   "outputs": [
    {
     "name": "stdout",
     "output_type": "stream",
     "text": [
      "dict_items([('AjayShakya', 1), ('AjAy', 1), ('Shakya', 2), ('Ajay', 2), ('Kumar', 1), ('Anshu', 1), ('Shikhashakya', 1), ('Shikha', 1)])\n"
     ]
    }
   ],
   "source": [
    "print(counts.items())     #returns tuple"
   ]
  },
  {
   "cell_type": "code",
   "execution_count": 7,
   "metadata": {},
   "outputs": [
    {
     "name": "stdout",
     "output_type": "stream",
     "text": [
      "AjayShakya 1\n",
      "AjAy 1\n",
      "Shakya 2\n",
      "Ajay 2\n",
      "Kumar 1\n",
      "Anshu 1\n",
      "Shikhashakya 1\n",
      "Shikha 1\n"
     ]
    }
   ],
   "source": [
    "for aaa, bbb in counts.items():\n",
    "    print(aaa,bbb)"
   ]
  },
  {
   "cell_type": "code",
   "execution_count": 8,
   "metadata": {},
   "outputs": [
    {
     "name": "stdout",
     "output_type": "stream",
     "text": [
      "-1\n"
     ]
    }
   ],
   "source": [
    "stuff = dict()\n",
    "print(stuff.get('candy',-1))"
   ]
  },
  {
   "cell_type": "code",
   "execution_count": 24,
   "metadata": {},
   "outputs": [
    {
     "name": "stdout",
     "output_type": "stream",
     "text": [
      "Enter file:mbox-short.txt\n",
      "counts {'stephen.marquard@uct.ac.za': 2, 'louis@media.berkeley.edu': 3, 'zqian@umich.edu': 4, 'rjlowe@iupui.edu': 2, 'cwen@iupui.edu': 5, 'gsilver@umich.edu': 3, 'wagnermr@iupui.edu': 1, 'antranig@caret.cam.ac.uk': 1, 'gopal.ramasammycook@gmail.com': 1, 'david.horwitz@uct.ac.za': 4, 'ray@media.berkeley.edu': 1}\n",
      "cwen@iupui.edu 5\n"
     ]
    }
   ],
   "source": [
    "# mbox-short.txt\n",
    "\n",
    "name = input(\"Enter file:\")\n",
    "if len(name) < 1 : name = \"mbox-short.txt\"\n",
    "handle = open(name)\n",
    "counts=dict()\n",
    "\n",
    "for line in handle:\n",
    "    if not line.startswith(\"From:\") : continue\n",
    "    line=line.split()\n",
    "    counts[line[1]]=counts.get(line[1],0)+1\n",
    "    \n",
    "print(\"counts\",counts)\n",
    "leave = counts.values()\n",
    "\n",
    "MaxDictVal = max(counts, key=counts.get)\n",
    "print(MaxDictVal,max(leave))"
   ]
  },
  {
   "cell_type": "code",
   "execution_count": 31,
   "metadata": {},
   "outputs": [
    {
     "name": "stdout",
     "output_type": "stream",
     "text": [
      "Enter file:mbox-short.txt\n",
      "cwen@iupui.edu\n",
      "cwen@iupui.edu 5\n"
     ]
    }
   ],
   "source": [
    "name = input(\"Enter file:\")\n",
    "if len(name) < 1 : name = \"mbox-short.txt\"\n",
    "handle = open(name)\n",
    "counts=dict()\n",
    "\n",
    "for line in handle:\n",
    "    if not line.startswith(\"From:\") : continue\n",
    "    line=line.split()\n",
    "    counts[line[1]]=counts.get(line[1],0)+1\n",
    "    \n",
    "leave = list(counts.values())\n",
    "k = list(counts.keys()) \n",
    "print(k[leave.index(max(leave))]) \n",
    "\n",
    "MaxDictVal = max(counts, key=counts.get)\n",
    "print(MaxDictVal,max(leave))"
   ]
  },
  {
   "cell_type": "code",
   "execution_count": 32,
   "metadata": {},
   "outputs": [
    {
     "name": "stdout",
     "output_type": "stream",
     "text": [
      "Enter file:mbox-short.txt\n",
      "cwen@iupui.edu 5\n"
     ]
    }
   ],
   "source": [
    "name = input(\"Enter file:\")\n",
    "if len(name) < 1 : name = \"mbox-short.txt\"\n",
    "handle = open(name)\n",
    "counts=dict()\n",
    "\n",
    "for line in handle:\n",
    "    if not line.startswith(\"From:\") : continue\n",
    "    line=line.split()\n",
    "    counts[line[1]]=counts.get(line[1],0)+1\n",
    "    \n",
    "leave = list(counts.values())\n",
    "k = list(counts.keys()) \n",
    "print(k[leave.index(max(leave))],max(leave)) "
   ]
  },
  {
   "cell_type": "raw",
   "metadata": {},
   "source": [
    "Write a program to read through the mbox-short.txt and figure out the distribution by hour of the day for each of the messages. You can pull the hour out from the 'From ' line by finding the time and then splitting the string a second time using a colon.\n",
    "From stephen.marquard@uct.ac.za Sat Jan  5 09:14:16 2008\n",
    "Once you have accumulated the counts for each hour, print out the counts, sorted by hour as shown below."
   ]
  },
  {
   "cell_type": "code",
   "execution_count": 4,
   "metadata": {},
   "outputs": [
    {
     "name": "stdout",
     "output_type": "stream",
     "text": [
      "Enter file:mbox-short.txt\n",
      "From stephen.marquard@uct.ac.za Sat Jan  5 09:14:16 2008\n",
      "\n",
      "From louis@media.berkeley.edu Fri Jan  4 18:10:48 2008\n",
      "\n",
      "From zqian@umich.edu Fri Jan  4 16:10:39 2008\n",
      "\n",
      "From rjlowe@iupui.edu Fri Jan  4 15:46:24 2008\n",
      "\n",
      "From zqian@umich.edu Fri Jan  4 15:03:18 2008\n",
      "\n",
      "From rjlowe@iupui.edu Fri Jan  4 14:50:18 2008\n",
      "\n",
      "From cwen@iupui.edu Fri Jan  4 11:37:30 2008\n",
      "\n",
      "From cwen@iupui.edu Fri Jan  4 11:35:08 2008\n",
      "\n",
      "From gsilver@umich.edu Fri Jan  4 11:12:37 2008\n",
      "\n",
      "From gsilver@umich.edu Fri Jan  4 11:11:52 2008\n",
      "\n",
      "From zqian@umich.edu Fri Jan  4 11:11:03 2008\n",
      "\n",
      "From gsilver@umich.edu Fri Jan  4 11:10:22 2008\n",
      "\n",
      "From wagnermr@iupui.edu Fri Jan  4 10:38:42 2008\n",
      "\n",
      "From zqian@umich.edu Fri Jan  4 10:17:43 2008\n",
      "\n",
      "From antranig@caret.cam.ac.uk Fri Jan  4 10:04:14 2008\n",
      "\n",
      "From gopal.ramasammycook@gmail.com Fri Jan  4 09:05:31 2008\n",
      "\n",
      "From david.horwitz@uct.ac.za Fri Jan  4 07:02:32 2008\n",
      "\n",
      "From david.horwitz@uct.ac.za Fri Jan  4 06:08:27 2008\n",
      "\n",
      "From david.horwitz@uct.ac.za Fri Jan  4 04:49:08 2008\n",
      "\n",
      "From david.horwitz@uct.ac.za Fri Jan  4 04:33:44 2008\n",
      "\n",
      "From stephen.marquard@uct.ac.za Fri Jan  4 04:07:34 2008\n",
      "\n",
      "From louis@media.berkeley.edu Thu Jan  3 19:51:21 2008\n",
      "\n",
      "From louis@media.berkeley.edu Thu Jan  3 17:18:23 2008\n",
      "\n",
      "From ray@media.berkeley.edu Thu Jan  3 17:07:00 2008\n",
      "\n",
      "From cwen@iupui.edu Thu Jan  3 16:34:40 2008\n",
      "\n",
      "From cwen@iupui.edu Thu Jan  3 16:29:07 2008\n",
      "\n",
      "From cwen@iupui.edu Thu Jan  3 16:23:48 2008\n",
      "\n",
      "04 3\n",
      "06 1\n",
      "07 1\n",
      "09 2\n",
      "10 3\n",
      "11 6\n",
      "14 1\n",
      "15 2\n",
      "16 4\n",
      "17 2\n",
      "18 1\n",
      "19 1\n"
     ]
    }
   ],
   "source": [
    "name = input(\"Enter file:\")\n",
    "if len(name) < 1 : name = \"mbox-short.txt\"\n",
    "handle = open(name)\n",
    "counts=dict()\n",
    "for line in handle:\n",
    "    if not line.startswith('From '): continue\n",
    "#     print(line)\n",
    "    lin = line.rstrip().split()\n",
    "    time = lin[5]\n",
    "    tmesp = time.split(':')\n",
    "    hour= tmesp[0]\n",
    "    #print(hour)\n",
    "    counts[hour]=counts.get(hour,0)+1\n",
    "x = sorted(counts.items())  \n",
    "for k,v in x:\n",
    "    print(k,v)"
   ]
  },
  {
   "cell_type": "code",
   "execution_count": null,
   "metadata": {},
   "outputs": [
    {
     "name": "stdout",
     "output_type": "stream",
     "text": [
      "Enter location: http://py4e-data.dr-chuck.net/comments_622165.xml\n",
      "Retrieving http://py4e-data.dr-chuck.net/comments_622165.xml\n",
      "Retrieved 4217 characters\n",
      "Count:  50\n",
      "Sum:  2699\n"
     ]
    }
   ],
   "source": [
    "from urllib.request import urlopen\n",
    "import xml.etree.ElementTree as ET\n",
    "while True:\n",
    "    address = input('Enter location: ')\n",
    "    if len(address) < 1 : break\n",
    "    print('Retrieving', address)\n",
    "    uh = urlopen(address)\n",
    "    data = uh.read()\n",
    "    print('Retrieved',len(data),'characters')\n",
    "    tree = ET.fromstring(data)\n",
    "    lst = tree.findall('comments/comment')\n",
    "    #lst = tree.findall('.//count')\n",
    "    print('Count: ', len(lst))\n",
    "    num = 0\n",
    "    for item in lst:\n",
    "        x = item.find('count').text\n",
    "        num = num + int(x)\n",
    "    print('Sum: ', num)"
   ]
  },
  {
   "cell_type": "markdown",
   "metadata": {},
   "source": [
    "# Week 6 Assignment"
   ]
  },
  {
   "cell_type": "raw",
   "metadata": {},
   "source": [
    "\"\"\" EXTRACTING DATA FROM JSON\n",
    "In this assignment you will write a Python program somewhat similar to \n",
    "http://www.pythonlearn.com/code/json2.py. The program will prompt for a URL, read\n",
    "the JSON data from that URL using urllib and then parse and extract the comment \n",
    "counts from the JSON data, compute the sum of the numbers in the file and enter \n",
    "the sum below:\n",
    "We provide two files for this assignment. One is a sample file where we give you\n",
    "the sum for your testing and the other is the actual data you need to process for\n",
    "the assignment.\n",
    "    \n",
    "- Sample data: http://python-data.dr-chuck.net/comments_42.json (Sum=2553)\n",
    "- Actual data: http://python-data.dr-chuck.net/comments_277465.json\n",
    "You do not need to save these files to your folder since your program will read\n",
    "the data directly from the URL. Note: Each student will have a distinct data url\n",
    "for the assignment - so only use your own data url for analysis.\n",
    "DATA FORMAT\n",
    "The data consists of a number of names and comment counts in JSON as follows:\n",
    "{\n",
    "  comments: [\n",
    "    {\n",
    "      name: \"Matthias\"\n",
    "      count: 97\n",
    "    },\n",
    "    {\n",
    "      name: \"Geomer\"\n",
    "      count: 97\n",
    "    }\n",
    "    ...\n",
    "  ]\n",
    "}\n",
    "The closest sample code that shows how to parse JSON and extract a list is \n",
    "json2.py. You might also want to look at geoxml.py to see how to prompt for a URL\n",
    "and retrieve data from a URL. \n",
    "\"\"\""
   ]
  },
  {
   "cell_type": "code",
   "execution_count": 5,
   "metadata": {},
   "outputs": [
    {
     "name": "stdout",
     "output_type": "stream",
     "text": [
      "TOTAL SUM:  2599\n"
     ]
    }
   ],
   "source": [
    "from urllib.request import urlopen\n",
    "import json\n",
    "\n",
    "sample_url = \"http://python-data.dr-chuck.net/comments_42.json\"\n",
    "data_url = \"http://py4e-data.dr-chuck.net/comments_622166.json\"\n",
    "\n",
    "#Reading the URL and parsing its data\n",
    "urldata = urlopen(data_url).read()\n",
    "data = json.loads(urldata)\n",
    "\n",
    "#Finding each \"count\" field and adding its value to the total sum.\n",
    "total = 0\n",
    "for comment in data[\"comments\"]:\n",
    "    total += comment[\"count\"]\n",
    "\n",
    "print(\"TOTAL SUM: \", total)"
   ]
  },
  {
   "cell_type": "raw",
   "metadata": {},
   "source": [
    "Calling a JSON API\n",
    "\n",
    "In this assignment you will write a Python program somewhat similar to http://www.py4e.com/code3/geojson.py. The program will prompt for a location, contact a web service and retrieve JSON for the web service and parse that data, and retrieve the first place_id from the JSON. A place ID is a textual identifier that uniquely identifies a place as within Google Maps.\n",
    "API End Points\n",
    "\n",
    "To complete this assignment, you should use this API endpoint that has a static subset of the Google Data:\n",
    "\n",
    "http://py4e-data.dr-chuck.net/json?\n",
    "This API uses the same parameter (address) as the Google API. This API also has no rate limit so you can test as often as you like. If you visit the URL with no parameters, you get \"No address...\" response.\n",
    "To call the API, you need to include a key= parameter and provide the address that you are requesting as the address= parameter that is properly URL encoded using the urllib.parse.urlencode() function as shown in http://www.py4e.com/code3/geojson.py\n",
    "\n",
    "Make sure to check that your code is using the API endpoint is as shown above. You will get different results from the geojson and json endpoints so make sure you are using the same end point as this autograder is using.\n",
    "\n",
    "Test Data / Sample Execution\n",
    "\n",
    "You can test to see if your program is working with a location of \"South Federal University\" which will have a place_id of \"ChIJy0Uc1Zmym4gR3fmAYmWNuac\".\n",
    "\n",
    "$ python3 solution.py\n",
    "Enter location: South Federal University\n",
    "Retrieving http://...\n",
    "Retrieved 2433 characters\n",
    "Place id ChIJy0Uc1Zmym4gR3fmAYmWNuac\n",
    "Turn In\n",
    "\n",
    "Please run your program to find the place_id for this location:\n",
    "\n",
    "University of Athens\n",
    "Make sure to enter the name and case exactly as above and enter the place_id and your Python code below. Hint: The first seven characters of the place_id are \"ChIJxRq ...\"\n",
    "Make sure to retreive the data from the URL specified above and not the normal Google API. Your program should work with the Google API - but the place_id may not match for this assignment."
   ]
  },
  {
   "cell_type": "code",
   "execution_count": 12,
   "metadata": {},
   "outputs": [
    {
     "name": "stdout",
     "output_type": "stream",
     "text": [
      "DATA URL:  http://py4e-data.dr-chuck.net/json?key=42&sensor=false&address=University+of+Athens\n",
      "PLACE ID:  ChIJxRq_LTq9oRQRTdqU4sLcN5Q\n"
     ]
    }
   ],
   "source": [
    "import json\n",
    "from urllib.request import urlopen\n",
    "from urllib.parse import urlencode\n",
    "#Stroring the given parameters\n",
    "serviceurl = \"http://py4e-data.dr-chuck.net/json?key=42&\"\n",
    "\n",
    "data_address = \"University of Athens\"\n",
    "\n",
    "\n",
    "#Setting the GET parameters on the URL\n",
    "parameters = {\"sensor\": \"false\", \"address\": data_address}\n",
    "paramsurl = urlencode(parameters)\n",
    "\n",
    "#Generating the complete URL. Printing it in order to check if it's correct.\n",
    "queryurl = serviceurl + paramsurl\n",
    "print(\"DATA URL: \", queryurl)\n",
    "\n",
    "#Obtaining and reading the data\n",
    "data = urlopen(queryurl).read().decode('utf-8')\n",
    "\n",
    "#Parsing the data and looking for the field we want.\n",
    "#That field is inside the \"Results\" array, in its first item (if our address is \n",
    "#correct we can assume that the result would be the correct one) and on its \n",
    "#\"place_id\" field\n",
    "jsondata = json.loads(str(data))\n",
    "place_id = jsondata[\"results\"][0][\"place_id\"]\n",
    "print(\"PLACE ID: \", place_id)"
   ]
  },
  {
   "cell_type": "code",
   "execution_count": 20,
   "metadata": {},
   "outputs": [
    {
     "name": "stdout",
     "output_type": "stream",
     "text": [
      "WelcOme Ajay Kumar Bro\n",
      "list ['W', 'l', 'c', 'm', ' ', 'j', 'y', ' ', 'K', 'm', 'r', ' ', 'B', 'r']\n",
      "Wlcm jy Kmr Br\n"
     ]
    }
   ],
   "source": [
    "msg=input()\n",
    "vowel=['a','e','i','o','u','A','E','I','O','U']\n",
    "str1=list()\n",
    "for r in msg:\n",
    "    str1.append(r)\n",
    "for i in str1:\n",
    "    if i in vowel:\n",
    "        str1.remove(i)\n",
    "print('list',str1)\n",
    "stt=\"\".join(str1)\n",
    "print(stt)\n",
    "\n",
    "        \n",
    "        "
   ]
  },
  {
   "cell_type": "code",
   "execution_count": 8,
   "metadata": {},
   "outputs": [
    {
     "name": "stdout",
     "output_type": "stream",
     "text": [
      "welcome hari\n",
      "e: 2\n",
      "wlcm hr\n"
     ]
    }
   ],
   "source": [
    "def vowel():\n",
    "    text = input()\n",
    "    vowels= \"aeiou\"\n",
    "    occurence = {}\n",
    "    output=''\n",
    "    if len(text) == 0:\n",
    "        print(\"INVALID INPUT\")\n",
    "        return\n",
    "    \n",
    "    for char in text:\n",
    "        if char in vowels:\n",
    "            if char in occurence:\n",
    "                occurence[char] +=1\n",
    "            elif char.isdigit():\n",
    "                print(0)\n",
    "                return\n",
    "            else:\n",
    "                occurence[char] =1\n",
    "        else:\n",
    "            output += char\n",
    "    if len(occurence)>0:\n",
    "        for keys, values in occurence.items():\n",
    "            print(f'{keys}: {values}')\n",
    "            print(output)\n",
    "            return\n",
    "    else:\n",
    "        print(0)\n",
    "        return\n",
    "vowel()"
   ]
  },
  {
   "cell_type": "code",
   "execution_count": 4,
   "metadata": {},
   "outputs": [
    {
     "name": "stdout",
     "output_type": "stream",
     "text": [
      "Ajay Kumar Shakya \n",
      "['Shakya', 'Kumar', 'Ajay']\n"
     ]
    }
   ],
   "source": [
    "mdf=input().split()\n",
    "print(mdf[::-1])"
   ]
  },
  {
   "cell_type": "code",
   "execution_count": 3,
   "metadata": {},
   "outputs": [
    {
     "name": "stdout",
     "output_type": "stream",
     "text": [
      "['Shakya', 'Kumar', 'Ajay']\n"
     ]
    }
   ],
   "source": [
    "print(mdf[::-1])"
   ]
  },
  {
   "cell_type": "code",
   "execution_count": 21,
   "metadata": {},
   "outputs": [
    {
     "name": "stdout",
     "output_type": "stream",
     "text": [
      "5\n",
      "* \n",
      "* * \n",
      "* * * \n",
      "* * * * \n",
      "* * * * * \n"
     ]
    }
   ],
   "source": [
    "n=int(input())\n",
    "for i in range(1,n+1):\n",
    "    for j in range(1,i+1):\n",
    "        print('*',end=\" \")\n",
    "    print()\n",
    "    "
   ]
  },
  {
   "cell_type": "code",
   "execution_count": 22,
   "metadata": {},
   "outputs": [
    {
     "name": "stdout",
     "output_type": "stream",
     "text": [
      "5\n",
      "10 \n",
      "9 8 \n",
      "7 6 5 \n",
      "4 3 2 1 \n",
      "0 -1 -2 -3 -4 \n"
     ]
    }
   ],
   "source": [
    "n=int(input())\n",
    "num=2*n\n",
    "for i in range(1,n+1):\n",
    "    for j in range(1,i+1):\n",
    "        print(num,end=\" \")\n",
    "        num=num-1\n",
    "    print()\n",
    "    "
   ]
  },
  {
   "cell_type": "code",
   "execution_count": null,
   "metadata": {},
   "outputs": [],
   "source": []
  }
 ],
 "metadata": {
  "kernelspec": {
   "display_name": "Python 3",
   "language": "python",
   "name": "python3"
  },
  "language_info": {
   "codemirror_mode": {
    "name": "ipython",
    "version": 3
   },
   "file_extension": ".py",
   "mimetype": "text/x-python",
   "name": "python",
   "nbconvert_exporter": "python",
   "pygments_lexer": "ipython3",
   "version": "3.7.6"
  }
 },
 "nbformat": 4,
 "nbformat_minor": 4
}
