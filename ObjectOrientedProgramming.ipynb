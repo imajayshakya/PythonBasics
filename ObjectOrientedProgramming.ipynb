{
 "cells": [
  {
   "cell_type": "markdown",
   "metadata": {},
   "source": [
    "# Object Oriented Programming : Class Objects and Inheritance"
   ]
  },
  {
   "cell_type": "code",
   "execution_count": 2,
   "metadata": {},
   "outputs": [],
   "source": [
    "# Defining Class\n",
    "# Class Class_Name:\n",
    "#     Initializer\n",
    "#     attributes\n",
    "#     methoods()\n",
    "#     Statement(s)"
   ]
  },
  {
   "cell_type": "code",
   "execution_count": 4,
   "metadata": {},
   "outputs": [
    {
     "name": "stdout",
     "output_type": "stream",
     "text": [
      "<__main__.Demo object at 0x00000220BD938388>\n"
     ]
    }
   ],
   "source": [
    "# Write a simple class program\n",
    "class Demo:\n",
    "    pass\n",
    "D1=Demo()\n",
    "print(D1)"
   ]
  },
  {
   "cell_type": "code",
   "execution_count": 5,
   "metadata": {},
   "outputs": [
    {
     "name": "stdout",
     "output_type": "stream",
     "text": [
      "Welcome to Object-oriented Programming\n",
      "<__main__.MyFirstProgram object at 0x00000220BD924388>\n"
     ]
    }
   ],
   "source": [
    "# write a program to create simple class and print message\n",
    "class MyFirstProgram:\n",
    "    print('Welcome to Object-oriented Programming')\n",
    "c=MyFirstProgram()\n",
    "print(c)"
   ]
  },
  {
   "cell_type": "markdown",
   "metadata": {},
   "source": [
    "\n",
    "# Adding Attributes to a class"
   ]
  },
  {
   "cell_type": "code",
   "execution_count": 7,
   "metadata": {},
   "outputs": [
    {
     "name": "stdout",
     "output_type": "stream",
     "text": [
      "Initial Values of Attributes\n",
      "length 0\n",
      "Breadth 0\n"
     ]
    }
   ],
   "source": [
    "# write a program to access the attributes of a class.\n",
    "class Rectangle:\n",
    "    length=0;\n",
    "    breadth=0;\n",
    "R1 = Rectangle()\n",
    "print('Initial Values of Attributes')\n",
    "print('length', R1.length)\n",
    "print('Breadth', R1.breadth)\n",
    "print('Are of Rectangle is = ',R1.length*R1.breadth)"
   ]
  },
  {
   "cell_type": "code",
   "execution_count": 9,
   "metadata": {},
   "outputs": [
    {
     "name": "stdout",
     "output_type": "stream",
     "text": [
      "Are of Rectangle is =  600\n",
      "After Reassigning the attributes values\n",
      "Length =  20\n",
      "Breadth =  30\n",
      "Area of Rectangle =  600\n"
     ]
    }
   ],
   "source": [
    "R1.length = 20\n",
    "R1.breadth = 30\n",
    "print('After Reassigning the attributes values')\n",
    "print('Length = ',R1.length)\n",
    "print('Breadth = ',R1.breadth)\n",
    "print('Area of Rectangle = ',R1.length*R1.breadth)"
   ]
  },
  {
   "cell_type": "markdown",
   "metadata": {},
   "source": [
    "# Python inheritance"
   ]
  },
  {
   "cell_type": "markdown",
   "metadata": {},
   "source": [
    "# What is Inheritance\n",
    "In inheritance an object is based on another object. When inheritance is implemented, the methods and attributes that were defined in the base class will also be present in the inherited class. This is generally done to abstract away similar code in multiple classes. The abstracted code will reside in the base class and the previous classes will now inherit from the base class."
   ]
  },
  {
   "cell_type": "code",
   "execution_count": 2,
   "metadata": {},
   "outputs": [
    {
     "name": "stdout",
     "output_type": "stream",
     "text": [
      "PSLV Rocket has reached till stratosphere\n",
      "mars_rover_MANGALYAN has reached till Mars\n",
      "mars_rover_MANGALYAN Launched by ISRO\n"
     ]
    }
   ],
   "source": [
    "class Rocket:\n",
    "    def __init__(self, name, distance):\n",
    "        self.name = name\n",
    "        self.distance = distance\n",
    "\n",
    "    def launch(self):\n",
    "        return \"%s has reached %s\" % (self.name, self.distance)\n",
    "\n",
    "\n",
    "class MarsRover(Rocket): # inheriting from the base class\n",
    "    def __init__(self, name, distance, maker):\n",
    "        Rocket.__init__(self, name, distance)\n",
    "        self.maker = maker\n",
    "\n",
    "    def get_maker(self):\n",
    "        return \"%s Launched by %s\" % (self.name, self.maker)\n",
    "\n",
    "\n",
    "if __name__ == \"__main__\":\n",
    "    x = Rocket(\"PSLV Rocket\", \"till stratosphere\")\n",
    "#     x = Rocket(input(\"name,distance\").split())\n",
    "    y = MarsRover(\"mars_rover_MANGALYAN\", \"till Mars\", \"ISRO\")\n",
    "    print(x.launch())\n",
    "    print(y.launch())\n",
    "    print(y.get_maker())"
   ]
  },
  {
   "cell_type": "code",
   "execution_count": 7,
   "metadata": {},
   "outputs": [
    {
     "name": "stdout",
     "output_type": "stream",
     "text": [
      "SpaceX has reached moon\n",
      "Farrari has reached Venus\n",
      "Grax has reached Pluto\n",
      "Lol has reached Mars\n"
     ]
    }
   ],
   "source": [
    "v=[\"SpaceX\",\"Farrari\",\"Grax\",\"Lol\"]\n",
    "c=[\"moon\",\"Venus\",\"Pluto\",\"Mars\"]\n",
    "for i in range(len(v)):\n",
    "    z=Rocket(v[i],c[i])\n",
    "    print(z.launch())"
   ]
  },
  {
   "cell_type": "markdown",
   "metadata": {},
   "source": [
    "# composition\n",
    "In composition, we do not inherit from the base class but establish relationships between classes through the use of instance variables that are references to other objects."
   ]
  },
  {
   "cell_type": "raw",
   "metadata": {},
   "source": [
    "class GenericClass:\n",
    "    define some attributes and methods\n",
    "\n",
    "class ASpecificClass:\n",
    "    Instance_variable_of_generic_class = GenericClass\n",
    "\n",
    "# use this instance somewhere in the class\n",
    "    some_method(Instance_variable_of_generic_class)"
   ]
  },
  {
   "cell_type": "code",
   "execution_count": 6,
   "metadata": {},
   "outputs": [
    {
     "name": "stdout",
     "output_type": "stream",
     "text": [
      "mars_rover2 has reached till Mars\n",
      "mars_rover2 Launched by ISRO\n"
     ]
    }
   ],
   "source": [
    "class MarsRoverComp():\n",
    "    def __init__(self, name, distance, maker):\n",
    "        self.rocket = Rocket(name, distance) # instantiating the base\n",
    "\n",
    "        self.maker = maker\n",
    "\n",
    "    def get_maker(self):\n",
    "        return \"%s Launched by %s\" % (self.rocket.name, self.maker)\n",
    "\n",
    "\n",
    "if __name__ == \"__main__\":\n",
    "    z = MarsRover(\"mars_rover2\", \"till Mars\", \"ISRO\")\n",
    "    print(z.launch())\n",
    "    print(z.get_maker())"
   ]
  },
  {
   "cell_type": "code",
   "execution_count": 7,
   "metadata": {},
   "outputs": [
    {
     "name": "stdout",
     "output_type": "stream",
     "text": [
      "ABCDCDC\n",
      "CDC\n",
      "2\n"
     ]
    }
   ],
   "source": [
    "def count_substring(string, sub_string):\n",
    "    return (sum([ 1 for i in range(len(string)-len(sub_string)+1) if string[i:i+len(sub_string)] == sub_string]))\n",
    "\n",
    "if __name__ == '__main__':\n",
    "    string = input().strip()\n",
    "    sub_string = input().strip()\n",
    "    \n",
    "    count = count_substring(string, sub_string)\n",
    "    print(count)"
   ]
  },
  {
   "cell_type": "code",
   "execution_count": 9,
   "metadata": {},
   "outputs": [
    {
     "name": "stdout",
     "output_type": "stream",
     "text": [
      "ABCDCDCDC\n",
      "CDC\n"
     ]
    },
    {
     "ename": "UnboundLocalError",
     "evalue": "local variable 'i' referenced before assignment",
     "output_type": "error",
     "traceback": [
      "\u001b[1;31m---------------------------------------------------------------------------\u001b[0m",
      "\u001b[1;31mUnboundLocalError\u001b[0m                         Traceback (most recent call last)",
      "\u001b[1;32m<ipython-input-9-bcbc9dbe8288>\u001b[0m in \u001b[0;36m<module>\u001b[1;34m\u001b[0m\n\u001b[0;32m     11\u001b[0m     \u001b[0msub_string\u001b[0m \u001b[1;33m=\u001b[0m \u001b[0minput\u001b[0m\u001b[1;33m(\u001b[0m\u001b[1;33m)\u001b[0m\u001b[1;33m.\u001b[0m\u001b[0mstrip\u001b[0m\u001b[1;33m(\u001b[0m\u001b[1;33m)\u001b[0m\u001b[1;33m\u001b[0m\u001b[1;33m\u001b[0m\u001b[0m\n\u001b[0;32m     12\u001b[0m \u001b[1;33m\u001b[0m\u001b[0m\n\u001b[1;32m---> 13\u001b[1;33m     \u001b[0mcount\u001b[0m \u001b[1;33m=\u001b[0m \u001b[0mcount_substring\u001b[0m\u001b[1;33m(\u001b[0m\u001b[0mstring\u001b[0m\u001b[1;33m,\u001b[0m \u001b[0msub_string\u001b[0m\u001b[1;33m)\u001b[0m\u001b[1;33m\u001b[0m\u001b[1;33m\u001b[0m\u001b[0m\n\u001b[0m\u001b[0;32m     14\u001b[0m     \u001b[0mprint\u001b[0m\u001b[1;33m(\u001b[0m\u001b[0mcount\u001b[0m\u001b[1;33m)\u001b[0m\u001b[1;33m\u001b[0m\u001b[1;33m\u001b[0m\u001b[0m\n",
      "\u001b[1;32m<ipython-input-9-bcbc9dbe8288>\u001b[0m in \u001b[0;36mcount_substring\u001b[1;34m(string, sub_string)\u001b[0m\n\u001b[0;32m      1\u001b[0m \u001b[1;32mdef\u001b[0m \u001b[0mcount_substring\u001b[0m\u001b[1;33m(\u001b[0m\u001b[0mstring\u001b[0m\u001b[1;33m,\u001b[0m \u001b[0msub_string\u001b[0m\u001b[1;33m)\u001b[0m\u001b[1;33m:\u001b[0m\u001b[1;33m\u001b[0m\u001b[1;33m\u001b[0m\u001b[0m\n\u001b[0;32m      2\u001b[0m     \u001b[0mL\u001b[0m\u001b[1;33m=\u001b[0m\u001b[1;33m[\u001b[0m\u001b[1;33m]\u001b[0m\u001b[1;33m\u001b[0m\u001b[1;33m\u001b[0m\u001b[0m\n\u001b[1;32m----> 3\u001b[1;33m     \u001b[1;32mif\u001b[0m \u001b[0mstring\u001b[0m\u001b[1;33m[\u001b[0m\u001b[0mi\u001b[0m\u001b[1;33m:\u001b[0m\u001b[0mi\u001b[0m\u001b[1;33m+\u001b[0m\u001b[0mlen\u001b[0m\u001b[1;33m(\u001b[0m\u001b[0msub_string\u001b[0m\u001b[1;33m)\u001b[0m\u001b[1;33m]\u001b[0m \u001b[1;33m==\u001b[0m \u001b[0msub_string\u001b[0m\u001b[1;33m:\u001b[0m\u001b[1;33m\u001b[0m\u001b[1;33m\u001b[0m\u001b[0m\n\u001b[0m\u001b[0;32m      4\u001b[0m         \u001b[1;32mfor\u001b[0m \u001b[0mi\u001b[0m \u001b[1;32min\u001b[0m \u001b[0mrange\u001b[0m\u001b[1;33m(\u001b[0m\u001b[0mlen\u001b[0m\u001b[1;33m(\u001b[0m\u001b[0mstring\u001b[0m\u001b[1;33m)\u001b[0m\u001b[1;33m-\u001b[0m\u001b[0mlen\u001b[0m\u001b[1;33m(\u001b[0m\u001b[0msub_string\u001b[0m\u001b[1;33m)\u001b[0m\u001b[1;33m+\u001b[0m\u001b[1;36m1\u001b[0m\u001b[1;33m)\u001b[0m\u001b[1;33m:\u001b[0m\u001b[1;33m\u001b[0m\u001b[1;33m\u001b[0m\u001b[0m\n\u001b[0;32m      5\u001b[0m             \u001b[0mL\u001b[0m\u001b[1;33m.\u001b[0m\u001b[0mappend\u001b[0m\u001b[1;33m(\u001b[0m\u001b[1;36m1\u001b[0m\u001b[1;33m)\u001b[0m\u001b[1;33m\u001b[0m\u001b[1;33m\u001b[0m\u001b[0m\n",
      "\u001b[1;31mUnboundLocalError\u001b[0m: local variable 'i' referenced before assignment"
     ]
    }
   ],
   "source": [
    "def count_substring(string, sub_string):\n",
    "    L=[]\n",
    "    \n",
    "        for i in range(len(string)-len(sub_string)+1):\n",
    "        if string[i:i+len(sub_string)] == sub_string:\n",
    "            L.append(1)\n",
    "            \n",
    "    return  sum(L)\n",
    "\n",
    "if __name__ == '__main__':\n",
    "    string = input().strip()\n",
    "    sub_string = input().strip()\n",
    "    \n",
    "    count = count_substring(string, sub_string)\n",
    "    print(count)"
   ]
  },
  {
   "cell_type": "markdown",
   "metadata": {},
   "source": [
    "# Coursera"
   ]
  },
  {
   "cell_type": "code",
   "execution_count": 4,
   "metadata": {},
   "outputs": [
    {
     "name": "stdout",
     "output_type": "stream",
     "text": [
      "I am constructed\n",
      "I am destructed 3\n",
      "So far 1\n",
      "So far 2\n",
      "I am destructed 2\n",
      "an = :  42\n"
     ]
    }
   ],
   "source": [
    "class partyAnimal:\n",
    "    x=0\n",
    "    def __init__(self):\n",
    "        print(\"I am constructed\")\n",
    "    def party(self):\n",
    "        self.x=self.x + 1\n",
    "        print(\"So far\",self.x)\n",
    "        \n",
    "    def __del__(self):\n",
    "        print(\"I am destructed\",self.x)\n",
    "        \n",
    "an = partyAnimal()\n",
    "\n",
    "an.party()\n",
    "an.party()\n",
    "an=42\n",
    "print(\"an = : \",an)"
   ]
  },
  {
   "cell_type": "code",
   "execution_count": 2,
   "metadata": {},
   "outputs": [
    {
     "name": "stdout",
     "output_type": "stream",
     "text": [
      "type <class '__main__.partyAnimal'>\n",
      "dir ['__class__', '__delattr__', '__dict__', '__dir__', '__doc__', '__eq__', '__format__', '__ge__', '__getattribute__', '__gt__', '__hash__', '__init__', '__init_subclass__', '__le__', '__lt__', '__module__', '__ne__', '__new__', '__reduce__', '__reduce_ex__', '__repr__', '__setattr__', '__sizeof__', '__str__', '__subclasshook__', '__weakref__', 'party', 'x']\n"
     ]
    }
   ],
   "source": [
    "print(\"type\",type(an))\n",
    "print(\"dir\",dir(an))"
   ]
  },
  {
   "cell_type": "code",
   "execution_count": 7,
   "metadata": {},
   "outputs": [
    {
     "name": "stdout",
     "output_type": "stream",
     "text": [
      "Ajay I am constructed\n",
      "I am destructed 2\n",
      "Ajay party count 1\n",
      "Shakya I am constructed\n",
      "Shakya party count 1\n",
      "Ajay party count 2\n",
      "Shakya party count 2\n",
      "Shakya points 7\n"
     ]
    }
   ],
   "source": [
    "class partyAnimal:\n",
    "    x=0\n",
    "    name=\"\"\n",
    "    def __init__(self,z):\n",
    "        self.name=z\n",
    "        print(self.name,\"I am constructed\")\n",
    "    def party(self):\n",
    "        self.x=self.x + 1\n",
    "        print(self.name,\"party count\",self.x)\n",
    "        \n",
    "    def __del__(self):\n",
    "        print(\"I am destructed\",self.x)\n",
    "        \n",
    "        \n",
    "class FootballFan(partyAnimal):\n",
    "    points=0\n",
    "    \n",
    "    def touchdown(self):\n",
    "        self.points = self.points + 7\n",
    "        self.party()\n",
    "        print(self.name,\"points\",self.points)\n",
    "        \n",
    "s = partyAnimal(\"Ajay\")\n",
    "s.party()\n",
    "\n",
    "j = FootballFan(\"Shakya\")\n",
    "j.party()\n",
    "s.party()\n",
    "j.touchdown()\n"
   ]
  },
  {
   "cell_type": "code",
   "execution_count": null,
   "metadata": {},
   "outputs": [],
   "source": [
    "import sqlite3\n",
    "com = sqlite3.coonect(\"emaildb.sqlite\")\n",
    "cur = conn.cursor()\n",
    "\n",
    "cur.execute('''\n",
    "DROP TABLE IF EXITS Counts''')\n",
    "cur.execute('''\n",
    "CREATE TABLE Counts (email TEXT , count INTEGER)''')\n",
    "\n",
    "fname = input(\"file name : \")\n",
    "if len(fname)<1: fname = 'mbox-short.txt'\n",
    "\n",
    "fh=open(fname)\n",
    "for line in fh:\n",
    "    if not line.startswith('From: '): continue\n",
    "    piece=line.split()\n",
    "    email=piece[1]\n",
    "    cur.execute('SELECT count From Counts WHERE email= ?',(email,))\n",
    "    row = cur.fetchone()\n",
    "    if row is None:\n",
    "        cur.execute('''INSERT INTO Counts(email,count)\n",
    "        VALUES(?,1)''',(email,))\n",
    "    else:\n",
    "        cur.execute('UPDATE Counts SET count = count+1 WHERE email=?',(email,))\n",
    "    conn.commit()"
   ]
  }
 ],
 "metadata": {
  "kernelspec": {
   "display_name": "Python 3",
   "language": "python",
   "name": "python3"
  },
  "language_info": {
   "codemirror_mode": {
    "name": "ipython",
    "version": 3
   },
   "file_extension": ".py",
   "mimetype": "text/x-python",
   "name": "python",
   "nbconvert_exporter": "python",
   "pygments_lexer": "ipython3",
   "version": "3.7.6"
  }
 },
 "nbformat": 4,
 "nbformat_minor": 2
}
