{
 "cells": [
  {
   "cell_type": "raw",
   "metadata": {},
   "source": [
    "There are 360 Longitudes on the Earth, which are equidistant vertical imaginary lines drawn on the Earth, separated by 1 degree each from center of the Earth. Period of the rotation of the Earth on its axis is 24 hours. All countries have their own official times and hence time zones.\n",
    "UTC is universal time coordinate which passes through 0 (Zero degree) longitude.\n",
    "Time at a particular location on Earth can be calculated using period of the rotation of Earth and longitude of that particular location. For example, Indian time zone IST (Indian standard Time) is located at 82.5° E longitude. Hence, Indian time can be calculated as below:-\n",
    "IST = UTC + (24/360)*82.5 = UTC + 5:30Hrs\n",
    "Now suppose we changed period of rotation of the earth using some imaginary power, this will change the time at every longitude on the earth.\n",
    "Calculate the smallest angle between hour and minute hand of the clock , which shows the difference of time at a particular longitude and the time at UTC  i.e. we have to take smaller of the two angle formed between hour and minute hand. "
   ]
  },
  {
   "cell_type": "code",
   "execution_count": 15,
   "metadata": {},
   "outputs": [
    {
     "name": "stdout",
     "output_type": "stream",
     "text": [
      "12\n",
      "360\n",
      "12:0\n",
      "0.00\n"
     ]
    }
   ],
   "source": [
    "N=int(input())\n",
    "L=float(input())\n",
    "UTC=0\n",
    "Ti=((N/360)*L)*60\n",
    "Time= int(Ti//60) \n",
    "ji=int(Ti-((Ti//60)*60))\n",
    "# IST=print(\"{}{}{}\".format(Time,\":\",ji))\n",
    "def clockangle(hour, minute):\n",
    "    ans = abs((hour * 30 + minute * 0.5) - (minute * 6))\n",
    "    return min(360-ans,ans)\n",
    "Ans=clockangle(Time,ji)\n",
    "print(\"%0.2f\" %Ans)"
   ]
  },
  {
   "cell_type": "code",
   "execution_count": 18,
   "metadata": {},
   "outputs": [
    {
     "name": "stdout",
     "output_type": "stream",
     "text": [
      "12\n",
      "360\n",
      "0.00\n"
     ]
    }
   ],
   "source": [
    "N=int(input())\n",
    "L=float(input())\n",
    "UTC=0\n",
    "Ti=((N/360)*L)*60\n",
    "Time= int(Ti//60) \n",
    "ji=int(Ti-((Ti//60)*60))\n",
    "#IST=print(\"{}{}{}\".format(Time,\":\",ji))\n",
    "def clockangle(hour, minute):\n",
    "    ans = abs((hour * 30 + minute * 0.5) - (minute * 6))\n",
    "    return min(360-ans,ans)\n",
    "Ans=clockangle(Time,ji)\n",
    "print(\"%0.2f\" %Ans)"
   ]
  },
  {
   "cell_type": "code",
   "execution_count": 1,
   "metadata": {},
   "outputs": [
    {
     "name": "stdout",
     "output_type": "stream",
     "text": [
      "2\n",
      "10\n",
      "4\n",
      "40\n",
      "6\n"
     ]
    }
   ],
   "source": [
    "testcases = int(input())\n",
    "for i in range(testcases):\n",
    "    value = int(input())\n",
    "    count = 0\n",
    "    while value >= 1:\n",
    "        value = value // 2\n",
    "        count = count + 1\n",
    "    print(count)"
   ]
  },
  {
   "cell_type": "code",
   "execution_count": 2,
   "metadata": {},
   "outputs": [
    {
     "name": "stdout",
     "output_type": "stream",
     "text": [
      "2 3 5\n"
     ]
    },
    {
     "ename": "ValueError",
     "evalue": "invalid literal for int() with base 10: '2 3 5'",
     "output_type": "error",
     "traceback": [
      "\u001b[1;31m---------------------------------------------------------------------------\u001b[0m",
      "\u001b[1;31mValueError\u001b[0m                                Traceback (most recent call last)",
      "\u001b[1;32m<ipython-input-2-0de32f832df3>\u001b[0m in \u001b[0;36m<module>\u001b[1;34m\u001b[0m\n\u001b[0;32m      1\u001b[0m \u001b[1;32mimport\u001b[0m \u001b[0mmath\u001b[0m\u001b[1;33m\u001b[0m\u001b[1;33m\u001b[0m\u001b[0m\n\u001b[1;32m----> 2\u001b[1;33m \u001b[0mC\u001b[0m\u001b[1;33m=\u001b[0m\u001b[0mint\u001b[0m\u001b[1;33m(\u001b[0m\u001b[0minput\u001b[0m\u001b[1;33m(\u001b[0m\u001b[1;33m)\u001b[0m\u001b[1;33m)\u001b[0m\u001b[1;33m\u001b[0m\u001b[1;33m\u001b[0m\u001b[0m\n\u001b[0m\u001b[0;32m      3\u001b[0m \u001b[0mT\u001b[0m\u001b[1;33m=\u001b[0m\u001b[1;33m{\u001b[0m\u001b[1;33m}\u001b[0m\u001b[1;33m\u001b[0m\u001b[1;33m\u001b[0m\u001b[0m\n\u001b[0;32m      4\u001b[0m \u001b[0mcollision\u001b[0m\u001b[1;33m=\u001b[0m\u001b[1;36m0\u001b[0m\u001b[1;33m\u001b[0m\u001b[1;33m\u001b[0m\u001b[0m\n\u001b[0;32m      5\u001b[0m \u001b[1;32mfor\u001b[0m \u001b[0mi\u001b[0m \u001b[1;32min\u001b[0m \u001b[0mrange\u001b[0m\u001b[1;33m(\u001b[0m\u001b[0mC\u001b[0m\u001b[1;33m)\u001b[0m\u001b[1;33m:\u001b[0m\u001b[1;33m\u001b[0m\u001b[1;33m\u001b[0m\u001b[0m\n",
      "\u001b[1;31mValueError\u001b[0m: invalid literal for int() with base 10: '2 3 5'"
     ]
    }
   ],
   "source": [
    "import math\n",
    "C=int(input())\n",
    "T={}\n",
    "collision=0\n",
    "for i in range(C):\n",
    "    x,y,v=list(map(int,input().split()))\n",
    "    t=math.sqrt(((x/v)*2+(y/v)*2))\n",
    "    if(T.get(t)==None):\n",
    "        T[t]=1\n",
    "    else:\n",
    "        T[t]=T[t]+1\n",
    "for keys in T:\n",
    "    if(T[keys]!=1):\n",
    "        collision=collision+(T[keys]*(T[keys]-1))/2\n",
    "print(int(collision))"
   ]
  },
  {
   "cell_type": "code",
   "execution_count": 3,
   "metadata": {},
   "outputs": [
    {
     "name": "stdout",
     "output_type": "stream",
     "text": [
      "2\n",
      "5\n",
      "3\n",
      "10\n",
      "4\n"
     ]
    }
   ],
   "source": [
    "testcases = int(input())\n",
    "for i in range(1,testcases+1):\n",
    "    value = int(input())\n",
    "    count = 0\n",
    "    while value >= 1:\n",
    "        value = value // 2\n",
    "        count = count + 1\n",
    "    print(count)"
   ]
  },
  {
   "cell_type": "code",
   "execution_count": 15,
   "metadata": {},
   "outputs": [
    {
     "name": "stdout",
     "output_type": "stream",
     "text": [
      "2 100\n",
      "32176"
     ]
    }
   ],
   "source": [
    "def prime(num):\n",
    "    c=0\n",
    "    for i in range(2,num+1):\n",
    "        if num%i==0:\n",
    "            c+=1\n",
    "    return c\n",
    "\n",
    "n,m=input().split()\n",
    "n=int(n)\n",
    "m=int(m)\n",
    "y=[]\n",
    "\n",
    "for i in range(n,m+1):\n",
    "    if prime(i)<=1:\n",
    "        y.append(i)\n",
    "\n",
    "x=[]\n",
    "for i in y:\n",
    "    for j in y:\n",
    "        new=int(str(i)+str(j))\n",
    "    if prime(new)<2 and new not in x:\n",
    "        x.append(new)\n",
    "\n",
    "a=min(x)\n",
    "b=max(x)\n",
    "\n",
    "for i in range(len(x)-2):\n",
    "    c=a+b\n",
    "    a=b\n",
    "    b=c\n",
    "print(c,end=\"\")"
   ]
  },
  {
   "cell_type": "code",
   "execution_count": 16,
   "metadata": {},
   "outputs": [
    {
     "data": {
      "text/plain": [
       "2"
      ]
     },
     "execution_count": 16,
     "metadata": {},
     "output_type": "execute_result"
    }
   ],
   "source": [
    "def prime(num):\n",
    "    c=0\n",
    "    for i in range(2,num+1):\n",
    "        if num%i==0:\n",
    "            c+=1\n",
    "    return c\n",
    "prime(9)"
   ]
  },
  {
   "cell_type": "code",
   "execution_count": 33,
   "metadata": {},
   "outputs": [
    {
     "name": "stdout",
     "output_type": "stream",
     "text": [
      "10\n",
      "1000 1500\n",
      "10000000\n",
      "10"
     ]
    }
   ],
   "source": [
    "#television\n",
    "n=int(input())\n",
    "n1,n2=map(int,input().split())\n",
    "target=int(input())\n",
    "list1,list2=[],[]\n",
    "cost,f=0,0\n",
    "l=[31,28,31,30,31,30,31,31,30,31,30,31]\n",
    "for j in range(len(l)):\n",
    "    for k in range(1,l[j]+1):\n",
    "        list1.append((6-(j+1))**2+abs(k-15))\n",
    "    list2.append(list1)\n",
    "    list1=[]\n",
    "for i in range(n+1):\n",
    "    for j in list2:\n",
    "        for k in j:\n",
    "            if(k>=n):\n",
    "                t=n-i\n",
    "                cost=cost+(i*n1+t*n2)\n",
    "            else:\n",
    "                h=n-i\n",
    "                t=k-h\n",
    "                if(t<=0):\n",
    "                    cost=cost+(k*n2)\n",
    "                else:\n",
    "                    cost=cost+(t*n1+h*n2)\n",
    "        f=f+cost\n",
    "        cost=0\n",
    "    if(f>=target):\n",
    "        print(i,end=\"\")\n",
    "        break\n",
    "    else:\n",
    "        f=0\n",
    "else:\n",
    "    print(n,end=\"\")"
   ]
  },
  {
   "cell_type": "code",
   "execution_count": 28,
   "metadata": {},
   "outputs": [
    {
     "name": "stdout",
     "output_type": "stream",
     "text": [
      "20\n",
      "1500 1000\n",
      "7000000\n",
      "20\n"
     ]
    }
   ],
   "source": [
    "n=int(input())\n",
    "r1,r2=map(int,input().split())\n",
    "target=int(input())\n",
    "x,y=[],[]\n",
    "cost,f=0,0\n",
    "l=[31,28,31,30,31,30,31,31,30,31,30,31]\n",
    "for j in range(len(l)):\n",
    "    for k in range(1,l[j]+1):\n",
    "        x.append((6-(j+1))**2+abs(k-15))\n",
    "    y.append(list1)\n",
    "    x=[]\n",
    "for i in range(n+1):\n",
    "    for j in y:\n",
    "        for k in j:\n",
    "            if(k>=n):\n",
    "                t=n-i\n",
    "                cost=cost+(i*r1+t*r2)\n",
    "            else:\n",
    "                h=n-i\n",
    "                t=k-h\n",
    "                if(t<=0):\n",
    "                    cost=cost+(k*r2)\n",
    "                else:\n",
    "                    cost=cost+(t*r1+h*r2)\n",
    "        f=f+cost\n",
    "        cost=0\n",
    "    if(f>=target):\n",
    "        print(i)\n",
    "        break\n",
    "    else:\n",
    "        f=0\n",
    "else:\n",
    "    print(n)"
   ]
  },
  {
   "cell_type": "code",
   "execution_count": 25,
   "metadata": {},
   "outputs": [
    {
     "name": "stdout",
     "output_type": "stream",
     "text": [
      "1\n",
      "5 12 1\n",
      "0\n"
     ]
    }
   ],
   "source": [
    "import math\n",
    "c=int(input())\n",
    "T={}\n",
    "res=0\n",
    "for i in range(c):\n",
    "    x, y, v = list(map(int, input().split()))\n",
    "    t=math.sqrt((x/v)**2+(y/v)**2)\n",
    "    if(T.get(t)==None):\n",
    "        T[t]=1\n",
    "    else:\n",
    "        T[t]=T[t]+1\n",
    "        \n",
    "for j in T:\n",
    "    if(T[j]!=1):\n",
    "        res=res+(T[j]*(T[j]-1))//2\n",
    "print(res)\n",
    "        \n",
    "    "
   ]
  },
  {
   "cell_type": "code",
   "execution_count": 31,
   "metadata": {},
   "outputs": [
    {
     "ename": "IndentationError",
     "evalue": "unindent does not match any outer indentation level (<tokenize>, line 12)",
     "output_type": "error",
     "traceback": [
      "\u001b[1;36m  File \u001b[1;32m\"<tokenize>\"\u001b[1;36m, line \u001b[1;32m12\u001b[0m\n\u001b[1;33m    y.append(x)\u001b[0m\n\u001b[1;37m    ^\u001b[0m\n\u001b[1;31mIndentationError\u001b[0m\u001b[1;31m:\u001b[0m unindent does not match any outer indentation level\n"
     ]
    }
   ],
   "source": [
    "\n",
    "n=int(input())\n",
    "n1,n2=map(int,input().split())\n",
    "target=int(input())\n",
    "\n",
    "x,y=[],[]\n",
    "cost,f=0,0\n",
    "l=[31,28,31,30,31,30,31,31,30,31,30,31]\n",
    "\n",
    "for j in range(len(l)):\n",
    "\tfor k in range(1,l[j]+1):\n",
    "        x.append((6-(j+1))**2+abs(k-15))\n",
    "    y.append(x)\n",
    "    x=[]\n",
    "    \n",
    "for i in range(n+1):\n",
    "    for j in y:\n",
    "        for k in j:\n",
    "            if(k>=n):\n",
    "                    t=n-i\n",
    "        cost=cost+(i*n1+t*n2)\n",
    "      else:\n",
    "      \th=n-i\n",
    "        t=k-h\n",
    "        if(t<=0):\n",
    "        \tcost=cost+(k*n2)\n",
    "        else:\n",
    "        \tcost=cost+(t*n1+h*n2)\n",
    "    f=f+cost\n",
    "    cost=0\n",
    "  if(f>=target):\n",
    "  \tprint(i)\n",
    "    break\n",
    "  else:\n",
    "  \tf=0\n",
    "else:\n",
    "\tprint(n)"
   ]
  },
  {
   "cell_type": "code",
   "execution_count": 37,
   "metadata": {},
   "outputs": [
    {
     "name": "stdout",
     "output_type": "stream",
     "text": [
      "1\n",
      "1\n",
      "1\n",
      "-1\n",
      "1.2\n",
      "1.000000\n"
     ]
    }
   ],
   "source": [
    "\n",
    "import math\n",
    "x1 = int(input())\n",
    "y1 = int(input())\n",
    "x2 = int(input())\n",
    "y2 = int(input())\n",
    "f =float(input())\n",
    "if(y1+y2==0):\n",
    "\ta=x1*f\n",
    "a=math.floor(a)\n",
    "print(\"{0:.6f}\".format(a))  \n"
   ]
  },
  {
   "cell_type": "code",
   "execution_count": 35,
   "metadata": {},
   "outputs": [
    {
     "name": "stdout",
     "output_type": "stream",
     "text": [
      "2 40\n",
      "13158006689\n"
     ]
    }
   ],
   "source": [
    "# step 1\n",
    "def find_firsttwo(start,end):    \n",
    "    prime_li=[]\n",
    "    for num in range(start,end + 1):  \n",
    "        if num > 1:  \n",
    "            for i in range(2,num):  \n",
    "                if (num % i) == 0:  \n",
    "                    break  \n",
    "            else:  \n",
    "                prime_li.append(num)\n",
    "\n",
    "    # step 2\n",
    "    combination_li = []\n",
    "    for i in range(len(prime_li)):\n",
    "        for j in range(len(prime_li)):\n",
    "            if i == j or int(str(prime_li[i])+str(prime_li[j])) in combination_li:\n",
    "                continue\n",
    "            combination_li.append(int(str(prime_li[i])+str(prime_li[j])))\n",
    "    \n",
    "    #step 3\n",
    "    prime_combinations =[]\n",
    "    for num in combination_li:\n",
    "        if num > 1:  \n",
    "            for i in range(2, num): \n",
    "                if (num % i) == 0: \n",
    "                    break\n",
    "            else: \n",
    "                prime_combinations.append(num)\n",
    "\n",
    "    prime_combinations.sort()\n",
    "    \n",
    "    # step 4\n",
    "    smallest = prime_combinations[0]\n",
    "    largest = prime_combinations[len(prime_combinations)-1]\n",
    "    return [smallest,largest,len(prime_combinations)]\n",
    "\n",
    "# step 5\n",
    "def find_last(largest,smallest,n): \n",
    "    if n < 0: \n",
    "        return -1 \n",
    "    elif n == smallest: \n",
    "        return smallest \n",
    "    elif n == largest: \n",
    "        return largest\n",
    "    else: \n",
    "        for i in range(2,n): \n",
    "            temp = largest + smallest \n",
    "            smallest = largest \n",
    "            largest = temp \n",
    "        return largest \n",
    "\n",
    "start,end = list(map(int,input().split()))\n",
    "smallest,largest,length = find_firsttwo(start,end)\n",
    "print(find_last(largest,smallest,length))"
   ]
  },
  {
   "cell_type": "markdown",
   "metadata": {},
   "source": [
    "#include<stdio.h>\n",
    "unsigned long long int combinations(unsigned long long int n,unsigned long long int r)\n",
    "{\n",
    "  unsigned long long int itr;\n",
    "  unsigned long long int numerator=1,denominator=1,result;\n",
    "  for(itr=1;itr<=r;itr++)\n",
    "  {\n",
    "    denominator=denominator*itr;\n",
    "    numerator=numerator*(n-(itr-1));\n",
    "  }\n",
    "  result=numerator/denominator;\n",
    "  return result;\n",
    "}\n",
    "\n",
    "\n",
    "unsigned long long int calcgcd(unsigned long long int n1,unsigned long long int n2)\n",
    "{\n",
    "  unsigned long long int rem;\n",
    "  while(1)\n",
    "  {\n",
    "  rem=n1%n2;\n",
    "  if(rem==0)\n",
    "    return n2;\n",
    "  if(rem!=0)\n",
    "  {\n",
    "    n1=n2;\n",
    "    n2=rem;\n",
    "  }\n",
    "  }\n",
    "}\n",
    "unsigned long long int mulInv(unsigned long long int a)\n",
    "{\n",
    " unsigned long long int m=1000000007,itr,b;\n",
    "  for(itr=1;itr<m;itr++)\n",
    "  {\n",
    "    if((itr*m+1)%a==0)\n",
    "    {\n",
    "      b=(itr*m+1)/a;\n",
    "      break;\n",
    "    }\n",
    "  }\n",
    "  return b;\n",
    "}\n",
    "int main()\n",
    "{\n",
    "  int t,itr;\n",
    "  scanf(\"%d\",&t);\n",
    "  for(itr=1;itr<=t;itr++)\n",
    "  {\n",
    "  unsigned long long int qu,l,c,u;\n",
    "  unsigned long long int wc,wf,p,q,gcd,result;\n",
    "  scanf(\"%llu %llu %llu\",&qu,&l,&c);\n",
    "  u=qu-l;\n",
    "  wc=combinations(qu,c);\n",
    "  wf=combinations(u,c);\n",
    "  p=wc-wf;\n",
    "  q=wc;\n",
    "  gcd=calcgcd(p,q);\n",
    "  if(gcd!=1)\n",
    "  {\n",
    "    p=p/gcd;\n",
    "    q=q/gcd;\n",
    "  }\n",
    "  result=(p*mulInv(q))%1000000007;\n",
    "  printf(\"%llu\\n\",result);\n",
    "  }\n",
    "  \n",
    "  return 0;\n",
    "}"
   ]
  },
  {
   "cell_type": "code",
   "execution_count": null,
   "metadata": {},
   "outputs": [],
   "source": []
  },
  {
   "cell_type": "code",
   "execution_count": null,
   "metadata": {},
   "outputs": [],
   "source": [
    " \n",
    "def combinations(n, r)\n",
    "    numerator=1\n",
    "    denominator=1\n",
    "    result=0\n",
    "    for i in range(1,r+1):\n",
    "        denominator=denominator*itr\n",
    "        numerator=numerator*(n-(itr-1))\n",
    "        result=numerator/denominator\n",
    "    return result\n",
    "def calcgcd(n1,n2)\n"
   ]
  },
  {
   "cell_type": "code",
   "execution_count": 3,
   "metadata": {},
   "outputs": [
    {
     "name": "stdout",
     "output_type": "stream",
     "text": [
      "1\n",
      "4 2 1\n",
      "1\n",
      "500000004"
     ]
    }
   ],
   "source": [
    "def gcd(p,q):\n",
    "    while(q!=0):\n",
    "        p,q=q,p%q\n",
    "    print(p)\n",
    "    return p\n",
    "def is_coprime(x,y):\n",
    "    return gcd(x,y)==1\n",
    "c =int(input())\n",
    "for i in range(c):\n",
    "    n,t,m=input().split()\n",
    "    n=int(n)\n",
    "    t=int(t)\n",
    "    m=int(m)\n",
    "    \n",
    "    if (is_coprime(t,m)==True):\n",
    "        y=pow(t,1000000007-2,1000000007)\n",
    "        print(y,end=\"\")"
   ]
  },
  {
   "cell_type": "code",
   "execution_count": 5,
   "metadata": {},
   "outputs": [
    {
     "name": "stdout",
     "output_type": "stream",
     "text": [
      "1\n",
      "1\n",
      "1\n",
      "-1\n",
      "1.2\n",
      "1.000000\n"
     ]
    }
   ],
   "source": [
    "import math\n",
    "x1 = int(input())\n",
    "y1 = int(input())\n",
    "x2 = int(input())\n",
    "y2 = int(input())\n",
    "f =float(input())\n",
    "try: \n",
    "    (y1+y2)==0\n",
    "    a=y1*f\n",
    "except:\n",
    "  pass\n",
    "a=math.floor(a)\n",
    "print(\"{0:.6f}\".format(a))  \n"
   ]
  },
  {
   "cell_type": "code",
   "execution_count": 23,
   "metadata": {},
   "outputs": [
    {
     "name": "stdout",
     "output_type": "stream",
     "text": [
      "42.195,42.195,42.195,42.195,42.195,38.30,39.40,q\n",
      "[39.4, 38.3]\n"
     ]
    }
   ],
   "source": [
    "# inputs \"42.195,42.195,42.195,42.195,42.195,38.30,39.40,q\"\n",
    "st = input().split(',')\n",
    "R=[]\n",
    "for i in st:\n",
    "    if i=='q':\n",
    "        pass\n",
    "    else:\n",
    "        R.append(float(i))\n",
    "# print(R)\n",
    "N=R.count(42.195)\n",
    "for i in range(N):\n",
    "    R.remove(42.195)\n",
    "    \n",
    "# print(R)\n",
    "R.reverse()\n",
    "\n",
    "if len(R)>3:\n",
    "    print(R[:3])\n",
    "else:\n",
    "    print(R)\n",
    "    \n"
   ]
  },
  {
   "cell_type": "code",
   "execution_count": 24,
   "metadata": {},
   "outputs": [
    {
     "name": "stdout",
     "output_type": "stream",
     "text": [
      "3\n",
      "11 2 4\n",
      "4 5 6\n",
      "10 8 -12\n",
      "[[11, 2, 4], [4, 5, 6], [10, 8, -12]]\n"
     ]
    }
   ],
   "source": [
    "def diagonalDifference(arr):\n",
    "    sum1 = 0\n",
    "    sum2 = 0\n",
    "    for i in range(len(arr)):\n",
    "        sum1+=arr[i][i]\n",
    "        sum2+=arr[i][n-i-1]\n",
    "    \n",
    "    return abs(sum1-sum2)\n",
    "n = int(input())\n",
    "arr = []\n",
    "for _ in range(n):\n",
    "        arr.append(list(map(int, input().rstrip().split())))\n",
    "print(arr)\n",
    "result = diagonalDifference(arr)\n"
   ]
  },
  {
   "cell_type": "code",
   "execution_count": 25,
   "metadata": {},
   "outputs": [
    {
     "name": "stdout",
     "output_type": "stream",
     "text": [
      "15\n"
     ]
    }
   ],
   "source": [
    "print(diagonalDifference(arr))"
   ]
  },
  {
   "cell_type": "code",
   "execution_count": 26,
   "metadata": {},
   "outputs": [
    {
     "name": "stdout",
     "output_type": "stream",
     "text": [
      "2017\n",
      "13.09.2017\n"
     ]
    }
   ],
   "source": [
    "def dayOfProgrammer(year):\n",
    "    if year>=1700 and year<=1917:\n",
    "        if year%4==0:\n",
    "            return \"12.09.\"+str(year)\n",
    "        else:\n",
    "            return \"13.09.\"+str(year)\n",
    "    elif year==1918:\n",
    "        return \"26.09.\"+str(year)\n",
    "    else:\n",
    "        a=not(year%100)\n",
    "        if (( year%400 == 0)or (( year%4 == 0 ) and ( year%100 != 0))):\n",
    "            return \"12.09.\"+str(year)\n",
    "        else:\n",
    "            return \"13.09.\"+str(year)\n",
    "year = int(input().strip())\n",
    "result = dayOfProgrammer(year)\n",
    "print(result)"
   ]
  },
  {
   "cell_type": "code",
   "execution_count": 27,
   "metadata": {},
   "outputs": [
    {
     "name": "stdout",
     "output_type": "stream",
     "text": [
      "6\n",
      "2\n",
      "1\n"
     ]
    }
   ],
   "source": [
    "def pageCount(n, p):\n",
    "    return min(p//2, n//2 - p//2)\n",
    "n = int(input())\n",
    "p = int(input())\n",
    "result = pageCount(n, p)\n",
    "print(result)\n"
   ]
  },
  {
   "cell_type": "code",
   "execution_count": 29,
   "metadata": {},
   "outputs": [],
   "source": [
    "x=['apple','mangoes','plum','pineapple','guava','raddish','carrot']"
   ]
  },
  {
   "cell_type": "code",
   "execution_count": 32,
   "metadata": {},
   "outputs": [
    {
     "data": {
      "text/plain": [
       "['apple', 'carrot', 'guava', 'mangoes', 'pineapple', 'plum', 'raddish']"
      ]
     },
     "execution_count": 32,
     "metadata": {},
     "output_type": "execute_result"
    }
   ],
   "source": [
    "x.sort()\n",
    "x"
   ]
  },
  {
   "cell_type": "code",
   "execution_count": 38,
   "metadata": {},
   "outputs": [],
   "source": [
    "x.sort(key=len)"
   ]
  },
  {
   "cell_type": "code",
   "execution_count": 39,
   "metadata": {},
   "outputs": [
    {
     "data": {
      "text/plain": [
       "['plum', 'apple', 'guava', 'carrot', 'mangoes', 'raddish', 'pineapple']"
      ]
     },
     "execution_count": 39,
     "metadata": {},
     "output_type": "execute_result"
    }
   ],
   "source": [
    "x"
   ]
  },
  {
   "cell_type": "code",
   "execution_count": 40,
   "metadata": {},
   "outputs": [
    {
     "data": {
      "text/plain": [
       "['plum', 'apple', 'guava', 'carrot']"
      ]
     },
     "execution_count": 40,
     "metadata": {},
     "output_type": "execute_result"
    }
   ],
   "source": [
    "y=['apple','plum','guava','carrot']\n",
    "y.sort(key=len)\n",
    "y"
   ]
  },
  {
   "cell_type": "code",
   "execution_count": null,
   "metadata": {},
   "outputs": [],
   "source": []
  }
 ],
 "metadata": {
  "kernelspec": {
   "display_name": "Python 3",
   "language": "python",
   "name": "python3"
  },
  "language_info": {
   "codemirror_mode": {
    "name": "ipython",
    "version": 3
   },
   "file_extension": ".py",
   "mimetype": "text/x-python",
   "name": "python",
   "nbconvert_exporter": "python",
   "pygments_lexer": "ipython3",
   "version": "3.7.6"
  }
 },
 "nbformat": 4,
 "nbformat_minor": 4
}
